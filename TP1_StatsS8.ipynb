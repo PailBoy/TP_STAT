{
 "cells": [
  {
   "cell_type": "markdown",
   "id": "58388942",
   "metadata": {},
   "source": [
    "# TP1 : Rock-paper-scissors"
   ]
  },
  {
   "cell_type": "markdown",
   "id": "db1f2f05",
   "metadata": {},
   "source": [
    "## Lab session"
   ]
  },
  {
   "cell_type": "markdown",
   "id": "4d72b7ba",
   "metadata": {},
   "source": [
    "### Markov Chain simulation"
   ]
  },
  {
   "cell_type": "code",
   "id": "ec0f06cf",
   "metadata": {
    "ExecuteTime": {
     "end_time": "2025-01-27T13:10:44.099171Z",
     "start_time": "2025-01-27T13:10:44.082678Z"
    }
   },
   "source": [
    "from random import random\n",
    "\n",
    "import numpy as np\n",
    "from tkinter import*\n",
    "import matplotlib.pyplot as plt\n",
    "import matplotlib\n",
    "matplotlib.use(\"TkAgg\")\n",
    "from matplotlib.backends.backend_tkagg import FigureCanvasTkAgg\n",
    "from matplotlib.figure import Figure"
   ],
   "outputs": [],
   "execution_count": 2
  },
  {
   "cell_type": "markdown",
   "id": "e7c6dc3e",
   "metadata": {},
   "source": [
    "### Question 1 : Create transition matrix \"P\"."
   ]
  },
  {
   "cell_type": "code",
   "id": "703b9eb8",
   "metadata": {
    "ExecuteTime": {
     "end_time": "2025-01-27T13:12:01.015184Z",
     "start_time": "2025-01-27T13:12:00.157751Z"
    }
   },
   "source": [
    "P = np.array([\n",
    "    [0.8, 0.1, 0.1],\n",
    "    [0.3, 0.4, 0.3],\n",
    "    [0.1, 0.1, 0.8]\n",
    "])"
   ],
   "outputs": [],
   "execution_count": 3
  },
  {
   "cell_type": "markdown",
   "id": "d314817e",
   "metadata": {},
   "source": [
    "### Question 2 : Create the function \"randomPFS(a,b)\". Explain your algorithm."
   ]
  },
  {
   "cell_type": "code",
   "id": "6be96c33",
   "metadata": {
    "ExecuteTime": {
     "end_time": "2025-01-27T13:12:13.589788Z",
     "start_time": "2025-01-27T13:12:13.564764Z"
    }
   },
   "source": [
    "def randomPFS(a,b):\n",
    "    return np.random.choice([0, 1, 2], p=[a, b, 1 - a - b])"
   ],
   "outputs": [],
   "execution_count": 4
  },
  {
   "cell_type": "markdown",
   "id": "88429af3",
   "metadata": {},
   "source": [
    "### Question 3 : Create the function \"sampleMarkov(P,n)\"."
   ]
  },
  {
   "cell_type": "code",
   "id": "3e37627f",
   "metadata": {
    "ExecuteTime": {
     "end_time": "2025-01-27T13:13:37.415953Z",
     "start_time": "2025-01-27T13:13:37.401950Z"
    }
   },
   "source": [
    "def sampleMarkov(P, n):\n",
    "    states = [0, 1, 2]  # Possible states\n",
    "    chain = [np.random.choice(states)]  # Initialize with a random state\n",
    "    for _ in range(1, n):\n",
    "        current_state = chain[-1]\n",
    "        next_state = np.random.choice(states, p=P[current_state])\n",
    "        chain.append(next_state)\n",
    "    return chain\n"
   ],
   "outputs": [],
   "execution_count": 5
  },
  {
   "metadata": {
    "ExecuteTime": {
     "end_time": "2025-01-27T13:14:00.533446Z",
     "start_time": "2025-01-27T13:13:59.061339Z"
    }
   },
   "cell_type": "code",
   "source": [
    "n = 100\n",
    "markov_chain = sampleMarkov(P, n)\n",
    "print(\"Generated Markov Chain:\", markov_chain)"
   ],
   "id": "ef340f7162205c4a",
   "outputs": [
    {
     "name": "stdout",
     "output_type": "stream",
     "text": [
      "Generated Markov Chain: [np.int64(2), np.int64(2), np.int64(2), np.int64(2), np.int64(2), np.int64(2), np.int64(2), np.int64(2), np.int64(2), np.int64(2), np.int64(1), np.int64(1), np.int64(1), np.int64(1), np.int64(0), np.int64(0), np.int64(0), np.int64(0), np.int64(0), np.int64(2), np.int64(2), np.int64(2), np.int64(2), np.int64(2), np.int64(0), np.int64(0), np.int64(2), np.int64(0), np.int64(0), np.int64(0), np.int64(0), np.int64(0), np.int64(0), np.int64(0), np.int64(2), np.int64(2), np.int64(2), np.int64(2), np.int64(2), np.int64(2), np.int64(2), np.int64(2), np.int64(2), np.int64(2), np.int64(2), np.int64(2), np.int64(2), np.int64(2), np.int64(2), np.int64(2), np.int64(2), np.int64(2), np.int64(1), np.int64(0), np.int64(0), np.int64(0), np.int64(2), np.int64(2), np.int64(2), np.int64(2), np.int64(2), np.int64(2), np.int64(2), np.int64(2), np.int64(2), np.int64(0), np.int64(0), np.int64(0), np.int64(1), np.int64(0), np.int64(2), np.int64(2), np.int64(2), np.int64(0), np.int64(1), np.int64(1), np.int64(0), np.int64(0), np.int64(0), np.int64(1), np.int64(0), np.int64(0), np.int64(1), np.int64(2), np.int64(2), np.int64(2), np.int64(2), np.int64(2), np.int64(2), np.int64(2), np.int64(2), np.int64(2), np.int64(2), np.int64(2), np.int64(2), np.int64(2), np.int64(2), np.int64(2), np.int64(2), np.int64(2)]\n"
     ]
    }
   ],
   "execution_count": 6
  },
  {
   "cell_type": "markdown",
   "id": "31021f0d",
   "metadata": {},
   "source": [
    "### Question 4 : Comment on the obtained list."
   ]
  },
  {
   "metadata": {
    "ExecuteTime": {
     "end_time": "2025-01-27T13:20:37.889368Z",
     "start_time": "2025-01-27T13:19:16.487340Z"
    }
   },
   "cell_type": "code",
   "source": [
    "print(\"Analysis of the Markov Chain:\")\n",
    "counts = {0: markov_chain.count(0), 1: markov_chain.count(1), 2: markov_chain.count(2)}\n",
    "for state, count in counts.items():\n",
    "    print(f\"State {state}: {count} occurrences\")\n",
    "\n",
    "# Visualization\n",
    "plt.bar(counts.keys(), counts.values(), tick_label=[\"Rock\", \"Paper\", \"Scissors\"])\n",
    "plt.title(\"State Distribution in the Generated Markov Chain\")\n",
    "plt.xlabel(\"States\")\n",
    "plt.ylabel(\"Frequency\")\n",
    "plt.show()"
   ],
   "id": "b025878ff316c3f8",
   "outputs": [
    {
     "name": "stdout",
     "output_type": "stream",
     "text": [
      "Analysis of the Markov Chain:\n",
      "State 0: 27 occurrences\n",
      "State 1: 10 occurrences\n",
      "State 2: 63 occurrences\n"
     ]
    }
   ],
   "execution_count": 10
  },
  {
   "cell_type": "markdown",
   "id": "072e97ad",
   "metadata": {},
   "source": []
  },
  {
   "cell_type": "markdown",
   "id": "30906f2d",
   "metadata": {},
   "source": [
    "### Game implementation"
   ]
  },
  {
   "cell_type": "markdown",
   "id": "261d90a9",
   "metadata": {},
   "source": [
    "### Question 7 : Analyse and fill out the code below to set a uniform random strategy for the computer. What does the graph represent? (Run the four following cell to launch the game interface)."
   ]
  },
  {
   "cell_type": "code",
   "id": "35dffaec",
   "metadata": {
    "ExecuteTime": {
     "end_time": "2025-01-27T13:28:21.451547Z",
     "start_time": "2025-01-27T13:28:21.445528Z"
    }
   },
   "source": [
    "#Rule of the game\n",
    "dico=[\"Pierre\",\"Feuille\",\"Ciseaux\"]\n",
    "rule=np.array([[0,-1,1],[1,0,-1],[-1,1,0]]) #1 for a winning move, -1 for losing \n",
    "# and 0 for equality\n",
    "\n",
    "\n"
   ],
   "outputs": [],
   "execution_count": 11
  },
  {
   "cell_type": "code",
   "id": "d1e529a8",
   "metadata": {
    "ExecuteTime": {
     "end_time": "2025-01-27T13:28:23.865158Z",
     "start_time": "2025-01-27T13:28:23.855916Z"
    }
   },
   "source": [
    "#Initialisation\n",
    "humanMoves=[]\n",
    "victories=[]\n",
    "Score=0\n",
    "ScoreList=[]"
   ],
   "outputs": [],
   "execution_count": 12
  },
  {
   "metadata": {
    "ExecuteTime": {
     "end_time": "2025-01-27T13:35:25.814144Z",
     "start_time": "2025-01-27T13:35:25.797840Z"
    }
   },
   "cell_type": "code",
   "source": [
    "import random\n",
    "x = random.randint(0,2)\n",
    "x"
   ],
   "id": "84bd623e553108cd",
   "outputs": [
    {
     "data": {
      "text/plain": [
       "0"
      ]
     },
     "execution_count": 21,
     "metadata": {},
     "output_type": "execute_result"
    }
   ],
   "execution_count": 21
  },
  {
   "cell_type": "code",
   "id": "eea72c41",
   "metadata": {
    "ExecuteTime": {
     "end_time": "2025-01-27T13:36:40.021759Z",
     "start_time": "2025-01-27T13:36:40.016759Z"
    }
   },
   "source": [
    "#game program\n",
    "def play(a):\n",
    "    #Machine decision making\n",
    "    machineMove= random.randint(0,2) # à compléter à la question 7\n",
    "    \n",
    "    #Human move save\n",
    "    humanMoves.append(a)\n",
    "    \n",
    "    #Save result\n",
    "    victories.append(rule[humanMoves[-1],machineMove])\n",
    "    \n",
    "    #Total score of human\n",
    "    Score=sum(victories)\n",
    "    ScoreList.append(Score)\n",
    "    \n",
    "    #Plotting\n",
    "    message1=\"Human :\",dico[humanMoves[-1]],\"Machine :\",dico[machineMove],\"gain for human :\",rule[humanMoves[-1],machineMove]\n",
    "    \n",
    "    message2=\"Total score for human :\",Score\n",
    "    \n",
    "    return (message1,message2,victories,Score,ScoreList)"
   ],
   "outputs": [],
   "execution_count": 23
  },
  {
   "cell_type": "code",
   "id": "db27d00e",
   "metadata": {
    "ExecuteTime": {
     "end_time": "2025-01-27T13:38:47.982898Z",
     "start_time": "2025-01-27T13:37:40.089509Z"
    }
   },
   "source": [
    "\n",
    "#Man-Machine Interface\n",
    "fenetre=Tk()\n",
    "fenetre.title(\"your turn to play\")\n",
    "fenetre.minsize(width=600,height=600)\n",
    "formulaire=Canvas(fenetre)\n",
    "formulaire.pack()\n",
    "\n",
    "label1=Label(formulaire)\n",
    "label1.grid(row=3,column=1)\n",
    "\n",
    "label2=Label(formulaire)\n",
    "label2.grid(row=4,column=1)\n",
    "\n",
    "\n",
    "def plotRock():\n",
    "    Mes1,Mes2,Vict,score,scorelist=play(0)\n",
    "    label1.config(text=Mes1)\n",
    "    label2.config(text=Mes2)\n",
    "    nb_parties=len(scorelist)\n",
    "    plt.plot(scorelist)\n",
    "    plt.xlim(0,nb_parties)\n",
    "    plt.ylim(-nb_parties,nb_parties)\n",
    "    plt.xlabel(\"number of games\")\n",
    "    plt.ylabel(\"Your score\")\n",
    "    plt.title(\"History\")\n",
    "    plt.show()\n",
    "    \n",
    "      \n",
    "def plotPaper():\n",
    "    Mes1,Mes2,Vict,score,scorelist=play(1)\n",
    "    label1.config(text=Mes1)\n",
    "    label2.config(text=Mes2)\n",
    "    nb_parties=len(scorelist)\n",
    "    plt.plot(scorelist)\n",
    "    plt.xlim(0,nb_parties)\n",
    "    plt.ylim(-nb_parties,nb_parties)\n",
    "    plt.xlabel(\"number of games\")\n",
    "    plt.ylabel(\"Your score\")\n",
    "    plt.title(\"History\")\n",
    "    plt.show()\n",
    "\n",
    "def plotScissors():\n",
    "    Mes1,Mes2,Vict,score,scorelist=play(2)\n",
    "    label1.config(text=Mes1)\n",
    "    label2.config(text=Mes2)\n",
    "    nb_parties=len(scorelist)\n",
    "    plt.plot(scorelist)\n",
    "    plt.xlim(0,nb_parties)\n",
    "    plt.ylim(-nb_parties,nb_parties)\n",
    "    plt.xlabel(\"number of games\")\n",
    "    plt.ylabel(\"Your score\")\n",
    "    plt.title(\"History\")\n",
    "    plt.show()\n",
    "        \n",
    "\n",
    "Rock=Button(formulaire,text=\"Rock\",command=plotRock)\n",
    "Rock.grid(row=0,column=0)\n",
    "\n",
    "Paper=Button(formulaire,text=\"Paper\",command=plotPaper)\n",
    "Paper.grid(row=0,column=1)\n",
    "\n",
    "Scissors=Button(formulaire,text=\"Scissors\",command=plotScissors)\n",
    "Scissors.grid(row=0,column=2)\n",
    "\n",
    "\n",
    "    \n",
    "\n",
    "mainloop()"
   ],
   "outputs": [
    {
     "ename": "KeyboardInterrupt",
     "evalue": "",
     "output_type": "error",
     "traceback": [
      "\u001B[1;31m---------------------------------------------------------------------------\u001B[0m",
      "\u001B[1;31mKeyboardInterrupt\u001B[0m                         Traceback (most recent call last)",
      "Cell \u001B[1;32mIn[25], line 68\u001B[0m\n\u001B[0;32m     62\u001B[0m Scissors\u001B[38;5;241m=\u001B[39mButton(formulaire,text\u001B[38;5;241m=\u001B[39m\u001B[38;5;124m\"\u001B[39m\u001B[38;5;124mScissors\u001B[39m\u001B[38;5;124m\"\u001B[39m,command\u001B[38;5;241m=\u001B[39mplotScissors)\n\u001B[0;32m     63\u001B[0m Scissors\u001B[38;5;241m.\u001B[39mgrid(row\u001B[38;5;241m=\u001B[39m\u001B[38;5;241m0\u001B[39m,column\u001B[38;5;241m=\u001B[39m\u001B[38;5;241m2\u001B[39m)\n\u001B[1;32m---> 68\u001B[0m \u001B[43mmainloop\u001B[49m\u001B[43m(\u001B[49m\u001B[43m)\u001B[49m\n",
      "File \u001B[1;32m~\\AppData\\Local\\Programs\\Python\\Python312\\Lib\\tkinter\\__init__.py:653\u001B[0m, in \u001B[0;36mmainloop\u001B[1;34m(n)\u001B[0m\n\u001B[0;32m    651\u001B[0m \u001B[38;5;28;01mdef\u001B[39;00m \u001B[38;5;21mmainloop\u001B[39m(n\u001B[38;5;241m=\u001B[39m\u001B[38;5;241m0\u001B[39m):\n\u001B[0;32m    652\u001B[0m \u001B[38;5;250m    \u001B[39m\u001B[38;5;124;03m\"\"\"Run the main loop of Tcl.\"\"\"\u001B[39;00m\n\u001B[1;32m--> 653\u001B[0m     \u001B[43m_get_default_root\u001B[49m\u001B[43m(\u001B[49m\u001B[38;5;124;43m'\u001B[39;49m\u001B[38;5;124;43mrun the main loop\u001B[39;49m\u001B[38;5;124;43m'\u001B[39;49m\u001B[43m)\u001B[49m\u001B[38;5;241;43m.\u001B[39;49m\u001B[43mtk\u001B[49m\u001B[38;5;241;43m.\u001B[39;49m\u001B[43mmainloop\u001B[49m\u001B[43m(\u001B[49m\u001B[43mn\u001B[49m\u001B[43m)\u001B[49m\n",
      "\u001B[1;31mKeyboardInterrupt\u001B[0m: "
     ]
    }
   ],
   "execution_count": 25
  },
  {
   "cell_type": "markdown",
   "id": "fd0b483e",
   "metadata": {},
   "source": []
  },
  {
   "cell_type": "markdown",
   "id": "eba7113e",
   "metadata": {},
   "source": [
    "### Question 8 : Copy paste the four previous cells et rename the function \"play(a)\" into \"play2(a)\". Initialize a $3\\times 3$ matrix \"Mem\" in part #Initialisation. Fill out #Save result to modify Mem so that \"Mem$[i,j]$\" is the number $n_{i,j}$. Explicitely plot Mem in the Man-Machine Interface."
   ]
  },
  {
   "cell_type": "code",
   "id": "68e74aa1",
   "metadata": {
    "ExecuteTime": {
     "end_time": "2025-01-27T13:44:33.504432Z",
     "start_time": "2025-01-27T13:44:33.493994Z"
    }
   },
   "source": [
    "#Rule of the game\n",
    "dico=[\"Pierre\",\"Feuille\",\"Ciseaux\"]\n",
    "rule=np.array([[0,-1,1],[1,0,-1],[-1,1,0]]) #1 for a winning move, -1 for losing \n",
    "# and 0 for equality\n",
    "\n",
    "#Initialisation\n",
    "humanMoves=[]\n",
    "victories=[]\n",
    "Score=0\n",
    "ScoreList=[]\n",
    "\n",
    "Mem = np.zeros((3, 3), dtype=int)\n",
    "\n",
    "\n",
    "def play2(a):\n",
    "    # Machine decision making using AI\n",
    "    if len(humanMoves) > 1:\n",
    "        last_human_move = humanMoves[-1]\n",
    "        machineMove = np.argmax([Mem[last_human_move, 2] - Mem[last_human_move, 1],\n",
    "                                 Mem[last_human_move, 0] - Mem[last_human_move, 2],\n",
    "                                 Mem[last_human_move, 1] - Mem[last_human_move, 0]])\n",
    "    else:\n",
    "        machineMove = random.randint(0, 2)  # Random choice for first moves\n",
    "\n",
    "    # Human move save\n",
    "    humanMoves.append(a)\n",
    "\n",
    "    # Save result and update memory\n",
    "    Mem[humanMoves[-2], a] += 1 if len(humanMoves) > 1 else 0\n",
    "    victories.append(rule[humanMoves[-1], machineMove])\n",
    "\n",
    "    # Total score of human\n",
    "    Score = sum(victories)\n",
    "    ScoreList.append(Score)\n",
    "\n",
    "    # Plotting\n",
    "    message1 = f\"Human: {dico[humanMoves[-1]]}, Machine: {dico[machineMove]}, Gain for human: {rule[humanMoves[-1], machineMove]}\"\n",
    "    message2 = f\"Total score for human: {Score}\"\n",
    "\n",
    "    return message1, message2, victories, Score, ScoreList\n",
    "\n",
    "\n",
    "\n"
   ],
   "outputs": [],
   "execution_count": 26
  },
  {
   "metadata": {
    "ExecuteTime": {
     "end_time": "2025-01-27T13:44:35.417872Z",
     "start_time": "2025-01-27T13:44:35.410585Z"
    }
   },
   "cell_type": "code",
   "source": [
    "\n",
    "def showMem():\n",
    "    print(\"Dynamic Memory Matrix:\")\n",
    "    print(Mem)\n"
   ],
   "id": "82c9ed1fbe7c9d2a",
   "outputs": [],
   "execution_count": 27
  },
  {
   "metadata": {
    "ExecuteTime": {
     "end_time": "2025-01-27T13:44:41.175312Z",
     "start_time": "2025-01-27T13:44:41.160910Z"
    }
   },
   "cell_type": "code",
   "source": "showMem()",
   "id": "1f08aa3ee10bb05b",
   "outputs": [
    {
     "name": "stdout",
     "output_type": "stream",
     "text": [
      "Dynamic Memory Matrix:\n",
      "[[0 0 0]\n",
      " [0 0 0]\n",
      " [0 0 0]]\n"
     ]
    }
   ],
   "execution_count": 28
  },
  {
   "metadata": {
    "jupyter": {
     "is_executing": true
    },
    "ExecuteTime": {
     "start_time": "2025-01-27T13:45:07.940049Z"
    }
   },
   "cell_type": "code",
   "source": [
    "\n",
    "#Man-Machine Interface\n",
    "fenetre=Tk()\n",
    "fenetre.title(\"your turn to play\")\n",
    "fenetre.minsize(width=600,height=600)\n",
    "formulaire=Canvas(fenetre)\n",
    "formulaire.pack()\n",
    "\n",
    "label1=Label(formulaire)\n",
    "label1.grid(row=3,column=1)\n",
    "\n",
    "label2=Label(formulaire)\n",
    "label2.grid(row=4,column=1)\n",
    "\n",
    "\n",
    "def plotRock():\n",
    "    Mes1,Mes2,Vict,score,scorelist=play2(0)\n",
    "    label1.config(text=Mes1)\n",
    "    label2.config(text=Mes2)\n",
    "    nb_parties=len(scorelist)\n",
    "    plt.plot(scorelist)\n",
    "    plt.xlim(0,nb_parties)\n",
    "    plt.ylim(-nb_parties,nb_parties)\n",
    "    plt.xlabel(\"number of games\")\n",
    "    plt.ylabel(\"Your score\")\n",
    "    plt.title(\"History\")\n",
    "    plt.show()\n",
    "    \n",
    "      \n",
    "def plotPaper():\n",
    "    Mes1,Mes2,Vict,score,scorelist=play2(1)\n",
    "    label1.config(text=Mes1)\n",
    "    label2.config(text=Mes2)\n",
    "    nb_parties=len(scorelist)\n",
    "    plt.plot(scorelist)\n",
    "    plt.xlim(0,nb_parties)\n",
    "    plt.ylim(-nb_parties,nb_parties)\n",
    "    plt.xlabel(\"number of games\")\n",
    "    plt.ylabel(\"Your score\")\n",
    "    plt.title(\"History\")\n",
    "    plt.show()\n",
    "\n",
    "def plotScissors():\n",
    "    Mes1,Mes2,Vict,score,scorelist=play2(2)\n",
    "    label1.config(text=Mes1)\n",
    "    label2.config(text=Mes2)\n",
    "    nb_parties=len(scorelist)\n",
    "    plt.plot(scorelist)\n",
    "    plt.xlim(0,nb_parties)\n",
    "    plt.ylim(-nb_parties,nb_parties)\n",
    "    plt.xlabel(\"number of games\")\n",
    "    plt.ylabel(\"Your score\")\n",
    "    plt.title(\"History\")\n",
    "    plt.show()\n",
    "        \n",
    "\n",
    "Rock=Button(formulaire,text=\"Rock\",command=plotRock)\n",
    "Rock.grid(row=0,column=0)\n",
    "\n",
    "Paper=Button(formulaire,text=\"Paper\",command=plotPaper)\n",
    "Paper.grid(row=0,column=1)\n",
    "\n",
    "Scissors=Button(formulaire,text=\"Scissors\",command=plotScissors)\n",
    "Scissors.grid(row=0,column=2)\n",
    "\n",
    "\n",
    "    \n",
    "\n",
    "mainloop()"
   ],
   "id": "1bb591032228a110",
   "outputs": [],
   "execution_count": null
  },
  {
   "cell_type": "code",
   "execution_count": null,
   "id": "2f96d09b",
   "metadata": {},
   "outputs": [],
   "source": [
    "#Function giving the number (i,j) in a list b of size >2\n",
    "def nij(b,i,j):\n",
    "    "
   ]
  },
  {
   "cell_type": "code",
   "execution_count": null,
   "id": "b0a070a4",
   "metadata": {},
   "outputs": [],
   "source": []
  },
  {
   "cell_type": "code",
   "execution_count": null,
   "id": "74b24cfe",
   "metadata": {},
   "outputs": [],
   "source": []
  },
  {
   "cell_type": "markdown",
   "id": "e42e543b",
   "metadata": {},
   "source": [
    "### Question 9 : Similarily to question 8, copy paste and rename as \"play3(a)\". In part #Decision making, implement the artificial intelligence with the presented method. Comment on the results."
   ]
  },
  {
   "cell_type": "code",
   "execution_count": null,
   "id": "80035eae",
   "metadata": {},
   "outputs": [],
   "source": []
  },
  {
   "cell_type": "code",
   "execution_count": null,
   "id": "bad9753a",
   "metadata": {},
   "outputs": [],
   "source": []
  },
  {
   "cell_type": "code",
   "execution_count": null,
   "id": "9848ca8d",
   "metadata": {},
   "outputs": [],
   "source": []
  },
  {
   "cell_type": "code",
   "execution_count": null,
   "id": "4cb11505",
   "metadata": {},
   "outputs": [],
   "source": []
  },
  {
   "cell_type": "markdown",
   "id": "81adb2f8",
   "metadata": {},
   "source": []
  },
  {
   "cell_type": "markdown",
   "id": "73f9eb8b",
   "metadata": {},
   "source": [
    "###  Statistical tests"
   ]
  },
  {
   "cell_type": "markdown",
   "id": "4c1ba411",
   "metadata": {},
   "source": [
    "### Question 10 : Create a list \"listRandom\" of size $100$ that you will fill by hand with values $1$ or $-1$, trying to approximately respect a uniform distribution. Create a list \"listMachine\" of same size with values $-1$ ou $1$ using \"np.random.choice\". "
   ]
  },
  {
   "cell_type": "code",
   "execution_count": null,
   "id": "ed5bd89f",
   "metadata": {},
   "outputs": [],
   "source": []
  },
  {
   "cell_type": "markdown",
   "id": "0e3cf09d",
   "metadata": {},
   "source": [
    "### Question 11 : Compute $I(0)$. What information is given by $I(p)$ for $p>0$? What is the value of $I(p)$ when $X_k$ are iid variables on $\\{-1,1\\}$?"
   ]
  },
  {
   "cell_type": "markdown",
   "id": "744fe0c8",
   "metadata": {},
   "source": []
  },
  {
   "cell_type": "markdown",
   "id": "39bcc4ae",
   "metadata": {},
   "source": [
    "### Question 12 : Create a function \"autocorr(X,p)\" with input a list $X$ of $100$ integers, un entier $p\\in \\{0,\\ldots,99\\}$ and returns the autocorrelation of $X$ in $p$."
   ]
  },
  {
   "cell_type": "code",
   "execution_count": null,
   "id": "33762a53",
   "metadata": {},
   "outputs": [],
   "source": [
    "def autocorr(X,p):\n",
    "    "
   ]
  },
  {
   "cell_type": "markdown",
   "id": "6364b646",
   "metadata": {},
   "source": [
    "### Question 13 : Plot the autocorrelation of the two lists in function of $p$. Comment."
   ]
  },
  {
   "cell_type": "code",
   "execution_count": null,
   "id": "37750516",
   "metadata": {},
   "outputs": [],
   "source": []
  },
  {
   "cell_type": "code",
   "execution_count": null,
   "id": "d1aa6300",
   "metadata": {},
   "outputs": [],
   "source": []
  },
  {
   "cell_type": "code",
   "execution_count": null,
   "id": "07e9baa1",
   "metadata": {},
   "outputs": [],
   "source": []
  },
  {
   "cell_type": "markdown",
   "id": "efcbfddd",
   "metadata": {},
   "source": [
    "### Question 14 : Create a sample \"ech\" of size $5000$ of the random variable $I(1)$. "
   ]
  },
  {
   "cell_type": "code",
   "execution_count": null,
   "id": "cdfe64fb",
   "metadata": {},
   "outputs": [],
   "source": []
  },
  {
   "cell_type": "markdown",
   "id": "39634f56",
   "metadata": {},
   "source": [
    "### Question 15 : Plot \"ech\" with a histogram. Compute the empirical mean and variance of \"ech\". Deduce an approximate law of $I(1)$."
   ]
  },
  {
   "cell_type": "code",
   "execution_count": null,
   "id": "e354fe33",
   "metadata": {},
   "outputs": [],
   "source": []
  },
  {
   "cell_type": "code",
   "execution_count": null,
   "id": "bac868be",
   "metadata": {},
   "outputs": [],
   "source": []
  },
  {
   "cell_type": "markdown",
   "id": "e3ec4a13",
   "metadata": {},
   "source": [
    "### Question 16 : Formulate the bilateral statistical test: null and alternative hypothesis, test statistic, critical values. Conclude."
   ]
  },
  {
   "cell_type": "markdown",
   "id": "ee1c1a4a",
   "metadata": {},
   "source": []
  },
  {
   "cell_type": "code",
   "execution_count": null,
   "id": "1512d16b",
   "metadata": {},
   "outputs": [],
   "source": []
  },
  {
   "cell_type": "code",
   "execution_count": null,
   "id": "0e4673d2",
   "metadata": {},
   "outputs": [],
   "source": []
  },
  {
   "cell_type": "code",
   "execution_count": null,
   "id": "21468fd7",
   "metadata": {},
   "outputs": [],
   "source": []
  },
  {
   "cell_type": "code",
   "execution_count": null,
   "id": "97b61875",
   "metadata": {},
   "outputs": [],
   "source": []
  },
  {
   "cell_type": "markdown",
   "id": "52d1f50d",
   "metadata": {},
   "source": [
    "### Rock-Paper-Scissors-Lizard-Spock"
   ]
  },
  {
   "cell_type": "code",
   "execution_count": null,
   "id": "c2c5d070",
   "metadata": {},
   "outputs": [],
   "source": []
  },
  {
   "cell_type": "code",
   "execution_count": null,
   "id": "8ecd7a77",
   "metadata": {},
   "outputs": [],
   "source": []
  },
  {
   "cell_type": "code",
   "execution_count": null,
   "id": "eac3ec80",
   "metadata": {},
   "outputs": [],
   "source": []
  }
 ],
 "metadata": {
  "kernelspec": {
   "display_name": "Python 3",
   "language": "python",
   "name": "python3"
  },
  "language_info": {
   "codemirror_mode": {
    "name": "ipython",
    "version": 3
   },
   "file_extension": ".py",
   "mimetype": "text/x-python",
   "name": "python",
   "nbconvert_exporter": "python",
   "pygments_lexer": "ipython3",
   "version": "3.8.10"
  }
 },
 "nbformat": 4,
 "nbformat_minor": 5
}
