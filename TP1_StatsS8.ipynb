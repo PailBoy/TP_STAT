{
 "cells": [
  {
   "cell_type": "markdown",
   "id": "58388942",
   "metadata": {},
   "source": [
    "# TP1 : Rock-paper-scissors"
   ]
  },
  {
   "cell_type": "markdown",
   "id": "db1f2f05",
   "metadata": {},
   "source": [
    "## Lab session"
   ]
  },
  {
   "cell_type": "markdown",
   "id": "4d72b7ba",
   "metadata": {},
   "source": [
    "### Markov Chain simulation"
   ]
  },
  {
   "cell_type": "code",
   "id": "ec0f06cf",
   "metadata": {
    "ExecuteTime": {
     "end_time": "2025-01-27T13:07:06.244740Z",
     "start_time": "2025-01-27T13:07:05.762253Z"
    }
   },
   "source": [
    "import numpy as np\n",
    "from tkinter import*\n",
    "import matplotlib.pyplot as plt\n",
    "import matplotlib\n",
    "matplotlib.use(\"TkAgg\")\n",
    "from matplotlib.backends.backend_tkagg import FigureCanvasTkAgg\n",
    "from matplotlib.figure import Figure\n",
    "import random "
   ],
   "outputs": [],
   "execution_count": 3
  },
  {
   "cell_type": "markdown",
   "id": "e7c6dc3e",
   "metadata": {},
   "source": [
    "### Question 1 : Create transition matrix \"P\"."
   ]
  },
  {
   "cell_type": "code",
   "id": "703b9eb8",
   "metadata": {
    "ExecuteTime": {
     "end_time": "2025-01-27T12:57:20.209088Z",
     "start_time": "2025-01-27T12:57:20.205562Z"
    }
   },
   "source": "P=[[0.8, 0.1,0.1],[0.3,0.4,0.3],[0.1,0.1,0.8]]",
   "outputs": [],
   "execution_count": 1
  },
  {
   "cell_type": "markdown",
   "id": "d314817e",
   "metadata": {},
   "source": [
    "### Question 2 : Create the function \"randomPFS(a,b)\". Explain your algorithm."
   ]
  },
  {
   "cell_type": "code",
   "id": "6be96c33",
   "metadata": {
    "ExecuteTime": {
     "end_time": "2025-01-27T13:07:56.302390Z",
     "start_time": "2025-01-27T13:07:56.300235Z"
    }
   },
   "source": [
    "def randomPFS(a,b):\n",
    "    r=random.random()\n",
    "    if r<a :\n",
    "        return 0\n",
    "    elif r<a+b : \n",
    "        return 1\n",
    "    else : \n",
    "        return 2\n",
    "a = 0.3\n",
    "b = 0.5\n",
    "resultat = randomPFS(a, b)\n",
    "print(f\"Résultat : {resultat}\")\n",
    "\n"
   ],
   "outputs": [
    {
     "name": "stdout",
     "output_type": "stream",
     "text": [
      "Résultat : 1\n"
     ]
    }
   ],
   "execution_count": 18
  },
  {
   "cell_type": "markdown",
   "id": "88429af3",
   "metadata": {},
   "source": [
    "### Question 3 : Create the function \"sampleMarkov(P,n)\"."
   ]
  },
  {
   "cell_type": "code",
   "id": "3e37627f",
   "metadata": {
    "ExecuteTime": {
     "end_time": "2025-01-27T13:23:03.294029Z",
     "start_time": "2025-01-27T13:23:01.795373Z"
    }
   },
   "source": [
    "def sampleMarkov(P,n):\n",
    "    chain = [np.random.choice([0, 1, 2])]\n",
    "    for _ in range(1, n):\n",
    "        current_state = chain[-1]\n",
    "        next_state = np.random.choice([0, 1, 2], p=P[current_state])\n",
    "        chain.append(next_state)\n",
    "    \n",
    "    return chain\n",
    "\n",
    "\n",
    "\n",
    "n = 100\n",
    "markov_chain = sampleMarkov(P, n)\n",
    "\n",
    "print(markov_chain)\n",
    "print(\"Analysis of the Markov Chain:\")\n",
    "counts = {0: markov_chain.count(0), 1: markov_chain.count(1), 2: markov_chain.count(2)}\n",
    "for state, count in counts.items():\n",
    "    print(f\"State {state}: {count} occurrences\")\n",
    "\n",
    "# Visualization\n",
    "plt.bar(counts.keys(), counts.values(), tick_label=[\"Rock\",  \"Paper\", \"Scissors\"])\n",
    "plt.title(\"State Distribution in the Generated Markov Chain\")\n",
    "plt.xlabel(\"States\")\n",
    "plt.ylabel(\"Frequency\")\n",
    "plt.show()\n"
   ],
   "outputs": [
    {
     "name": "stdout",
     "output_type": "stream",
     "text": [
      "[0, 0, 0, 0, 0, 0, 0, 0, 2, 2, 2, 2, 2, 2, 2, 2, 2, 2, 0, 0, 0, 1, 1, 0, 0, 0, 0, 0, 0, 0, 0, 0, 1, 1, 0, 0, 0, 0, 0, 0, 0, 0, 2, 2, 2, 2, 2, 2, 2, 2, 2, 2, 2, 2, 0, 0, 0, 2, 2, 2, 2, 2, 2, 0, 0, 1, 1, 1, 0, 0, 0, 0, 0, 0, 0, 0, 0, 2, 2, 2, 0, 0, 0, 0, 0, 0, 0, 0, 2, 2, 2, 2, 2, 2, 2, 2, 1, 1, 1, 0]\n",
      "Analysis of the Markov Chain:\n",
      "State 0: 51 occurrences\n",
      "State 1: 10 occurrences\n",
      "State 2: 39 occurrences\n"
     ]
    }
   ],
   "execution_count": 42
  },
  {
   "metadata": {},
   "cell_type": "markdown",
   "source": "",
   "id": "55af68af20377cb3"
  },
  {
   "cell_type": "markdown",
   "id": "31021f0d",
   "metadata": {},
   "source": [
    "### Question 4 : Comment on the obtained list."
   ]
  },
  {
   "metadata": {},
   "cell_type": "markdown",
   "source": "Because every coefficient of the matrix influence the change of the state, and because there is a big coefficient for rock and scissors we can observe that we don't change often the chosen sign, when it's a rock or scissors.",
   "id": "ecc4bbfdba1aec2e"
  },
  {
   "cell_type": "markdown",
   "id": "072e97ad",
   "metadata": {},
   "source": ""
  },
  {
   "cell_type": "markdown",
   "id": "30906f2d",
   "metadata": {},
   "source": [
    "### Game implementation"
   ]
  },
  {
   "cell_type": "markdown",
   "id": "261d90a9",
   "metadata": {},
   "source": [
    "### Question 7 : Analyse and fill out the code below to set a uniform random strategy for the computer. What does the graph represent? (Run the four following cell to launch the game interface)."
   ]
  },
  {
   "cell_type": "code",
   "id": "35dffaec",
   "metadata": {
    "ExecuteTime": {
     "end_time": "2025-01-27T13:33:48.420558Z",
     "start_time": "2025-01-27T13:33:48.416037Z"
    }
   },
   "source": [
    "#Rule of the game\n",
    "dico=[\"Pierre\",\"Feuille\",\"Ciseaux\"]\n",
    "rule=np.array([[0,-1,1],[1,0,-1],[-1,1,0]]) #1 for a winning move, -1 for losing \n",
    "# and 0 for equality\n",
    "\n",
    "\n"
   ],
   "outputs": [],
   "execution_count": 43
  },
  {
   "cell_type": "code",
   "id": "d1e529a8",
   "metadata": {
    "ExecuteTime": {
     "end_time": "2025-01-27T13:33:50.903697Z",
     "start_time": "2025-01-27T13:33:50.900115Z"
    }
   },
   "source": [
    "#Initialisation\n",
    "humanMoves=[]\n",
    "victories=[]\n",
    "Score=0\n",
    "ScoreList=[]"
   ],
   "outputs": [],
   "execution_count": 44
  },
  {
   "cell_type": "code",
   "id": "eea72c41",
   "metadata": {
    "ExecuteTime": {
     "end_time": "2025-01-27T13:35:47.771923Z",
     "start_time": "2025-01-27T13:35:47.768151Z"
    }
   },
   "source": [
    "#game program\n",
    "def play(a):\n",
    "    #Machine decision making\n",
    "    machineMove= random.randint(0,2)\n",
    "    \n",
    "    #Human move save\n",
    "    humanMoves.append(a)\n",
    "    \n",
    "    #Save result\n",
    "    victories.append(rule[humanMoves[-1],machineMove])\n",
    "    \n",
    "    #Total score of human\n",
    "    Score=sum(victories)\n",
    "    ScoreList.append(Score)\n",
    "    \n",
    "    #Plotting\n",
    "    message1=\"Human :\",dico[humanMoves[-1]],\"Machine :\",dico[machineMove],\"gain for human :\",rule[humanMoves[-1],machineMove]\n",
    "    \n",
    "    message2=\"Total score for human :\",Score\n",
    "    \n",
    "    return (message1,message2,victories,Score,ScoreList)"
   ],
   "outputs": [],
   "execution_count": 45
  },
  {
   "cell_type": "code",
   "id": "db27d00e",
   "metadata": {
    "ExecuteTime": {
     "end_time": "2025-01-27T13:36:29.206639Z",
     "start_time": "2025-01-27T13:35:49.293709Z"
    }
   },
   "source": [
    "\n",
    "#Man-Machine Interface\n",
    "fenetre=Tk()\n",
    "fenetre.title(\"your turn to play\")\n",
    "fenetre.minsize(width=600,height=600)\n",
    "formulaire=Canvas(fenetre)\n",
    "formulaire.pack()\n",
    "\n",
    "label1=Label(formulaire)\n",
    "label1.grid(row=3,column=1)\n",
    "\n",
    "label2=Label(formulaire)\n",
    "label2.grid(row=4,column=1)\n",
    "\n",
    "\n",
    "def plotRock():\n",
    "    Mes1,Mes2,Vict,score,scorelist=play(0)\n",
    "    label1.config(text=Mes1)\n",
    "    label2.config(text=Mes2)\n",
    "    nb_parties=len(scorelist)\n",
    "    plt.plot(scorelist)\n",
    "    plt.xlim(0,nb_parties)\n",
    "    plt.ylim(-nb_parties,nb_parties)\n",
    "    plt.xlabel(\"number of games\")\n",
    "    plt.ylabel(\"Your score\")\n",
    "    plt.title(\"History\")\n",
    "    plt.show()\n",
    "    \n",
    "      \n",
    "def plotPaper():\n",
    "    Mes1,Mes2,Vict,score,scorelist=play(1)\n",
    "    label1.config(text=Mes1)\n",
    "    label2.config(text=Mes2)\n",
    "    nb_parties=len(scorelist)\n",
    "    plt.plot(scorelist)\n",
    "    plt.xlim(0,nb_parties)\n",
    "    plt.ylim(-nb_parties,nb_parties)\n",
    "    plt.xlabel(\"number of games\")\n",
    "    plt.ylabel(\"Your score\")\n",
    "    plt.title(\"History\")\n",
    "    plt.show()\n",
    "\n",
    "def plotScissors():\n",
    "    Mes1,Mes2,Vict,score,scorelist=play(2)\n",
    "    label1.config(text=Mes1)\n",
    "    label2.config(text=Mes2)\n",
    "    nb_parties=len(scorelist)\n",
    "    plt.plot(scorelist)\n",
    "    plt.xlim(0,nb_parties)\n",
    "    plt.ylim(-nb_parties,nb_parties)\n",
    "    plt.xlabel(\"number of games\")\n",
    "    plt.ylabel(\"Your score\")\n",
    "    plt.title(\"History\")\n",
    "    plt.show()\n",
    "        \n",
    "\n",
    "Rock=Button(formulaire,text=\"Rock\",command=plotRock)\n",
    "Rock.grid(row=0,column=0)\n",
    "\n",
    "Paper=Button(formulaire,text=\"Paper\",command=plotPaper)\n",
    "Paper.grid(row=0,column=1)\n",
    "\n",
    "Scissors=Button(formulaire,text=\"Scissors\",command=plotScissors)\n",
    "Scissors.grid(row=0,column=2)\n",
    "\n",
    "\n",
    "    \n",
    "\n",
    "mainloop()"
   ],
   "outputs": [],
   "execution_count": 46
  },
  {
   "cell_type": "markdown",
   "id": "fd0b483e",
   "metadata": {},
   "source": "The display graph represent our score per game depending on the game rules."
  },
  {
   "cell_type": "markdown",
   "id": "eba7113e",
   "metadata": {},
   "source": [
    "### Question 8 : Copy paste the four previous cells et rename the function \"play(a)\" into \"play2(a)\". Initialize a $3\\times 3$ matrix \"Mem\" in part #Initialisation. Fill out #Save result to modify Mem so that \"Mem$[i,j]$\" is the number $n_{i,j}$. Explicitely plot Mem in the Man-Machine Interface."
   ]
  },
  {
   "cell_type": "code",
   "id": "68e74aa1",
   "metadata": {
    "ExecuteTime": {
     "end_time": "2025-01-27T13:44:56.366604Z",
     "start_time": "2025-01-27T13:44:56.364045Z"
    }
   },
   "source": [
    "#Rule of the game\n",
    "dico=[\"Pierre\",\"Feuille\",\"Ciseaux\"]\n",
    "rule=np.array([[0,-1,1],[1,0,-1],[-1,1,0]]) #1 for a winning move, -1 for losing \n",
    "# and 0 for equality"
   ],
   "outputs": [],
   "execution_count": 47
  },
  {
   "cell_type": "code",
   "id": "2f96d09b",
   "metadata": {
    "ExecuteTime": {
     "end_time": "2025-01-27T13:50:32.701474Z",
     "start_time": "2025-01-27T13:50:32.698081Z"
    }
   },
   "source": [
    "#Initialisation\n",
    "humanMoves=[]\n",
    "victories=[]\n",
    "Score=0\n",
    "ScoreList=[]\n",
    "Mem = np.zeros((3, 3))\n",
    "\n",
    "    "
   ],
   "outputs": [],
   "execution_count": 57
  },
  {
   "cell_type": "code",
   "id": "b0a070a4",
   "metadata": {
    "ExecuteTime": {
     "end_time": "2025-01-27T13:50:09.296306Z",
     "start_time": "2025-01-27T13:50:09.291198Z"
    }
   },
   "source": [
    "#game program\n",
    "def play2(a):\n",
    "    #Machine decision making\n",
    "    # Machine decision making using AI\n",
    "    if len(humanMoves) > 1:\n",
    "        last_human_move = humanMoves[-1]\n",
    "        machineMove = np.argmax([Mem[last_human_move, 2] - Mem[last_human_move, 1],\n",
    "                                 Mem[last_human_move, 0] - Mem[last_human_move, 2],\n",
    "                                 Mem[last_human_move, 1] - Mem[last_human_move, 0]])\n",
    "    else:\n",
    "         machineMove = random.randint(0, 2)  # Random choice for first moves\n",
    "\n",
    "    #Human move save\n",
    "    humanMoves.append(a)\n",
    "    \n",
    "    # Save result and update memory\n",
    "    Mem[humanMoves[-2], a] += 1 if len(humanMoves) > 1 else 0\n",
    "    victories.append(rule[humanMoves[-1], machineMove])\n",
    "    \n",
    "    #Total score of human\n",
    "    Score=sum(victories)\n",
    "    ScoreList.append(Score)\n",
    "    \n",
    "    #Plotting\n",
    "    message1=\"Human :\",dico[humanMoves[-1]],\"Machine :\",dico[machineMove],\"gain for human :\",rule[humanMoves[-1],machineMove]\n",
    "    \n",
    "    message2=\"Total score for human :\",Score\n",
    "    \n",
    "    return (message1,message2,victories,Score,ScoreList)"
   ],
   "outputs": [],
   "execution_count": 55
  },
  {
   "cell_type": "code",
   "id": "74b24cfe",
   "metadata": {
    "ExecuteTime": {
     "end_time": "2025-01-27T13:57:53.185712Z",
     "start_time": "2025-01-27T13:56:57.991253Z"
    }
   },
   "source": [
    "#Man-Machine Interface\n",
    "fenetre=Tk()\n",
    "fenetre.title(\"your turn to play\")\n",
    "fenetre.minsize(width=600,height=600)\n",
    "formulaire=Canvas(fenetre)\n",
    "formulaire.pack()\n",
    "\n",
    "label1=Label(formulaire)\n",
    "label1.grid(row=3,column=1)\n",
    "\n",
    "label2=Label(formulaire)\n",
    "label2.grid(row=4,column=1)\n",
    "\n",
    "label3=Label(formulaire)\n",
    "label3.grid(row=5,column=1)\n",
    "\n",
    "def plotRock():\n",
    "    Mes1,Mes2,Vict,score,scorelist=play2(0)\n",
    "    label1.config(text=Mes1)\n",
    "    label2.config(text=Mes2)\n",
    "    label3.config(text=Mem)\n",
    "    nb_parties=len(scorelist)\n",
    "    plt.plot(scorelist)\n",
    "    plt.xlim(0,nb_parties)\n",
    "    plt.ylim(-nb_parties,nb_parties)\n",
    "    plt.xlabel(\"number of games\")\n",
    "    plt.ylabel(\"Your score\")\n",
    "    plt.title(\"History\")\n",
    "    plt.show()\n",
    "    \n",
    "      \n",
    "def plotPaper():\n",
    "    Mes1,Mes2,Vict,score,scorelist=play2(1)\n",
    "    label1.config(text=Mes1)\n",
    "    label2.config(text=Mes2)\n",
    "    label3.config(text=Mem)\n",
    "    nb_parties=len(scorelist)\n",
    "    plt.plot(scorelist)\n",
    "    plt.xlim(0,nb_parties)\n",
    "    plt.ylim(-nb_parties,nb_parties)\n",
    "    plt.xlabel(\"number of games\")\n",
    "    plt.ylabel(\"Your score\")\n",
    "    plt.title(\"History\")\n",
    "    plt.show()\n",
    "\n",
    "def plotScissors():\n",
    "    Mes1,Mes2,Vict,score,scorelist=play2(2)\n",
    "    label1.config(text=Mes1)\n",
    "    label2.config(text=Mes2)\n",
    "    label3.config(text=Mem)\n",
    "    nb_parties=len(scorelist)\n",
    "    plt.plot(scorelist)\n",
    "    plt.xlim(0,nb_parties)\n",
    "    plt.ylim(-nb_parties,nb_parties)\n",
    "    plt.xlabel(\"number of games\")\n",
    "    plt.ylabel(\"Your score\")\n",
    "    plt.title(\"History\")\n",
    "    plt.show()\n",
    "        \n",
    "\n",
    "Rock=Button(formulaire,text=\"Rock\",command=plotRock)\n",
    "Rock.grid(row=0,column=0)\n",
    "\n",
    "Paper=Button(formulaire,text=\"Paper\",command=plotPaper)\n",
    "Paper.grid(row=0,column=1)\n",
    "\n",
    "Scissors=Button(formulaire,text=\"Scissors\",command=plotScissors)\n",
    "Scissors.grid(row=0,column=2)\n",
    "\n",
    "\n",
    "    \n",
    "\n",
    "mainloop()"
   ],
   "outputs": [],
   "execution_count": 60
  },
  {
   "cell_type": "markdown",
   "id": "e42e543b",
   "metadata": {},
   "source": [
    "### Question 9 : Similarily to question 8, copy paste and rename as \"play3(a)\". In part #Decision making, implement the artificial intelligence with the presented method. Comment on the results."
   ]
  },
  {
   "cell_type": "code",
   "execution_count": null,
   "id": "80035eae",
   "metadata": {},
   "outputs": [],
   "source": []
  },
  {
   "cell_type": "code",
   "execution_count": null,
   "id": "bad9753a",
   "metadata": {},
   "outputs": [],
   "source": []
  },
  {
   "cell_type": "code",
   "execution_count": null,
   "id": "9848ca8d",
   "metadata": {},
   "outputs": [],
   "source": []
  },
  {
   "cell_type": "code",
   "execution_count": null,
   "id": "4cb11505",
   "metadata": {},
   "outputs": [],
   "source": []
  },
  {
   "cell_type": "markdown",
   "id": "81adb2f8",
   "metadata": {},
   "source": []
  },
  {
   "cell_type": "markdown",
   "id": "73f9eb8b",
   "metadata": {},
   "source": [
    "###  Statistical tests"
   ]
  },
  {
   "cell_type": "markdown",
   "id": "4c1ba411",
   "metadata": {},
   "source": [
    "### Question 10 : Create a list \"listRandom\" of size $100$ that you will fill by hand with values $1$ or $-1$, trying to approximately respect a uniform distribution. Create a list \"listMachine\" of same size with values $-1$ ou $1$ using \"np.random.choice\". "
   ]
  },
  {
   "cell_type": "code",
   "execution_count": null,
   "id": "ed5bd89f",
   "metadata": {},
   "outputs": [],
   "source": []
  },
  {
   "cell_type": "markdown",
   "id": "0e3cf09d",
   "metadata": {},
   "source": [
    "### Question 11 : Compute $I(0)$. What information is given by $I(p)$ for $p>0$? What is the value of $I(p)$ when $X_k$ are iid variables on $\\{-1,1\\}$?"
   ]
  },
  {
   "cell_type": "markdown",
   "id": "744fe0c8",
   "metadata": {},
   "source": []
  },
  {
   "cell_type": "markdown",
   "id": "39bcc4ae",
   "metadata": {},
   "source": [
    "### Question 12 : Create a function \"autocorr(X,p)\" with input a list $X$ of $100$ integers, un entier $p\\in \\{0,\\ldots,99\\}$ and returns the autocorrelation of $X$ in $p$."
   ]
  },
  {
   "cell_type": "code",
   "execution_count": null,
   "id": "33762a53",
   "metadata": {},
   "outputs": [],
   "source": [
    "def autocorr(X,p):\n",
    "    "
   ]
  },
  {
   "cell_type": "markdown",
   "id": "6364b646",
   "metadata": {},
   "source": [
    "### Question 13 : Plot the autocorrelation of the two lists in function of $p$. Comment."
   ]
  },
  {
   "cell_type": "code",
   "execution_count": null,
   "id": "37750516",
   "metadata": {},
   "outputs": [],
   "source": []
  },
  {
   "cell_type": "code",
   "execution_count": null,
   "id": "d1aa6300",
   "metadata": {},
   "outputs": [],
   "source": []
  },
  {
   "cell_type": "code",
   "execution_count": null,
   "id": "07e9baa1",
   "metadata": {},
   "outputs": [],
   "source": []
  },
  {
   "cell_type": "markdown",
   "id": "efcbfddd",
   "metadata": {},
   "source": [
    "### Question 14 : Create a sample \"ech\" of size $5000$ of the random variable $I(1)$. "
   ]
  },
  {
   "cell_type": "code",
   "execution_count": null,
   "id": "cdfe64fb",
   "metadata": {},
   "outputs": [],
   "source": []
  },
  {
   "cell_type": "markdown",
   "id": "39634f56",
   "metadata": {},
   "source": [
    "### Question 15 : Plot \"ech\" with a histogram. Compute the empirical mean and variance of \"ech\". Deduce an approximate law of $I(1)$."
   ]
  },
  {
   "cell_type": "code",
   "execution_count": null,
   "id": "e354fe33",
   "metadata": {},
   "outputs": [],
   "source": []
  },
  {
   "cell_type": "code",
   "execution_count": null,
   "id": "bac868be",
   "metadata": {},
   "outputs": [],
   "source": []
  },
  {
   "cell_type": "markdown",
   "id": "e3ec4a13",
   "metadata": {},
   "source": [
    "### Question 16 : Formulate the bilateral statistical test: null and alternative hypothesis, test statistic, critical values. Conclude."
   ]
  },
  {
   "cell_type": "markdown",
   "id": "ee1c1a4a",
   "metadata": {},
   "source": []
  },
  {
   "cell_type": "code",
   "execution_count": null,
   "id": "1512d16b",
   "metadata": {},
   "outputs": [],
   "source": []
  },
  {
   "cell_type": "code",
   "execution_count": null,
   "id": "0e4673d2",
   "metadata": {},
   "outputs": [],
   "source": []
  },
  {
   "cell_type": "code",
   "execution_count": null,
   "id": "21468fd7",
   "metadata": {},
   "outputs": [],
   "source": []
  },
  {
   "cell_type": "code",
   "execution_count": null,
   "id": "97b61875",
   "metadata": {},
   "outputs": [],
   "source": []
  },
  {
   "cell_type": "markdown",
   "id": "52d1f50d",
   "metadata": {},
   "source": [
    "### Rock-Paper-Scissors-Lizard-Spock"
   ]
  },
  {
   "cell_type": "code",
   "execution_count": null,
   "id": "c2c5d070",
   "metadata": {},
   "outputs": [],
   "source": []
  },
  {
   "cell_type": "code",
   "execution_count": null,
   "id": "8ecd7a77",
   "metadata": {},
   "outputs": [],
   "source": []
  },
  {
   "cell_type": "code",
   "execution_count": null,
   "id": "eac3ec80",
   "metadata": {},
   "outputs": [],
   "source": []
  }
 ],
 "metadata": {
  "kernelspec": {
   "display_name": "Python 3",
   "language": "python",
   "name": "python3"
  },
  "language_info": {
   "codemirror_mode": {
    "name": "ipython",
    "version": 3
   },
   "file_extension": ".py",
   "mimetype": "text/x-python",
   "name": "python",
   "nbconvert_exporter": "python",
   "pygments_lexer": "ipython3",
   "version": "3.8.10"
  }
 },
 "nbformat": 4,
 "nbformat_minor": 5
}
