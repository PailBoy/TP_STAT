{
 "cells": [
  {
   "cell_type": "markdown",
   "id": "58388942",
   "metadata": {},
   "source": [
    "# TP1 : Rock-paper-scissors"
   ]
  },
  {
   "cell_type": "markdown",
   "id": "db1f2f05",
   "metadata": {},
   "source": [
    "## Lab session"
   ]
  },
  {
   "cell_type": "markdown",
   "id": "4d72b7ba",
   "metadata": {},
   "source": [
    "### Markov Chain simulation"
   ]
  },
  {
   "cell_type": "code",
   "id": "ec0f06cf",
   "metadata": {
    "ExecuteTime": {
     "end_time": "2025-01-27T13:07:06.244740Z",
     "start_time": "2025-01-27T13:07:05.762253Z"
    }
   },
   "source": [
    "import numpy as np\n",
    "from tkinter import*\n",
    "import matplotlib.pyplot as plt\n",
    "import matplotlib\n",
    "matplotlib.use(\"TkAgg\")\n",
    "from matplotlib.backends.backend_tkagg import FigureCanvasTkAgg\n",
    "from matplotlib.figure import Figure\n",
    "import random "
   ],
   "outputs": [],
   "execution_count": 3
  },
  {
   "cell_type": "markdown",
   "id": "e7c6dc3e",
   "metadata": {},
   "source": [
    "### Question 1 : Create transition matrix \"P\"."
   ]
  },
  {
   "cell_type": "code",
   "id": "703b9eb8",
   "metadata": {
    "ExecuteTime": {
     "end_time": "2025-01-27T12:57:20.209088Z",
     "start_time": "2025-01-27T12:57:20.205562Z"
    }
   },
   "source": "P=[[0.8, 0.1,0.1],[0.3,0.4,0.3],[0.1,0.1,0.8]]",
   "outputs": [],
   "execution_count": 1
  },
  {
   "cell_type": "markdown",
   "id": "d314817e",
   "metadata": {},
   "source": [
    "### Question 2 : Create the function \"randomPFS(a,b)\". Explain your algorithm."
   ]
  },
  {
   "cell_type": "code",
   "id": "6be96c33",
   "metadata": {
    "ExecuteTime": {
     "end_time": "2025-01-27T13:07:56.302390Z",
     "start_time": "2025-01-27T13:07:56.300235Z"
    }
   },
   "source": [
    "def randomPFS(a,b):\n",
    "    r=random.random()\n",
    "    if r<a :\n",
    "        return 0\n",
    "    elif r<a+b : \n",
    "        return 1\n",
    "    else : \n",
    "        return 2\n",
    "a = 0.3\n",
    "b = 0.5\n",
    "resultat = randomPFS(a, b)\n",
    "print(f\"Résultat : {resultat}\")\n",
    "\n"
   ],
   "outputs": [
    {
     "name": "stdout",
     "output_type": "stream",
     "text": [
      "Résultat : 1\n"
     ]
    }
   ],
   "execution_count": 18
  },
  {
   "cell_type": "markdown",
   "id": "88429af3",
   "metadata": {},
   "source": [
    "### Question 3 : Create the function \"sampleMarkov(P,n)\"."
   ]
  },
  {
   "cell_type": "code",
   "id": "3e37627f",
   "metadata": {
    "ExecuteTime": {
     "end_time": "2025-01-27T13:23:03.294029Z",
     "start_time": "2025-01-27T13:23:01.795373Z"
    }
   },
   "source": [
    "def sampleMarkov(P,n):\n",
    "    chain = [np.random.choice([0, 1, 2])]\n",
    "    for _ in range(1, n):\n",
    "        current_state = chain[-1]\n",
    "        next_state = np.random.choice([0, 1, 2], p=P[current_state])\n",
    "        chain.append(next_state)\n",
    "    \n",
    "    return chain\n",
    "\n",
    "\n",
    "\n",
    "n = 100\n",
    "markov_chain = sampleMarkov(P, n)\n",
    "\n",
    "print(markov_chain)\n",
    "print(\"Analysis of the Markov Chain:\")\n",
    "counts = {0: markov_chain.count(0), 1: markov_chain.count(1), 2: markov_chain.count(2)}\n",
    "for state, count in counts.items():\n",
    "    print(f\"State {state}: {count} occurrences\")\n",
    "\n",
    "# Visualization\n",
    "plt.bar(counts.keys(), counts.values(), tick_label=[\"Rock\",  \"Paper\", \"Scissors\"])\n",
    "plt.title(\"State Distribution in the Generated Markov Chain\")\n",
    "plt.xlabel(\"States\")\n",
    "plt.ylabel(\"Frequency\")\n",
    "plt.show()\n"
   ],
   "outputs": [
    {
     "name": "stdout",
     "output_type": "stream",
     "text": [
      "[0, 0, 0, 0, 0, 0, 0, 0, 2, 2, 2, 2, 2, 2, 2, 2, 2, 2, 0, 0, 0, 1, 1, 0, 0, 0, 0, 0, 0, 0, 0, 0, 1, 1, 0, 0, 0, 0, 0, 0, 0, 0, 2, 2, 2, 2, 2, 2, 2, 2, 2, 2, 2, 2, 0, 0, 0, 2, 2, 2, 2, 2, 2, 0, 0, 1, 1, 1, 0, 0, 0, 0, 0, 0, 0, 0, 0, 2, 2, 2, 0, 0, 0, 0, 0, 0, 0, 0, 2, 2, 2, 2, 2, 2, 2, 2, 1, 1, 1, 0]\n",
      "Analysis of the Markov Chain:\n",
      "State 0: 51 occurrences\n",
      "State 1: 10 occurrences\n",
      "State 2: 39 occurrences\n"
     ]
    }
   ],
   "execution_count": 42
  },
  {
   "metadata": {},
   "cell_type": "markdown",
   "source": "",
   "id": "55af68af20377cb3"
  },
  {
   "cell_type": "markdown",
   "id": "31021f0d",
   "metadata": {},
   "source": [
    "### Question 4 : Comment on the obtained list."
   ]
  },
  {
   "metadata": {},
   "cell_type": "markdown",
   "source": "Because every coefficient of the matrix influence the change of the state, and because there is a big coefficient for rock and scissors we can observe that we don't change often the chosen sign, when it's a rock or scissors.",
   "id": "ecc4bbfdba1aec2e"
  },
  {
   "cell_type": "markdown",
   "id": "072e97ad",
   "metadata": {},
   "source": ""
  },
  {
   "cell_type": "markdown",
   "id": "30906f2d",
   "metadata": {},
   "source": [
    "### Game implementation"
   ]
  },
  {
   "cell_type": "markdown",
   "id": "261d90a9",
   "metadata": {},
   "source": [
    "### Question 7 : Analyse and fill out the code below to set a uniform random strategy for the computer. What does the graph represent? (Run the four following cell to launch the game interface)."
   ]
  },
  {
   "cell_type": "code",
   "id": "35dffaec",
   "metadata": {
    "ExecuteTime": {
     "end_time": "2025-01-27T13:33:48.420558Z",
     "start_time": "2025-01-27T13:33:48.416037Z"
    }
   },
   "source": [
    "#Rule of the game\n",
    "dico=[\"Pierre\",\"Feuille\",\"Ciseaux\"]\n",
    "rule=np.array([[0,-1,1],[1,0,-1],[-1,1,0]]) #1 for a winning move, -1 for losing \n",
    "# and 0 for equality\n",
    "\n",
    "\n"
   ],
   "outputs": [],
   "execution_count": 43
  },
  {
   "cell_type": "code",
   "id": "d1e529a8",
   "metadata": {
    "ExecuteTime": {
     "end_time": "2025-01-27T13:33:50.903697Z",
     "start_time": "2025-01-27T13:33:50.900115Z"
    }
   },
   "source": [
    "#Initialisation\n",
    "humanMoves=[]\n",
    "victories=[]\n",
    "Score=0\n",
    "ScoreList=[]"
   ],
   "outputs": [],
   "execution_count": 44
  },
  {
   "cell_type": "code",
   "id": "eea72c41",
   "metadata": {
    "ExecuteTime": {
     "end_time": "2025-01-27T13:35:47.771923Z",
     "start_time": "2025-01-27T13:35:47.768151Z"
    }
   },
   "source": [
    "#game program\n",
    "def play(a):\n",
    "    #Machine decision making\n",
    "    machineMove= random.randint(0,2)\n",
    "    \n",
    "    #Human move save\n",
    "    humanMoves.append(a)\n",
    "    \n",
    "    #Save result\n",
    "    victories.append(rule[humanMoves[-1],machineMove])\n",
    "    \n",
    "    #Total score of human\n",
    "    Score=sum(victories)\n",
    "    ScoreList.append(Score)\n",
    "    \n",
    "    #Plotting\n",
    "    message1=\"Human :\",dico[humanMoves[-1]],\"Machine :\",dico[machineMove],\"gain for human :\",rule[humanMoves[-1],machineMove]\n",
    "    \n",
    "    message2=\"Total score for human :\",Score\n",
    "    \n",
    "    return (message1,message2,victories,Score,ScoreList)"
   ],
   "outputs": [],
   "execution_count": 45
  },
  {
   "cell_type": "code",
   "id": "db27d00e",
   "metadata": {
    "ExecuteTime": {
     "end_time": "2025-01-27T13:36:29.206639Z",
     "start_time": "2025-01-27T13:35:49.293709Z"
    }
   },
   "source": [
    "\n",
    "#Man-Machine Interface\n",
    "fenetre=Tk()\n",
    "fenetre.title(\"your turn to play\")\n",
    "fenetre.minsize(width=600,height=600)\n",
    "formulaire=Canvas(fenetre)\n",
    "formulaire.pack()\n",
    "\n",
    "label1=Label(formulaire)\n",
    "label1.grid(row=3,column=1)\n",
    "\n",
    "label2=Label(formulaire)\n",
    "label2.grid(row=4,column=1)\n",
    "\n",
    "\n",
    "def plotRock():\n",
    "    Mes1,Mes2,Vict,score,scorelist=play(0)\n",
    "    label1.config(text=Mes1)\n",
    "    label2.config(text=Mes2)\n",
    "    nb_parties=len(scorelist)\n",
    "    plt.plot(scorelist)\n",
    "    plt.xlim(0,nb_parties)\n",
    "    plt.ylim(-nb_parties,nb_parties)\n",
    "    plt.xlabel(\"number of games\")\n",
    "    plt.ylabel(\"Your score\")\n",
    "    plt.title(\"History\")\n",
    "    plt.show()\n",
    "    \n",
    "      \n",
    "def plotPaper():\n",
    "    Mes1,Mes2,Vict,score,scorelist=play(1)\n",
    "    label1.config(text=Mes1)\n",
    "    label2.config(text=Mes2)\n",
    "    nb_parties=len(scorelist)\n",
    "    plt.plot(scorelist)\n",
    "    plt.xlim(0,nb_parties)\n",
    "    plt.ylim(-nb_parties,nb_parties)\n",
    "    plt.xlabel(\"number of games\")\n",
    "    plt.ylabel(\"Your score\")\n",
    "    plt.title(\"History\")\n",
    "    plt.show()\n",
    "\n",
    "def plotScissors():\n",
    "    Mes1,Mes2,Vict,score,scorelist=play(2)\n",
    "    label1.config(text=Mes1)\n",
    "    label2.config(text=Mes2)\n",
    "    nb_parties=len(scorelist)\n",
    "    plt.plot(scorelist)\n",
    "    plt.xlim(0,nb_parties)\n",
    "    plt.ylim(-nb_parties,nb_parties)\n",
    "    plt.xlabel(\"number of games\")\n",
    "    plt.ylabel(\"Your score\")\n",
    "    plt.title(\"History\")\n",
    "    plt.show()\n",
    "        \n",
    "\n",
    "Rock=Button(formulaire,text=\"Rock\",command=plotRock)\n",
    "Rock.grid(row=0,column=0)\n",
    "\n",
    "Paper=Button(formulaire,text=\"Paper\",command=plotPaper)\n",
    "Paper.grid(row=0,column=1)\n",
    "\n",
    "Scissors=Button(formulaire,text=\"Scissors\",command=plotScissors)\n",
    "Scissors.grid(row=0,column=2)\n",
    "\n",
    "\n",
    "    \n",
    "\n",
    "mainloop()"
   ],
   "outputs": [],
   "execution_count": 46
  },
  {
   "cell_type": "markdown",
   "id": "fd0b483e",
   "metadata": {},
   "source": "The display graph represent our score per game depending on the game rules."
  },
  {
   "cell_type": "markdown",
   "id": "eba7113e",
   "metadata": {},
   "source": [
    "### Question 8 : Copy paste the four previous cells et rename the function \"play(a)\" into \"play2(a)\". Initialize a $3\\times 3$ matrix \"Mem\" in part #Initialisation. Fill out #Save result to modify Mem so that \"Mem$[i,j]$\" is the number $n_{i,j}$. Explicitely plot Mem in the Man-Machine Interface."
   ]
  },
  {
   "cell_type": "code",
   "id": "68e74aa1",
   "metadata": {
    "ExecuteTime": {
     "end_time": "2025-01-27T13:44:56.366604Z",
     "start_time": "2025-01-27T13:44:56.364045Z"
    }
   },
   "source": [
    "#Rule of the game\n",
    "dico=[\"Pierre\",\"Feuille\",\"Ciseaux\"]\n",
    "rule=np.array([[0,-1,1],[1,0,-1],[-1,1,0]]) #1 for a winning move, -1 for losing \n",
    "# and 0 for equality"
   ],
   "outputs": [],
   "execution_count": 47
  },
  {
   "cell_type": "code",
   "id": "2f96d09b",
   "metadata": {
    "ExecuteTime": {
     "end_time": "2025-01-27T14:09:31.225413Z",
     "start_time": "2025-01-27T14:09:31.222479Z"
    }
   },
   "source": [
    "#Initialisation\n",
    "humanMoves=[]\n",
    "victories=[]\n",
    "Score=0\n",
    "ScoreList=[]\n",
    "Mem = np.zeros((3, 3))\n",
    "\n",
    "    "
   ],
   "outputs": [],
   "execution_count": 71
  },
  {
   "cell_type": "code",
   "id": "b0a070a4",
   "metadata": {
    "ExecuteTime": {
     "end_time": "2025-01-27T14:09:32.893680Z",
     "start_time": "2025-01-27T14:09:32.889902Z"
    }
   },
   "source": [
    "#game program\n",
    "def play2(a):\n",
    "    #Machine decision making\n",
    "    # Machine decision making using AI\n",
    "\n",
    "    machineMove = random.randint(0, 2)  # Random choice for first moves\n",
    "\n",
    "    #Human move save\n",
    "    humanMoves.append(a)\n",
    "    \n",
    "    # Save result and update memory\n",
    "    Mem[humanMoves[-2], a] += 1 if len(humanMoves) > 1 else 0\n",
    "    victories.append(rule[humanMoves[-1], machineMove])\n",
    "    \n",
    "    #Total score of human\n",
    "    Score=sum(victories)\n",
    "    ScoreList.append(Score)\n",
    "    \n",
    "    #Plotting\n",
    "    message1=\"Human :\",dico[humanMoves[-1]],\"Machine :\",dico[machineMove],\"gain for human :\",rule[humanMoves[-1],machineMove]\n",
    "    \n",
    "    message2=\"Total score for human :\",Score\n",
    "    \n",
    "    return (message1,message2,victories,Score,ScoreList)"
   ],
   "outputs": [],
   "execution_count": 72
  },
  {
   "cell_type": "code",
   "id": "74b24cfe",
   "metadata": {
    "ExecuteTime": {
     "end_time": "2025-01-27T14:12:17.567497Z",
     "start_time": "2025-01-27T14:09:34.525870Z"
    }
   },
   "source": [
    "#Man-Machine Interface\n",
    "fenetre=Tk()\n",
    "fenetre.title(\"your turn to play\")\n",
    "fenetre.minsize(width=600,height=600)\n",
    "formulaire=Canvas(fenetre)\n",
    "formulaire.pack()\n",
    "\n",
    "label1=Label(formulaire)\n",
    "label1.grid(row=3,column=1)\n",
    "\n",
    "label2=Label(formulaire)\n",
    "label2.grid(row=4,column=1)\n",
    "\n",
    "label3=Label(formulaire)\n",
    "label3.grid(row=5,column=1)\n",
    "\n",
    "def plotRock():\n",
    "    Mes1,Mes2,Vict,score,scorelist=play2(0)\n",
    "    label1.config(text=Mes1)\n",
    "    label2.config(text=Mes2)\n",
    "    label3.config(text=Mem)\n",
    "    nb_parties=len(scorelist)\n",
    "    plt.plot(scorelist)\n",
    "    plt.xlim(0,nb_parties)\n",
    "    plt.ylim(-nb_parties,nb_parties)\n",
    "    plt.xlabel(\"number of games\")\n",
    "    plt.ylabel(\"Your score\")\n",
    "    plt.title(\"History\")\n",
    "    plt.show()\n",
    "    \n",
    "      \n",
    "def plotPaper():\n",
    "    Mes1,Mes2,Vict,score,scorelist=play2(1)\n",
    "    label1.config(text=Mes1)\n",
    "    label2.config(text=Mes2)\n",
    "    label3.config(text=Mem)\n",
    "    nb_parties=len(scorelist)\n",
    "    plt.plot(scorelist)\n",
    "    plt.xlim(0,nb_parties)\n",
    "    plt.ylim(-nb_parties,nb_parties)\n",
    "    plt.xlabel(\"number of games\")\n",
    "    plt.ylabel(\"Your score\")\n",
    "    plt.title(\"History\")\n",
    "    plt.show()\n",
    "\n",
    "def plotScissors():\n",
    "    Mes1,Mes2,Vict,score,scorelist=play2(2)\n",
    "    label1.config(text=Mes1)\n",
    "    label2.config(text=Mes2)\n",
    "    label3.config(text=Mem)\n",
    "    nb_parties=len(scorelist)\n",
    "    plt.plot(scorelist)\n",
    "    plt.xlim(0,nb_parties)\n",
    "    plt.ylim(-nb_parties,nb_parties)\n",
    "    plt.xlabel(\"number of games\")\n",
    "    plt.ylabel(\"Your score\")\n",
    "    plt.title(\"History\")\n",
    "    plt.show()\n",
    "        \n",
    "\n",
    "Rock=Button(formulaire,text=\"Rock\",command=plotRock)\n",
    "Rock.grid(row=0,column=0)\n",
    "\n",
    "Paper=Button(formulaire,text=\"Paper\",command=plotPaper)\n",
    "Paper.grid(row=0,column=1)\n",
    "\n",
    "Scissors=Button(formulaire,text=\"Scissors\",command=plotScissors)\n",
    "Scissors.grid(row=0,column=2)\n",
    "\n",
    "\n",
    "    \n",
    "\n",
    "mainloop()"
   ],
   "outputs": [
    {
     "name": "stderr",
     "output_type": "stream",
     "text": [
      "Exception in Tkinter callback\n",
      "Traceback (most recent call last):\n",
      "  File \"/opt/anaconda3/lib/python3.12/tkinter/__init__.py\", line 1968, in __call__\n",
      "    return self.func(*args)\n",
      "           ^^^^^^^^^^^^^^^^\n",
      "  File \"/var/folders/2y/fbjmy99x4_n615508kq38_740000gn/T/ipykernel_56199/3684981632.py\", line 33, in plotPaper\n",
      "    Mes1,Mes2,Vict,score,scorelist=play2(1)\n",
      "                                   ^^^^^^^^\n",
      "  File \"/var/folders/2y/fbjmy99x4_n615508kq38_740000gn/T/ipykernel_56199/878206404.py\", line 12, in play2\n",
      "    Mem[humanMoves[-2], a] += 1 if len(humanMoves) > 1 else 0\n",
      "        ~~~~~~~~~~^^^^\n",
      "IndexError: list index out of range\n"
     ]
    }
   ],
   "execution_count": 73
  },
  {
   "cell_type": "markdown",
   "id": "e42e543b",
   "metadata": {},
   "source": [
    "### Question 9 : Similarily to question 8, copy paste and rename as \"play3(a)\". In part #Decision making, implement the artificial intelligence with the presented method. Comment on the results."
   ]
  },
  {
   "cell_type": "code",
   "id": "80035eae",
   "metadata": {
    "ExecuteTime": {
     "end_time": "2025-01-27T14:08:09.790878Z",
     "start_time": "2025-01-27T14:08:09.788064Z"
    }
   },
   "source": [
    "#Rule of the game\n",
    "dico=[\"Pierre\",\"Feuille\",\"Ciseaux\"]\n",
    "rule=np.array([[0,-1,1],[1,0,-1],[-1,1,0]]) #1 for a winning move, -1 for losing \n",
    "# and 0 for equality"
   ],
   "outputs": [],
   "execution_count": 67
  },
  {
   "cell_type": "code",
   "id": "bad9753a",
   "metadata": {
    "ExecuteTime": {
     "end_time": "2025-01-27T14:08:11.063302Z",
     "start_time": "2025-01-27T14:08:11.059801Z"
    }
   },
   "source": [
    "#Initialisation\n",
    "humanMoves=[]\n",
    "victories=[]\n",
    "Score=0\n",
    "ScoreList=[]\n",
    "Mem = np.zeros((3, 3))\n",
    "\n",
    "    "
   ],
   "outputs": [],
   "execution_count": 68
  },
  {
   "cell_type": "code",
   "id": "9848ca8d",
   "metadata": {
    "ExecuteTime": {
     "end_time": "2025-01-27T14:08:13.427834Z",
     "start_time": "2025-01-27T14:08:13.423686Z"
    }
   },
   "source": [
    "#game program\n",
    "def play3(a):\n",
    "    #Machine decision making\n",
    "    # Machine decision making using AI\n",
    "    if len(humanMoves) > 1:\n",
    "        last_human_move = humanMoves[-1]\n",
    "        machineMove = np.argmax([Mem[last_human_move, 2] - Mem[last_human_move, 1],\n",
    "                                 Mem[last_human_move, 0] - Mem[last_human_move, 2],\n",
    "                                 Mem[last_human_move, 1] - Mem[last_human_move, 0]])\n",
    "    else:\n",
    "         machineMove = random.randint(0, 2)  # Random choice for first moves\n",
    "\n",
    "    #Human move save\n",
    "    humanMoves.append(a)\n",
    "    \n",
    "    # Save result and update memory\n",
    "    Mem[humanMoves[-2], a] += 1 if len(humanMoves) > 1 else 0\n",
    "    victories.append(rule[humanMoves[-1], machineMove])\n",
    "    \n",
    "    #Total score of human\n",
    "    Score=sum(victories)\n",
    "    ScoreList.append(Score)\n",
    "    \n",
    "    #Plotting\n",
    "    message1=\"Human :\",dico[humanMoves[-1]],\"Machine :\",dico[machineMove],\"gain for human :\",rule[humanMoves[-1],machineMove]\n",
    "    \n",
    "    message2=\"Total score for human :\",Score\n",
    "    \n",
    "    return (message1,message2,victories,Score,ScoreList)"
   ],
   "outputs": [],
   "execution_count": 69
  },
  {
   "cell_type": "code",
   "id": "4cb11505",
   "metadata": {
    "ExecuteTime": {
     "end_time": "2025-01-27T14:09:24.057606Z",
     "start_time": "2025-01-27T14:08:16.166034Z"
    }
   },
   "source": [
    "#Man-Machine Interface\n",
    "fenetre=Tk()\n",
    "fenetre.title(\"your turn to play\")\n",
    "fenetre.minsize(width=600,height=600)\n",
    "formulaire=Canvas(fenetre)\n",
    "formulaire.pack()\n",
    "\n",
    "label1=Label(formulaire)\n",
    "label1.grid(row=3,column=1)\n",
    "\n",
    "label2=Label(formulaire)\n",
    "label2.grid(row=4,column=1)\n",
    "\n",
    "label3=Label(formulaire)\n",
    "label3.grid(row=5,column=1)\n",
    "\n",
    "def plotRock():\n",
    "    Mes1,Mes2,Vict,score,scorelist=play3(0)\n",
    "    label1.config(text=Mes1)\n",
    "    label2.config(text=Mes2)\n",
    "    label3.config(text=Mem)\n",
    "    nb_parties=len(scorelist)\n",
    "    plt.plot(scorelist)\n",
    "    plt.xlim(0,nb_parties)\n",
    "    plt.ylim(-nb_parties,nb_parties)\n",
    "    plt.xlabel(\"number of games\")\n",
    "    plt.ylabel(\"Your score\")\n",
    "    plt.title(\"History\")\n",
    "    plt.show()\n",
    "    \n",
    "      \n",
    "def plotPaper():\n",
    "    Mes1,Mes2,Vict,score,scorelist=play3(1)\n",
    "    label1.config(text=Mes1)\n",
    "    label2.config(text=Mes2)\n",
    "    label3.config(text=Mem)\n",
    "    nb_parties=len(scorelist)\n",
    "    plt.plot(scorelist)\n",
    "    plt.xlim(0,nb_parties)\n",
    "    plt.ylim(-nb_parties,nb_parties)\n",
    "    plt.xlabel(\"number of games\")\n",
    "    plt.ylabel(\"Your score\")\n",
    "    plt.title(\"History\")\n",
    "    plt.show()\n",
    "\n",
    "def plotScissors():\n",
    "    Mes1,Mes2,Vict,score,scorelist=play3(2)\n",
    "    label1.config(text=Mes1)\n",
    "    label2.config(text=Mes2)\n",
    "    label3.config(text=Mem)\n",
    "    nb_parties=len(scorelist)\n",
    "    plt.plot(scorelist)\n",
    "    plt.xlim(0,nb_parties)\n",
    "    plt.ylim(-nb_parties,nb_parties)\n",
    "    plt.xlabel(\"number of games\")\n",
    "    plt.ylabel(\"Your score\")\n",
    "    plt.title(\"History\")\n",
    "    plt.show()\n",
    "        \n",
    "\n",
    "Rock=Button(formulaire,text=\"Rock\",command=plotRock)\n",
    "Rock.grid(row=0,column=0)\n",
    "\n",
    "Paper=Button(formulaire,text=\"Paper\",command=plotPaper)\n",
    "Paper.grid(row=0,column=1)\n",
    "\n",
    "Scissors=Button(formulaire,text=\"Scissors\",command=plotScissors)\n",
    "Scissors.grid(row=0,column=2)\n",
    "\n",
    "\n",
    "    \n",
    "\n",
    "mainloop()"
   ],
   "outputs": [
    {
     "name": "stderr",
     "output_type": "stream",
     "text": [
      "Exception in Tkinter callback\n",
      "Traceback (most recent call last):\n",
      "  File \"/opt/anaconda3/lib/python3.12/tkinter/__init__.py\", line 1968, in __call__\n",
      "    return self.func(*args)\n",
      "           ^^^^^^^^^^^^^^^^\n",
      "  File \"/var/folders/2y/fbjmy99x4_n615508kq38_740000gn/T/ipykernel_56199/1730690112.py\", line 18, in plotRock\n",
      "    Mes1,Mes2,Vict,score,scorelist=play3(0)\n",
      "                                   ^^^^^^^^\n",
      "  File \"/var/folders/2y/fbjmy99x4_n615508kq38_740000gn/T/ipykernel_56199/2013229756.py\", line 17, in play3\n",
      "    Mem[humanMoves[-2], a] += 1 if len(humanMoves) > 1 else 0\n",
      "        ~~~~~~~~~~^^^^\n",
      "IndexError: list index out of range\n"
     ]
    }
   ],
   "execution_count": 70
  },
  {
   "cell_type": "markdown",
   "id": "81adb2f8",
   "metadata": {},
   "source": []
  },
  {
   "cell_type": "markdown",
   "id": "73f9eb8b",
   "metadata": {},
   "source": [
    "###  Statistical tests"
   ]
  },
  {
   "cell_type": "markdown",
   "id": "4c1ba411",
   "metadata": {},
   "source": [
    "### Question 10 : Create a list \"listRandom\" of size $100$ that you will fill by hand with values $1$ or $-1$, trying to approximately respect a uniform distribution. Create a list \"listMachine\" of same size with values $-1$ ou $1$ using \"np.random.choice\". "
   ]
  },
  {
   "cell_type": "code",
   "id": "ed5bd89f",
   "metadata": {
    "ExecuteTime": {
     "end_time": "2025-01-27T15:45:00.394070Z",
     "start_time": "2025-01-27T15:45:00.391141Z"
    }
   },
   "source": [
    "listRandom=[-1, 1, 1, 1, 1, -1, 1, -1, 1, -1, -1, 1, -1, 1, -1, 1, 1, 1, 1, -1, 1, 1, 1, -1, -1, 1, 1, 1, 1, -1, -1, 1, -1, 1, 1, 1, 1, -1, -1, 1, 1, 1, 1, 1, 1, 1, -1, -1, 1, 1, 1, -1, -1, -1, 1, 1, -1, -1, -1, 1, 1, 1, -1, 1, 1, -1, -1, 1, 1, 1, 1, -1, 1, -1, -1, 1, 1, 1, -1, -1, 1, 1, -1, 1, 1, 1, 1, 1, 1, -1, 1, 1, 1, 1, 1, 1, 1, 1, 1, 1]\n",
    "listMachine = np.random.choice([-1,1], size = 100)\n",
    "\n"
   ],
   "outputs": [],
   "execution_count": 119
  },
  {
   "cell_type": "markdown",
   "id": "0e3cf09d",
   "metadata": {},
   "source": [
    "### Question 11 : Compute $I(0)$. What information is given by $I(p)$ for $p>0$? What is the value of $I(p)$ when $X_k$ are iid variables on $\\{-1,1\\}$?"
   ]
  },
  {
   "metadata": {},
   "cell_type": "markdown",
   "source": "",
   "id": "dff72ece325cd38b"
  },
  {
   "cell_type": "markdown",
   "id": "744fe0c8",
   "metadata": {},
   "source": "I(0) will be always equal to 100 since it's the sum of 100 square of 1 or -1. The information given by I(p) is the correlation between the different parts of the same list. We expect that I(p) will be close to zero for all p>0."
  },
  {
   "cell_type": "markdown",
   "id": "39bcc4ae",
   "metadata": {},
   "source": [
    "### Question 12 : Create a function \"autocorr(X,p)\" with input a list $X$ of $100$ integers, un entier $p\\in \\{0,\\ldots,99\\}$ and returns the autocorrelation of $X$ in $p$."
   ]
  },
  {
   "cell_type": "code",
   "id": "33762a53",
   "metadata": {
    "ExecuteTime": {
     "end_time": "2025-01-27T15:06:40.288770Z",
     "start_time": "2025-01-27T15:06:40.285553Z"
    }
   },
   "source": [
    "def autocorr(X,p):\n",
    "    autocorr=0\n",
    "    for i in range(len(X)-p):\n",
    "        autocorr+=(X[i]*X[i+p])\n",
    "    return autocorr\n",
    "print(autocorr(listRandom,0))\n",
    "    "
   ],
   "outputs": [
    {
     "name": "stdout",
     "output_type": "stream",
     "text": [
      "100\n"
     ]
    }
   ],
   "execution_count": 89
  },
  {
   "cell_type": "markdown",
   "id": "6364b646",
   "metadata": {},
   "source": [
    "### Question 13 : Plot the autocorrelation of the two lists in function of $p$. Comment."
   ]
  },
  {
   "cell_type": "code",
   "id": "37750516",
   "metadata": {
    "ExecuteTime": {
     "end_time": "2025-01-27T15:16:11.941994Z",
     "start_time": "2025-01-27T15:16:05.943743Z"
    }
   },
   "source": [
    "p_values = range(100)\n",
    "I_values = [autocorr(listMachine, p) for p in p_values]\n",
    "I_values1 = [autocorr(listRandom, p) for p in p_values]\n",
    "plt.plot(p_values, I_values, marker=\"o\", color=\"blue\", label=\"listMachine\")\n",
    "plt.plot(p_values, I_values1, marker=\"+\", color=\"red\", label=\"listRandom\")\n",
    "plt.title(\"Autocorrélation $I(p)$ en fonction de $p$\")\n",
    "plt.xlabel(\"$p$ (décalage)\")\n",
    "plt.ylabel(\"Autocorrélation $I(p)$\")\n",
    "plt.grid()\n",
    "plt.legend()\n",
    "plt.show()"
   ],
   "outputs": [],
   "execution_count": 96
  },
  {
   "metadata": {},
   "cell_type": "markdown",
   "source": "The both results seems to be correlated, and it's normal since the two list are very similar.",
   "id": "50cc85bb71f4ebe"
  },
  {
   "cell_type": "code",
   "execution_count": null,
   "id": "d1aa6300",
   "metadata": {},
   "outputs": [],
   "source": []
  },
  {
   "cell_type": "code",
   "execution_count": null,
   "id": "07e9baa1",
   "metadata": {},
   "outputs": [],
   "source": []
  },
  {
   "cell_type": "markdown",
   "id": "efcbfddd",
   "metadata": {},
   "source": [
    "### Question 14 : Create a sample \"ech\" of size $5000$ of the random variable $I(1)$. "
   ]
  },
  {
   "cell_type": "code",
   "id": "cdfe64fb",
   "metadata": {
    "ExecuteTime": {
     "end_time": "2025-01-27T15:25:44.530563Z",
     "start_time": "2025-01-27T15:25:44.409237Z"
    }
   },
   "source": [
    "ech=[]\n",
    "for i in range(5000):\n",
    "    l = np.random.choice([-1,1],100)\n",
    "    ech.append(autocorr(l, 1))\n",
    "\n",
    "print(ech)\n"
   ],
   "outputs": [
    {
     "name": "stdout",
     "output_type": "stream",
     "text": [
      "[15, -13, 1, 3, -7, 11, -19, -3, 3, 5, -13, -9, 7, -7, -17, -7, 3, 9, -7, 3, -3, 3, -1, -1, 7, -9, 9, -13, -17, -7, -3, -13, -5, -5, -1, -5, 5, 5, -7, 1, 13, 13, -3, 3, -19, 17, -3, -3, -3, -3, -9, -11, -11, -19, 3, -13, 11, -5, -15, -3, -7, -7, 9, -19, 9, 15, 11, -7, -5, 9, -11, 11, -7, -3, -9, 5, -13, -3, -9, 19, -11, 9, 1, 5, -17, -9, -3, 1, 7, -1, 7, 11, -15, -3, 9, 3, 13, -15, -7, -5, -5, 13, 5, 1, 17, 3, 13, -1, 11, 11, 7, -21, 5, 1, 15, -3, 17, 5, 1, -3, 3, -15, -5, 13, -5, -5, 3, -5, -7, -13, -5, -7, 15, 1, -7, -21, 9, -5, -3, -25, 5, -15, -13, -11, 13, 1, 17, 3, 1, -3, 15, -7, -3, -1, 23, 7, 7, -9, -27, -9, -17, 9, 3, 3, 3, 7, 5, 17, -5, 3, -5, -1, 13, -1, -9, 3, 3, 1, -5, 7, 7, -5, 7, -5, -3, 1, 21, -1, -3, -11, -3, 11, 7, -5, 3, 3, -11, -17, 7, 13, -13, 9, 1, 7, 13, -11, -1, 9, -5, -1, -15, 21, -13, 17, -7, -17, -19, -5, -15, 5, -1, -15, 11, -1, -19, -7, -19, 11, -7, -7, 17, -3, -9, 11, -11, 15, 7, -1, 13, -17, 1, -19, -17, 11, -5, -1, 3, 15, -13, -7, -3, -1, -1, 9, 5, 7, -7, 1, -3, -3, -11, 3, -11, -1, 3, 25, -1, -1, -3, 3, 17, -1, -1, -3, 9, -7, 21, -9, 1, 7, 5, 19, -1, 1, 9, -1, 3, 5, 3, 7, -3, -7, -17, -7, -3, -17, -7, -3, 7, 5, 21, -17, 3, 7, 9, -1, 3, -5, 9, -17, 7, -1, -7, 11, 5, -23, 3, 7, -1, -11, -7, 3, -1, -7, 7, -1, 9, -9, -11, 11, 13, 5, 9, 7, -13, 11, 1, 7, -7, 19, -5, -23, -3, -15, 3, -9, -5, 9, 11, 9, 1, 13, 11, -11, 3, 9, 15, 5, -3, -11, -1, -11, -11, 1, 15, -19, 1, -13, 11, 3, -5, 3, 11, 11, -1, 1, 9, 11, -9, 5, 7, -11, 7, 3, 19, 13, 5, -9, 3, -17, 1, -7, -5, 1, -11, -1, 3, 1, -9, -9, -1, -3, 7, -7, -17, 5, -7, 9, 1, 15, 9, 25, 7, 13, -5, -5, 5, 17, 1, 7, 15, -5, 1, -3, 5, -9, 5, 1, -7, 1, -3, -5, -7, 17, -3, -5, -5, 13, -19, -1, -11, -1, 3, -3, -1, -9, 3, -1, -7, -15, -7, -3, 1, 5, 7, 13, 17, -11, -5, -9, 9, 15, -1, -5, -5, -1, -5, -19, 9, 1, 5, -9, -11, 15, -3, -15, 23, 1, 7, 3, 17, -11, 3, -5, 1, 7, -7, 7, -17, 5, -3, 3, -15, 13, 17, -3, -5, 9, -3, -11, -5, 7, 3, -3, 25, -5, 15, 17, -3, 3, 1, 1, 1, -9, 7, -9, -13, 1, 3, -5, -1, -9, -15, 7, -7, -3, -7, 13, 23, -5, 5, 5, 1, -7, -11, -7, 21, -3, 1, -5, 1, -11, 11, 9, 11, -19, -21, -15, 7, 19, 7, 11, -17, 9, 3, 5, -11, 3, -1, 5, -11, 9, -3, -5, 5, 3, -13, -9, -17, 11, 11, -3, 9, -15, 7, -11, 1, -17, -1, 9, -11, -3, -1, -13, 1, 11, 7, 13, 3, -5, -7, -9, -1, 9, 7, 5, 5, 11, -5, -1, -3, 11, -3, 7, 19, 5, 3, -5, 1, -7, -9, -17, -9, 11, -13, -3, -1, 3, 5, 5, 3, 9, 15, 3, 11, 15, 3, -15, 1, -23, 7, -11, -19, 25, -1, 9, -13, -23, 17, -3, -15, 17, 11, 5, -1, 3, 9, -9, -5, -7, -1, 1, 1, -11, -17, 1, 15, 21, 5, 3, 1, -1, -7, 9, -19, 15, -3, 11, 5, 3, 1, 5, -5, 15, 11, 9, 1, -9, 3, -7, -19, -9, 7, 11, 9, 9, -1, -1, 7, 13, -11, -5, 9, 1, -9, -15, 1, -11, -1, -5, 13, -1, 1, 5, -7, 9, 11, 1, 21, 5, -13, -11, -27, -5, -9, -15, -3, -9, 7, -5, -1, 13, 7, 25, 1, 5, 11, -5, 17, 13, -13, 17, -3, 9, -7, -7, -19, -1, 3, 25, 5, 3, -5, 3, -13, 5, -9, -9, 11, -9, 3, 7, -19, 5, 19, 1, -7, -3, -3, -1, 3, 7, 1, -15, -13, -3, -15, 3, -11, -3, -15, -7, -5, 7, -7, 13, 19, 13, 9, -1, -9, 1, -9, 15, -1, -5, 3, 9, -3, -3, -15, 3, -9, 15, -9, 19, -5, -3, 15, 15, 11, 13, -7, -3, 7, 9, 1, 9, 1, -9, 3, -1, -3, 5, -11, -5, 11, 7, 3, 17, 9, -1, 1, 15, -5, -11, -5, 11, -13, -11, 3, 5, -5, -3, -5, 1, 7, 5, -5, 17, 1, -1, -11, -11, 1, 1, 3, 15, 1, 9, -3, 21, -9, 7, -15, 13, -15, -1, 9, 11, 3, -19, -1, -5, -11, -17, 11, -3, -11, 9, 17, -15, 3, 3, 1, -11, 21, -3, 11, 3, -3, -1, -5, -5, 13, -3, 13, 7, -9, 7, -7, 3, -5, -7, 3, 3, -3, 9, -5, 13, 1, 1, -5, -1, -13, 19, 7, 19, -11, 1, 1, 17, -7, 9, 9, 13, 5, -1, -13, -15, -19, -1, -9, -3, 3, -11, 7, 13, -5, -7, -5, 13, -27, -13, -5, 1, 7, 11, -11, 9, 15, -3, -13, -11, -15, 5, -1, -5, -5, -3, -13, 11, 7, 15, 13, 5, -7, -3, 15, -5, -3, 7, -21, 7, 5, 21, -11, 9, -11, 9, -17, 1, 13, 9, 9, -17, 1, -7, -5, 1, 13, 3, -5, -5, 5, 1, -11, 15, 5, -19, 1, -13, 13, 3, 3, -1, 9, 5, 1, 15, -3, -5, 1, 9, -9, 5, 9, 25, 7, 3, -5, 1, 7, 3, 3, 5, -3, 19, 17, 9, 9, -9, 1, -13, -9, 5, -5, 15, 11, 13, -5, 7, 3, -9, -19, -11, -7, 5, 7, -15, 3, -17, -13, -7, -1, -27, -7, 1, 1, 19, 1, -1, -15, 9, -1, 11, -1, 13, -1, -11, -17, 13, 9, 5, -9, 11, 11, 7, -11, 3, 7, 7, -3, 17, -3, 1, 1, 3, 3, -1, 7, 13, -1, -5, 23, -1, 3, 3, 1, -5, 9, -15, 9, 9, 9, -7, -1, -5, -5, -5, -7, 3, -7, -9, 1, -3, -19, -5, 1, -1, 7, -3, 5, -7, -3, -1, 3, -17, -1, 1, 13, -13, -5, -7, -13, 17, -7, -27, 7, 13, 7, 5, -1, -3, -7, -7, 1, -9, -1, 13, -5, 11, -1, -11, 15, -5, 3, 15, -3, -5, 3, 9, 1, 3, 15, -15, 9, -9, 1, 11, -11, 1, -1, 3, 17, -9, 15, 5, 15, -9, 1, -19, 9, 3, -7, -3, -15, -21, -3, -5, 5, 1, -7, -13, -1, 7, -1, -7, 5, -19, 17, -7, -9, -9, 13, 3, -5, 3, 9, 7, -9, 9, -19, 5, -7, 3, -3, 7, 9, 15, 3, -5, -5, -11, 7, 7, -3, -21, -1, -13, -5, -11, 3, 5, 1, -3, 9, -3, -9, 5, -9, 9, 3, -15, 15, 15, 5, -7, -21, 11, -1, -13, 9, -5, 11, -1, 9, 11, 17, -1, -7, 9, -5, 5, -7, 1, 3, 9, 1, 1, 5, 7, -3, 3, 1, 19, -3, -5, -7, -3, -13, 15, -1, 7, 9, 5, 11, -3, -15, 1, -7, -13, -5, 15, -1, -3, 3, 7, -1, 1, 3, -13, -1, -17, 3, 21, 19, 5, 23, 11, 1, -5, 9, 11, 21, -1, 5, 3, 3, 3, 5, 5, -15, -15, -5, 23, 7, -25, -15, -7, -13, 5, -15, -1, -17, -11, 9, 3, -3, 7, -5, 1, -15, 9, 5, 17, 9, -3, 3, 3, 21, 21, -13, 15, 3, -7, -3, 3, -19, -3, 3, -1, 11, 9, 11, 3, 19, 19, 13, -11, 13, 5, 15, 3, -11, 3, -5, 19, 5, 13, -7, 1, 3, 5, 5, 19, -3, -7, 17, 9, -11, -5, -11, 5, 5, -1, 3, -7, -7, -7, 5, -3, 3, -3, 3, 5, 1, -3, 5, -17, -1, 9, 5, 5, 21, 7, 13, -5, 13, 13, 1, 1, 7, -9, -5, 5, 13, -3, 13, -19, 1, 1, -3, 5, 3, -11, -1, -11, 7, 19, 15, 1, -1, -1, 21, -5, 1, -1, -7, 15, 5, 5, -5, 5, -17, 7, 3, -3, -3, 17, -11, 1, -1, 9, 15, 11, 3, -1, 13, -1, 5, -15, -13, 11, -1, 1, 3, 3, 17, 1, 13, -9, -1, 1, -9, -5, -7, 13, 19, 1, -13, 1, 13, -3, 13, -13, -5, -13, 5, 1, 3, -1, 9, -13, -7, 1, 7, 7, 5, 11, -11, 1, -9, 19, 27, 11, -9, 11, 3, 5, -15, 1, 5, -11, 17, 3, -1, -3, 5, -15, 7, 9, 5, 7, -5, -1, -27, 3, 15, 5, -3, -3, -9, 1, -3, -9, -13, 15, -11, -23, -3, -7, -15, 7, 7, -3, -3, -17, 3, -3, -13, 9, 5, 3, -5, 1, -3, -3, -25, 9, 19, -1, -1, 19, 1, 15, 3, -3, -7, 3, -5, -9, -1, 9, -13, -1, -3, -1, 11, 3, 1, 9, 7, 3, 17, 1, -3, -3, 11, -3, 1, 3, 3, -9, -17, -11, 5, -25, -21, -13, 5, 13, -7, -9, 3, -5, 3, -1, -7, -13, 9, -5, -3, -13, -1, -11, 21, 17, 7, -1, 1, -9, 1, -13, 23, -1, -3, 1, 9, -5, 1, -7, 5, 15, 3, 13, -15, 19, -11, 11, -7, -5, 3, 15, -13, 1, 1, -5, 3, 7, 9, -3, 9, 9, -13, 7, 17, -1, 1, 7, 7, 7, 3, -11, -5, -3, 11, -3, 13, 3, 11, -9, 3, 5, -11, 11, -5, 13, 1, -5, 15, -13, 15, 7, -13, 9, 11, -7, -1, 5, -5, -7, 3, -11, 5, 13, 11, -11, -11, -13, -7, 1, 3, 21, 3, 5, -3, -15, 1, -25, -1, -19, 1, 11, -15, 5, 5, -17, 3, 7, 13, -13, 9, 15, 1, 25, 5, -25, 7, -3, 9, -7, 1, 17, 1, 19, 7, 5, -7, 3, 29, -7, -13, -5, -3, -3, 1, -5, -3, -7, 11, 19, -1, 3, -17, 3, -5, -17, -23, -5, 7, 1, 11, -3, 5, -5, 13, -3, 5, 3, 9, -9, -13, 3, 5, 17, -11, 17, 1, -7, 13, -3, -19, -15, -1, -13, 11, 9, 1, -3, 1, -21, -21, -11, -25, -17, -11, 11, 9, -1, 7, -11, 3, -9, 5, -11, -19, 3, 7, -11, -5, -5, -7, 5, 7, 11, -15, -19, 3, 17, -11, 3, -1, -13, -11, -5, -11, 17, 11, 5, 3, -1, -7, 15, 1, -5, 1, 15, 9, 1, 7, 5, 21, -1, -9, 11, 7, 5, -5, 5, -11, -17, -21, -13, 3, -3, -5, -17, 7, 1, -3, 1, -3, 5, 13, 7, 15, -7, -21, 13, 7, 7, -3, 7, 1, -13, 9, -17, 1, 3, -9, -3, 5, 3, 15, 7, 17, -3, -9, -11, 9, 7, -7, -3, -1, 1, -1, 13, -1, -5, -9, 9, 25, -27, 17, 1, -9, 3, -3, -1, 7, 11, 11, -1, -17, -5, 15, -1, 3, -11, -1, -9, 9, -7, 1, -3, -3, -3, -9, 7, -5, -9, -7, -1, -27, 7, 9, -9, -21, -17, 3, -1, -1, 1, -1, 3, -5, 5, 3, -19, 3, 5, -5, 3, -23, 5, -13, -3, -7, -3, -19, -13, 1, -5, 7, 5, -15, 9, 11, -7, -11, -9, -11, -3, -7, 7, -35, -9, -5, -11, 7, -5, 7, 13, -11, -9, -9, -13, -5, 1, 5, -3, 1, -3, -7, -5, -1, -3, 5, 1, -5, -1, -3, -1, 3, 7, -1, -21, -1, -11, -5, -3, -5, -11, -7, -9, -1, -11, -9, -5, -1, 9, 7, 11, -3, -3, -11, -17, -1, -5, 3, 5, 7, 13, -17, -1, -1, -9, -19, 13, -1, 7, 15, 15, 3, -17, 5, 9, 7, 7, 13, 9, 7, 11, 5, -7, 11, 7, 11, 5, 9, 19, 11, 15, 13, -7, -17, -15, 3, 1, 25, -25, -7, -1, 19, -17, 3, -5, 1, 7, -7, 11, 11, 3, 7, 17, -3, -7, 13, -15, 1, 7, 13, -3, 7, -1, 3, -7, 1, -11, 3, -1, 7, -11, 5, -1, 1, -3, -3, -1, 9, 1, 11, 1, -1, 3, -9, -3, 5, 3, -7, 5, -11, 23, 7, -13, -1, -7, -3, 1, 3, -9, 15, -5, -17, -5, -3, 11, -3, -3, -23, -3, 3, -11, -9, -1, -5, 13, 27, -5, -1, -1, -7, 5, -7, 3, -11, 1, 11, -21, 9, 3, -1, -7, -7, -5, 13, -15, -1, -15, 5, -7, 7, 5, 23, 5, -1, 7, -3, -15, -21, -11, 1, 23, 13, -3, -1, -3, -23, 9, 1, -11, -17, -19, 3, -27, -17, -25, -19, -7, -23, -7, -1, 7, -15, -1, 3, -3, -3, 13, -21, 9, -11, 1, 3, -25, -5, 3, -3, 3, -5, -15, -5, -15, 1, 7, -9, -3, 11, 13, -1, 3, -17, -3, 17, 5, -1, 13, -23, 9, 3, -9, 5, -15, -15, -13, -3, 9, -3, -5, 5, -3, -7, -7, -13, 3, -1, -11, -9, -11, 13, 7, 23, 3, 15, 7, 9, 13, -1, 3, -5, -17, 3, 7, -5, 11, 7, 5, 9, -7, 1, -19, -3, 15, 7, 27, -3, -9, -13, -1, 13, -7, -1, -21, -7, -3, 3, -23, 7, 5, -1, -5, 3, 1, 11, -5, -1, 13, 13, 7, -1, -17, -13, 7, 11, 3, 17, -1, 1, -9, 17, -13, -5, -13, -5, -1, 9, -5, 13, 7, 1, 3, 13, -13, -19, 1, 15, 17, 7, -3, 13, 11, -1, -15, 13, 7, 11, 11, -5, -1, 7, 3, -5, -21, -1, 3, 13, -7, -7, -5, 1, 5, 21, -3, 15, 9, -1, 1, -7, -9, -1, -11, -11, -3, -25, 13, 13, 25, 3, -15, 13, 9, 15, 15, 9, 7, 23, 9, 9, -1, 5, 3, 11, 3, 13, -7, -23, -5, 15, 15, 9, -9, 5, -7, -3, 7, -11, -9, 13, 5, -3, 3, 3, 17, 1, 11, -3, -9, -3, -11, 5, -3, -1, -11, -7, 19, -7, -3, -3, 5, -15, -3, 11, 17, -1, 7, -7, 7, -3, -11, 5, 1, 17, 11, -5, -1, -15, 3, -9, -15, -1, 9, 11, 15, -5, -25, 15, 5, 1, 7, -1, 13, 9, -3, -17, 3, -7, 9, 5, 3, -7, -1, 7, 9, -9, 13, 13, -5, -13, -7, -1, 1, 1, 13, -5, -5, 7, -1, -17, -9, 1, 7, -1, -5, 11, -1, 7, -9, -9, -5, -7, 19, 11, -11, 7, -3, -17, -21, -7, -11, -15, -1, -1, -9, -3, 11, 15, -15, 9, -3, 5, 11, -15, -1, 7, -1, -19, 21, 9, -7, -1, 1, -5, 3, -1, -13, 9, -19, -13, -5, 3, -9, 5, 13, 5, 9, -3, -9, 9, -13, -3, 9, 1, 7, -3, 9, -1, 1, -15, 3, -23, -3, -1, 19, -1, 19, -11, -5, 3, 13, 11, 3, 1, -13, 3, -19, -9, -7, 1, -3, -17, 13, 1, 9, -13, -1, -15, 11, 11, -17, 11, -3, -1, 5, -21, -13, 3, 17, -7, -3, 9, -1, 3, 5, 11, 11, -7, 3, -1, -3, -11, 1, 9, -11, -11, 1, -5, -1, -11, 15, -17, -1, -5, -19, 3, 5, -11, 1, -1, -7, 5, -1, -5, -9, -9, 17, 5, -15, -11, -23, 3, -3, -3, -1, -5, -7, 1, -11, -15, -17, 5, -19, -13, 7, -7, -1, -11, -11, 1, -13, 9, 9, 13, -9, 9, -7, -17, 19, -17, -13, -5, 11, 5, 23, -5, -5, 3, 9, -5, -5, 5, 1, -19, 7, -13, -9, 9, -19, -11, -25, 7, 1, -7, -11, 13, -7, -3, -1, 9, -9, 11, -11, 3, 3, -17, 1, 17, -11, -7, 7, 5, 7, 1, -1, -7, -11, -9, -3, -7, 1, 1, -3, -5, -3, -7, 5, -5, 11, -3, 11, 9, 3, -5, -7, 5, -11, -15, -9, 1, 15, 11, -11, -3, 15, 7, 17, 21, -7, 1, -21, -3, -9, 1, 13, -3, 3, 5, -9, -19, 3, 7, 13, -13, 1, -7, 9, 7, 3, 5, 21, 13, 13, -27, 11, 5, -1, -5, -15, 9, -1, -1, -3, -3, -9, 3, 1, -17, 11, 1, -7, -5, 5, 3, 7, 5, 3, -5, -3, -9, -1, 5, -7, 9, -7, 5, 15, -13, 11, 11, -9, 3, -1, 21, 11, -1, 1, 9, -3, 5, -5, 1, -3, -7, 9, -13, -9, -1, -5, 3, -23, 7, 5, 11, 31, -7, 7, 5, 5, 3, -11, -11, 1, 5, 5, -1, 5, -11, 13, 9, -11, -19, -3, -15, -9, 17, -11, -3, 1, -3, -11, -3, -11, 7, 19, -15, 7, -3, 7, -13, -5, 9, -17, -27, -11, 9, 9, 13, -1, 1, 13, -9, 3, 5, -3, -3, -5, 17, 5, -1, 9, 11, 13, 7, 3, -5, -3, 5, -5, 17, 27, 25, 9, -9, 5, 9, -7, 5, -9, 5, -11, 7, 7, -5, 11, -7, -7, 3, -11, -3, -3, 7, -7, -11, -11, -1, 1, -3, -1, 19, -5, 1, 17, -11, 7, -9, 3, 3, -9, -9, -1, -1, -9, 11, -11, 5, -3, -7, 21, -7, -9, 1, -9, -5, -3, 17, -1, -5, -9, -21, -5, -17, -13, 1, 1, 7, -3, 13, -1, -1, 5, 11, -7, -13, -9, -17, 3, -19, -9, 5, 15, -3, 7, -9, 11, 23, 11, 9, -3, 19, -15, 7, -7, -11, 3, 1, 1, 9, -11, -13, -7, 3, -9, -9, 17, 9, 9, 11, 1, 13, 7, 11, 21, -1, -5, 3, -9, 9, -13, 9, -9, 3, -7, 5, -15, -1, 1, 3, -3, 23, -1, 13, 13, -11, -7, -13, 5, -5, 7, -17, -3, -13, 7, -3, 3, -15, 7, 9, -3, -1, 5, 5, -3, -9, -9, 13, -13, 1, -7, 9, -5, -3, -17, -25, 9, -13, 3, -9, 1, 9, -5, -7, 7, -3, -5, -1, -5, 5, -7, 1, -3, -9, -9, 7, 11, 3, -3, -1, 11, -7, 5, 7, 11, -1, 1, -7, 3, 3, 3, 5, 19, -9, -5, -3, -9, 7, -15, 1, -1, 5, -3, 3, 3, 7, 13, -1, 3, -13, 11, -1, 7, -7, 3, -15, -1, 7, 1, 1, 5, 15, -1, 13, -5, 13, 9, 9, 15, -1, 17, -5, 15, -3, -9, 7, -3, 9, 15, 1, 3, -1, 3, -7, -3, 1, -7, -1, -11, 1, -1, -7, -5, 7, -21, -13, 3, -3, -5, -9, 9, -13, -5, 1, 5, -3, 23, -7, -13, -13, -11, -3, -29, 9, -15, 7, 9, -7, 3, -3, -9, 1, -1, -5, -5, -1, -3, 19, -5, -7, -3, 9, 11, -7, -5, -3, 15, -3, 13, -13, -5, -17, 9, 3, 11, -5, -1, -5, -3, 3, -15, -9, 7, 15, 7, -3, 19, 1, -13, 5, -9, -1, -3, 3, 7, -3, 13, 3, 5, 9, 1, 15, 1, 7, 5, -9, -1, -5, -1, 11, 7, -1, 3, -27, -9, -5, 1, 5, 1, -1, 1, -17, -11, -11, 19, -5, 7, -1, 5, 9, 1, -7, -3, -5, -3, -1, 9, 11, 15, 17, -7, -9, -15, -9, -1, -29, -5, 3, -13, 3, 9, -1, -15, 11, 3, -3, -9, 7, -9, 5, 7, 5, 7, 9, 7, 9, 5, 9, -5, 13, -9, -23, -7, -3, -3, 1, 7, 5, -3, -13, 11, 3, 21, 13, 1, -21, -11, -15, 3, -15, -3, 5, 5, 1, 21, -5, 5, 3, 3, 13, 17, 5, -1, 1, -1, -9, -3, -21, -11, 1, -17, -7, 13, -7, -1, -1, 13, -13, 7, 5, -3, 3, -7, -9, 7, -19, -9, 3, 9, 7, 17, -7, -7, -13, 1, 1, 7, 7, 7, -5, 7, -13, -11, -17, -5, 23, -5, 7, 7, 19, -1, -7, 11, 3, 1, 15, -15, -11, -1, 5, 3, 15, -9, -15, -13, -3, -3, 7, 1, -13, 5, 3, -9, -3, 11, -13, -5, -11, 25, -9, -3, 3, 19, -1, -3, 1, -13, -11, -3, 15, -13, -11, 13, -15, -5, 11, -5, 15, 13, 5, -17, 1, 1, 9, -11, -19, 1, -1, 11, 5, -5, -3, -9, 11, 3, -9, 1, 13, 11, 3, -3, -3, 3, 1, -1, 9, 13, -19, 21, -1, 11, -5, 3, -5, -5, -5, -11, -5, 3, -9, -7, -19, -7, -9, 1, 7, 1, -7, 1, -1, 1, -7, -7, 1, -11, -13, 3, -1, 5, 21, 1, 13, 9, 1, 7, 17, 3, 7, 7, 9, 1, -1, 13, -13, 29, -3, -15, -7, -3, 3, 13, 21, -5, 7, -13, -7, -1, -5, -11, -3, 1, 3, -9, 7, -5, -7, -13, 1, 7, -9, 3, 17, -3, -7, 1, -7, -3, -3, -19, 3, -3, -7, -1, -5, 23, -1, -13, -1, 3, -11, -15, 9, -5, -27, 1, 9, -5, -3, -1, 7, 19, -5, -1, -1, -13, 3, -1, -5, 7, -3, -3, -5, 5, 7, -13, -5, -3, 17, -11, -3, 1, -1, -9, -3, -3, -5, 1, 3, -1, -9, 9, 9, 3, -9, -13, -3, -9, -7, -11, -5, -3, 5, -3, -3, 9, -3, 23, -19, -7, 15, -11, -3, 23, 15, -15, -37, -1, -7, -19, 13, -19, 21, -5, 5, -3, 5, -5, 1, 1, -27, -9, -11, 25, 1, -13, -5, 11, 5, 13, 7, 7, -11, 9, 7, 3, 3, -1, -7, -5, 7, 3, -9, -15, -3, -5, 5, -9, 5, 15, 1, 9, 1, 13, 7, -1, 13, -3, -3, 19, -1, -1, -5, 5, 5, -13, 13, 11, 7, 1, -25, 5, -15, 5, -3, 3, -7, 1, 9, -7, 9, -31, -7, 11, -3, -23, -21, -11, 11, 5, -13, 1, 5, -3, 9, 11, -11, 19, -3, -27, -5, -11, 3, 3, 5, 11, 7, -7, -3, 5, -7, -19, -17, -9, 7, -7, 3, -3, 23, -7, -5, -3, 5, 7, -13, -7, 5, -7, -7, -13, 13, -15, 9, 13, -7, 9, -1, -3, 1, 1, 3, 3, 13, -19, -9, -15, 1, 15, 15, -5, -3, -11, 11, 5, -7, 13, -15, 11, 9, 5, -3, -13, -11, 7, 9, -13, 13, -11, -1, -3, -1, 19, -15, -1, -9, 1, -17, -11, 1, 1, -5, 15, 17, -7, -13, -1, 5, 11, -23, 5, 5, -7, 1, -7, -15, 9, -29, -9, 5, 13, 15, -13, 15, 3, -7, -15, -3, -3, -25, 17, 11, -1, 21, -5, 1, 7, 19, 5, 5, 3, 3, -23, -3, 11, -3, 9, -13, -3, 9, -5, -7, -1, 1, 15, -1, 5, 5, 17, 11, -17, 1, -11, -1, 1, 13, -9, 9, -19, -1, -9, -17, -5, -7, -3, -3, 17, -13, -5, 13, -15, -5, 1, 17, -11, -13, -1, 13, -9, 11, -3, -13, -3, -3, 5, -29, -11, -1, -3, 7, -1, -7, -11, -9, -7, -11, 7, -7, -1, 3, -11, 17, 11, 1, 5, -5, -19, 13, 13, -9, -5, -9, -9, -5, 17, 5, 5, -9, 5, -5, 13, 1, -13, -11, -11, -1, 3, -5, -3, -5, 1, 25, -7, 3, 11, 15, -1, -7, -5, -7, 7, -7, -13, 17, -1, 19, -3, -5, -15, 11, -3, -1, -3, -15, -5, 7, 5, 19, 9, -3, -9, -1, -11, -7, 1, 3, 3, 7, 11, -17, 19, 17, 5, 1, -15, 3, 11, -7, -7, 23, 1, 3, -23, 7, 3, 13, -13, -5, -5, 9, 1, 15, 3, 9, -21, 5, -5, -1, 15, -5, -3, 5, 3, -1, -7, 9, 1, -7, -5, -11, 9, -1, -5, -1, -7, -11, 5, -7, 9, -5, 5, -15, 7, 3, 25, 9, -3, -13, 5, -5, -11, 1, 11, 1, -3, -7, 5, 5, -9, -9, 5, 13, 23, -11, -9, -13, -7, -23, 5, 13, -1, -11, -5, 1, 9, 9, 3, -3, 1, 5, -11, 1, 7, -11, 5, 1, 21, 17, 3, -23, 11, 3, 1, 1, -1, -19, -1, 13, 13, -17, -15, 3, -1, 13, 5, -17, 19, 25, -11, -5, -7, 1, -1, 11, 1, -9, 1, -11, -9, 7, -9, -23, 3, -9, -5, -17, 7, 1, 9, -9, -1, 3, 7, 9, 7, -7, -17, -7, 9, -9, 3, 15, 15, 11, -3, -9, -11, 9, -1, -19, 1, -11, -17, 9, -7, -1, -13, 13, -9, 15, 17, 3, -7, -1, -13, 9, -3, -7, -19, 1, -21, -7, -19, 7, 9, -1, 13, 5, 1, -1, 7, -5, 17, -9, -5, -5, 11, -9, -25, -21, 11, 5, 1, -7, -9, 3, 3, -1, -9, -7, 9, 3, 5, -11, 5, -1, 15, -3, 19, -11, 5, -7, -5, 1, 7, -3, 7, -25, -5, 3, 9, 3, 1, 13, 1, 17, -3, 3, 35, 7, 1, -7, -21, -7, -11, -7, 1, 3, -13, 13, -9, 5, 1, -3, -19, -13, -13, 1, 19, 11, -3, -7, 17, -7, -3, -5, -15, 11, 9, -23, -17, 1, -17, 1, 5, 5, -15, 1, -27, 1, -11, 1, 21, -1, 13, 9, -7, 3, 5, -5, -5, 17, -13, -11, 5, 1, -27, -5, 19, 1, -15, 13, 3, -1, -7, -1, 7, -1, -1, -3, -9, 5, 1, 3, 15, -3, -15, -13, -5, 5, 1, 1, -3, -15, -3, 19, -11, 1, 1, 19, -15, -5, 3, -11, 15, 5, -11, -5, -13, -1, -7, -5, 17, 29, 5, 9, -21, -1, -13, 19, -21, 3, 3, 17, -5, 11, -9, -5, -13, 13, -7, 1, 3, -11, -1, -9, 1, 9, 5, 17, -1, -17, -1, 1, 9, 23, 1, -27, 9, -1, 5, 11, -13, -17, 3, 5, 3, -7, -11, 15, 9, -13, -19, 5, -3, 5, 1, -13, -17, 9, -15, 9, 5, -1, 17, 7, 1, 3, -3, 5, 13, -1, -1, 7, 1, -23, -3, -5, -3, 5, 1, -3, -5, -3, -9, 7, 3, -3, 3, -1, -15, -17, 7, 21, -13, -11, 19, 11, -1, 11, 7, 9, -5, 3, -9, -5, 7, 1, -1, 5, 17, 5, 11, -11, -7, 11, 3, -11, 3, 19, -37, -23, -1, 3, -1, 3, -13, -15, -11, 5, -15, -5, 7, 1, -1, 1, -1, 1, 1, 9, -7, 19, -5, -5, 7, 7, 5, 5, 5, 11, 1, -9, -11, -15, 3, -13, -1, 3, -19, 1, 9, -3, 5, -3, -5, 7, -11, -13, -1, 23, -9, 7, 21, 9, 1, -5, -17, -21, 11, 9, -7, -1, 11, -17, 3, -7, 1, -13, -15, 11, 13, 9, -1, 13, -5, 7, -3, -5, 1, -9, 17, -3, -17, 13, 3, 1, -17, -17, 13, 3, -15, 11, 1, 15, -3, 5, -5, 7, -5, -11, 7, -3, -17, 7, -1, 11, -1, -13, 19, 13, 3, 7, 1, 9, 1, -5, 5, -1, -17, -11, 3, 11, -11, 21, -1, 1, 9, 17, -15, 7, -15, -11, -1, -11, 1, 17, -3, -19, 7, -3, -1, -11, 15, -15, -15, 9, -7, -7, -13, 1, -3, 7, 3, 1, 17, 7, -1, -1, -5, 3, -1, -3, -5, 11, -7, 17, 3, -9, -1, -3, -13, -11, 5, -3, -3, 11, 19, -5, -1, -3, 7, -21, 9, -19, 7, 17, -5, -5, 3, -1, -19, 1, 9, -1, 7, -17, 9, 1, -5, 3, -1, 5, 13, 3, 9, -9, 3, 1, -5, -21, 1, 5, 5, -5, -13, 5, -17, -19, -17, -9, 23, 5, 1, -1, -1, 13, -9, -23, -11, -5, 3, 7, -15, 1, 9, -3, -13, 7, -1, -1, 17, -3, 3, -9, -7, -1, -11, 1, -5, -11, 13, -9, 11, -1, 7, -5, -1, 5, 1, 3, 13, 3, 3, 23, -1, 25, -1, 1, -15, 23, 7, 13, -3, 5, -7, 11, 3, 5, 3, -21, 17, -3, 1, -1, -3, 7, 5, 5, -21, -7, -17, -7, -19, 17, 5, -17, -1, 5, -1, 9, -7, -5, 15, -5, -11, -1, -21, -1, 5, 3, 19, -5, -21, -7, -15, 3, 15, -3, -1, -9, 11, 1, -17, -11, 23, -5, -3, -5, 3, -11, -5, -7, -11, -7, 11, 7, 5, -5, 5, 1, 5, -7, -9, -1, -15, -3, 1, -15, 9, 7, -3, 11, -3, -11, 11, 13, -11, -13, -3, -5, 7, 13, -5, -11, 11, 11, 1, -3, -1, -13, 3, 9, -1, -5, 1, 13, -7, -5, 7, -23, -11, 1, 5, 1, 5, -7, 3, 1, 3, 1, -9, -13, -3, 5, -17, -7, -5, 9, -17, -5, 11, -1, -3, 19, 5, -37, -13, 9, -13, -3, 7, -13, -3, -3, 9, -3, 19, 11, 17, -3, -3, -7, -5, 1, 11, 5, 13, 11, 15, -11, 1, 7, 13, -1, 7, 1, -3, -3, -21, -7, -11, -13, -3, -1, 1, 5, -11, 3, 11, 9, -11, 7, 3, -11, 3, 3, 1, -3, -21, 11, -11, -3, -7, -5, 7, -7, -1, 7, 9, -13, 19, -11, 1, -1, -1, -7, -11, 13, 1, -3, 3, -3, -3, -5, 13, 1, 1, 9, 9, 15, -11, 11, -7, -1, -9, 13, 3, 15, 9, 5, -11, 7, -25, -11, 11, 7, 1, -7, 15, 11, -1, 7, 9, 7, -11, -9, -5, -7, -9, 1, 5, -13, 1, -13, 13, 15, -9, 11, 5, -5, -1, 11, -5, -9, 7, -9, -5, 3, -21, 21, -13, 7, -15, 5, -5, 15, 7, 3, 5, 17, 15, -3, -3, 5, 9, -1, 13, -11, -17, -3, -1, -9, -11, -5, 5]\n"
     ]
    }
   ],
   "execution_count": 101
  },
  {
   "cell_type": "markdown",
   "id": "39634f56",
   "metadata": {},
   "source": [
    "### Question 15 : Plot \"ech\" with a histogram. Compute the empirical mean and variance of \"ech\". Deduce an approximate law of $I(1)$."
   ]
  },
  {
   "cell_type": "code",
   "id": "e354fe33",
   "metadata": {
    "ExecuteTime": {
     "end_time": "2025-01-27T15:35:44.782721Z",
     "start_time": "2025-01-27T15:35:36.562357Z"
    }
   },
   "source": [
    "plt.hist(ech,  bins = 20 ,color='blue', edgecolor='black')\n",
    "\n",
    "# Titre et légendes\n",
    "plt.title(\"Histogramme des données\", color=\"darkgreen\")\n",
    "plt.xlabel(\"Valeurs\", color=\"darkblue\")\n",
    "plt.ylabel(\"Fréquence\", color=\"darkblue\")\n",
    "\n",
    "# Affichage\n",
    "plt.grid(color=\"gray\", linestyle=\"--\", linewidth=0.5)\n",
    "plt.show()"
   ],
   "outputs": [],
   "execution_count": 114
  },
  {
   "cell_type": "code",
   "id": "bac868be",
   "metadata": {
    "ExecuteTime": {
     "end_time": "2025-01-27T15:34:15.885888Z",
     "start_time": "2025-01-27T15:34:15.881091Z"
    }
   },
   "source": [
    "mean = sum(ech)/len(ech)\n",
    "var = sum((i-mean)**2 for i in ech)/len(ech)\n",
    "print(mean)\n",
    "print(var)"
   ],
   "outputs": [
    {
     "name": "stdout",
     "output_type": "stream",
     "text": [
      "-0.1908\n",
      "99.61319536000096\n"
     ]
    }
   ],
   "execution_count": 113
  },
  {
   "metadata": {},
   "cell_type": "markdown",
   "source": "The approximative law of I(1) is a gaussian law with a variance of approximatively 100.",
   "id": "39dde94e0f406f1f"
  },
  {
   "cell_type": "markdown",
   "id": "e3ec4a13",
   "metadata": {},
   "source": [
    "### Question 16 : Formulate the bilateral statistical test: null and alternative hypothesis, test statistic, critical values. Conclude."
   ]
  },
  {
   "cell_type": "markdown",
   "id": "ee1c1a4a",
   "metadata": {},
   "source": []
  },
  {
   "cell_type": "code",
   "id": "1512d16b",
   "metadata": {
    "ExecuteTime": {
     "end_time": "2025-01-27T15:45:08.777509Z",
     "start_time": "2025-01-27T15:45:08.773885Z"
    }
   },
   "source": [
    "I1_listRandom = autocorr(listRandom,1)\n",
    "\n",
    "# Paramètres gaussiens (trouvés empiriquement à la question précédente)\n",
    "sigma_empirical = 10  # Par exemple, calculé empiriquement\n",
    "mu_empirical = 0      # Moyenne théorique\n",
    "\n",
    "# Calcul du seuil critique\n",
    "alpha = 0.05\n",
    "z_alpha = (1 - alpha / 2)  # Quantile bilatéral pour alpha = 5%\n",
    "\n",
    "# Test statistique\n",
    "threshold = z_alpha * sigma_empirical\n",
    "if abs(I1_listRandom - mu_empirical) <= threshold:\n",
    "    print(\"On accepte H0 : la liste est aléatoire.\")\n",
    "else:\n",
    "    print(\"On rejette H0 : la liste n'est pas aléatoire.\")"
   ],
   "outputs": [
    {
     "name": "stdout",
     "output_type": "stream",
     "text": [
      "On rejette H0 : la liste n'est pas aléatoire.\n"
     ]
    }
   ],
   "execution_count": 120
  },
  {
   "metadata": {},
   "cell_type": "markdown",
   "source": "Our list isn't random.",
   "id": "afe2e6bcd0517570"
  },
  {
   "cell_type": "code",
   "id": "21468fd7",
   "metadata": {
    "ExecuteTime": {
     "end_time": "2025-01-27T15:47:01.985964Z",
     "start_time": "2025-01-27T15:47:01.982334Z"
    }
   },
   "source": [
    "I1_listMachine = autocorr(listMachine,1)\n",
    "if abs(I1_listMachine - mu_empirical) <= threshold:\n",
    "    print(\"On accepte H0 : la liste est aléatoire.\")\n",
    "else:\n",
    "    print(\"On rejette H0 : la liste n'est pas aléatoire.\")"
   ],
   "outputs": [
    {
     "name": "stdout",
     "output_type": "stream",
     "text": [
      "On accepte H0 : la liste est aléatoire.\n"
     ]
    }
   ],
   "execution_count": 122
  },
  {
   "metadata": {},
   "cell_type": "markdown",
   "source": "The listMachin is random.",
   "id": "ad30afbbe3db5c54"
  },
  {
   "cell_type": "markdown",
   "id": "52d1f50d",
   "metadata": {},
   "source": [
    "### Rock-Paper-Scissors-Lizard-Spock"
   ]
  },
  {
   "cell_type": "code",
   "execution_count": null,
   "id": "c2c5d070",
   "metadata": {},
   "outputs": [],
   "source": []
  },
  {
   "cell_type": "code",
   "execution_count": null,
   "id": "8ecd7a77",
   "metadata": {},
   "outputs": [],
   "source": []
  },
  {
   "cell_type": "code",
   "execution_count": null,
   "id": "eac3ec80",
   "metadata": {},
   "outputs": [],
   "source": []
  }
 ],
 "metadata": {
  "kernelspec": {
   "display_name": "Python 3",
   "language": "python",
   "name": "python3"
  },
  "language_info": {
   "codemirror_mode": {
    "name": "ipython",
    "version": 3
   },
   "file_extension": ".py",
   "mimetype": "text/x-python",
   "name": "python",
   "nbconvert_exporter": "python",
   "pygments_lexer": "ipython3",
   "version": "3.8.10"
  }
 },
 "nbformat": 4,
 "nbformat_minor": 5
}
