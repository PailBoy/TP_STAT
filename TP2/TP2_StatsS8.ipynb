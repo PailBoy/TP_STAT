{
 "cells": [
  {
   "cell_type": "markdown",
   "id": "07b3af24",
   "metadata": {},
   "source": [
    "# TP2 : Hypothesis tests"
   ]
  },
  {
   "cell_type": "markdown",
   "id": "b8165dff",
   "metadata": {},
   "source": [
    "## Lab session"
   ]
  },
  {
   "cell_type": "code",
   "id": "385a7038",
   "metadata": {
    "ExecuteTime": {
     "end_time": "2025-02-10T15:43:42.839164Z",
     "start_time": "2025-02-10T15:43:42.836847Z"
    }
   },
   "source": [
    "import math\n",
    "from math import floor\n",
    "import random \n",
    "import numpy as np\n",
    "import matplotlib.pyplot as plt\n",
    "from scipy.integrate import quad\n",
    "from scipy.special import erf\n",
    "from scipy.stats import skew, kurtosis, norm, chi2\n",
    "from scipy.stats import skewnorm as sk\n",
    "import scipy.stats as stats\n",
    "from scipy.optimize import minimize"
   ],
   "outputs": [],
   "execution_count": 147
  },
  {
   "cell_type": "markdown",
   "id": "94a83133",
   "metadata": {},
   "source": [
    "### Adequation to a normal law"
   ]
  },
  {
   "cell_type": "code",
   "id": "b333969a",
   "metadata": {
    "ExecuteTime": {
     "end_time": "2025-02-10T15:34:28.888513Z",
     "start_time": "2025-02-10T15:34:28.883491Z"
    }
   },
   "source": [
    "data=np.array([5.5,3,13.7,13,18,11.9,9.4,10.5,15.9,9.8,8.4,8.7,18,12.7,9.4,\n",
    "      14.4,7.3,9.3,7.7,8.4,11.2,5.5,8,11.6,6.2,5.2,18.7,9.1,13.7,\n",
    "      9.1,8.4,9.4,6.9,8.7,11.2,8.7,5.9,8.7,9.8,19.6,9.6,14.1,9.1,13.7,\n",
    "      6.9,8.7,7.3,9.6,13,13.5,15.2,15.7,14.4,8,9.4,6.6,10.9,8.4,9.8,18,\n",
    "      10,18,19.3,4.1,9.8,17.3,13.7,11.6,6.6,6.9,11.9,19.9,9.8,8.4,15.2,\n",
    "      11.4,7.7,11.9,12.3,12.7,19.9,8,11.9,13,14.3,14.4,16.6,14.1,9.4,13.7,\n",
    "      12.7,9.8,8.4,7.7,11,6.9,4.4,10.3,18.4,8.5,11.2,13,19.9,10.7,8,13.7,\n",
    "      19.8,10.5,13.7,3.4,5.9,4.3,8.7,10.9,11.2,9.8,9.8,10.3,6.6,12.3,7.7,\n",
    "      10.5,11.6,8.7,8,7.7,4.4,11.6,8,9.6,9.1,12.1,10.2,13.7,12.7,13,12.3,\n",
    "      8.4,7.3,9.6,8,9.8,7.3,14.8,7.7,9.4,13.2,9.8,13,8.7,16.9,12.3,8.7,11.6,\n",
    "      8.4,5.2,19.9,12.1,8,9.3,13.7,6.6,13.4,5.5,8.7,6.6,12.3,12.7,10.9,7.3,\n",
    "      8.4,19.9,8.7,9.4,16.9,18.4,11.8,7.7,8,6.2,15.2,11.9,11.6,7.7,11.2,9.1,\n",
    "      9.8,13.4,11.2,19.9,6.8,8.2,18.4,14.4,10.9,9.8,17.3,14.3,8,13,19.9,19.9,\n",
    "      19.9,19.14,18.55,18.55,18.42,18.29,18.22,18.16,17.83,17.63,17.63,17.37,\n",
    "      17.24,16.84,16.32,16.18,16.18,16.18,16.05,15.92,15.92,15.79,15.79,15.66,\n",
    "      15.66,15.66,15.66,15.66,15.53,15.53,15.39,15.39,15.39,15.39,15.26,15.13,\n",
    "      15.13,15,15,15,15,14.93,14.87,14.74,14.74,14.61,14.61,14.61,14.61,14.34,\n",
    "      14.21,14.21,14.08,14.08,14.08,14.08,14.08,13.95,13.82,13.82,13.82,13.68,\n",
    "      13.62,13.55,13.42,13.42,13.42,13.29,13.16,13.16,13.16,12.89,12.89,12.89,\n",
    "      12.89,12.89,12.89,12.76,12.76,12.76,12.76,12.63,12.5,12.5,12.5,12.5,12.43,\n",
    "      12.37,12.37,12.37,12.24,12.24,12.24,12.24,12.24,12.24,12.11,12.11,12.11,\n",
    "      12.11,11.97,11.97,11.84,11.84,11.84,11.84,11.84,11.58,11.58,11.58,11.58,\n",
    "      11.58,11.45,11.45,11.25,11.25,11.25,11.18,11.18,11.05,11.05,10.92,10.92,\n",
    "      10.83,10.79,10.79,10.66,10.66,10.66,10.66,10.53,10.53,10.53,10.53,10.53,\n",
    "      10.39,10.39,10.39,10.26,10.26,10.26,10.26,10.26,10.13,10.13,10,10,10,10,\n",
    "      10,10,9.87,9.84,9.74,9.74,9.74,9.74,9.67,9.61,9.61,9.61,9.41,9.34,9.34,\n",
    "      9.34,9.28,9.21,9.21,9.08,8.95,8.95,8.82,8.82,8.82,8.68,8.55,8.42,8.29,\n",
    "      8.29,8.16,8.03,7.89,7.89,7.63,7.63,7.5,7.43,7.24,7.11,6.97,6.97,6.84,\n",
    "      6.84,6.84,6.84,6.71,6.71,6.58,6.45,6.32,6.18,5.66,5.39,5.39,5.26,5.26,5.13,\n",
    "      4.61,4.61,4.47,2.63,11.45,13.16,11.05])"
   ],
   "outputs": [],
   "execution_count": 118
  },
  {
   "cell_type": "markdown",
   "id": "1d68dc81",
   "metadata": {},
   "source": [
    "### Question 1 : Give an estimate of the mean \"muEstim\", of the variance \"varEstim\" of the law of $X_i$."
   ]
  },
  {
   "cell_type": "code",
   "id": "792a821e",
   "metadata": {
    "ExecuteTime": {
     "end_time": "2025-02-10T15:34:28.900884Z",
     "start_time": "2025-02-10T15:34:28.897972Z"
    }
   },
   "source": [
    "# Compute the mean and variance\n",
    "muEstim = np.mean(data)\n",
    "varEstim = np.var(data, ddof=0)  # Population variance\n",
    "\n",
    "muEstim, varEstim"
   ],
   "outputs": [
    {
     "data": {
      "text/plain": [
       "(np.float64(11.37923076923077), np.float64(13.015200369822487))"
      ]
     },
     "execution_count": 119,
     "metadata": {},
     "output_type": "execute_result"
    }
   ],
   "execution_count": 119
  },
  {
   "cell_type": "markdown",
   "id": "cd913ca8",
   "metadata": {},
   "source": [
    "### Question 2 : Are the numerical values \"muEstim\" and \"varEstim\" coherent with your answer to question 2B?"
   ]
  },
  {
   "metadata": {
    "ExecuteTime": {
     "end_time": "2025-02-10T15:34:28.927465Z",
     "start_time": "2025-02-10T15:34:28.925339Z"
    }
   },
   "cell_type": "code",
   "source": [
    "def muestim(L):\n",
    "    n=len(L)\n",
    "    mu = 0\n",
    "    for i in range(n):\n",
    "        mu += L[i]\n",
    "    return mu/n\n",
    " \n",
    "def varestim ( L):\n",
    "    n=len(L)\n",
    "    mu = muestim(L)\n",
    "    var = 0\n",
    "    for i in range(n):\n",
    "        var += (L[i]-mu)**2\n",
    "    return var/n\n",
    "\n",
    "\n",
    "    "
   ],
   "id": "c7bc7d9fa15868e4",
   "outputs": [],
   "execution_count": 120
  },
  {
   "metadata": {
    "ExecuteTime": {
     "end_time": "2025-02-10T15:34:28.951191Z",
     "start_time": "2025-02-10T15:34:28.948172Z"
    }
   },
   "cell_type": "code",
   "source": [
    "\n",
    "print(f\"muEstim: {muEstim} VS muCalculate: {muestim(data)}\")\n",
    "print(f\"varEstim: {varEstim} VS varCalculate: {varestim(data)}\")\n",
    "print(f\"muEstim - muCalculate = {muEstim-muestim(data)}\")\n",
    "print(f\"varEstim - varCalculate = {math.ceil(varEstim-varestim(data))}\")\n",
    "print(f\"varEstim - varCalculate = {(varEstim-varestim(data))}\")\n",
    "\n",
    "# They match the MLE formulas:\n",
    "# mu' = (1/n) * sum(x_i)\n",
    "# sigma'^2 = (1/n) * sum((x_i - mu')^2)"
   ],
   "id": "d25dc9d54f29e2b4",
   "outputs": [
    {
     "name": "stdout",
     "output_type": "stream",
     "text": [
      "muEstim: 11.37923076923077 VS muCalculate: 11.37923076923077\n",
      "varEstim: 13.015200369822487 VS varCalculate: 13.015200369822493\n",
      "muEstim - muCalculate = 0.0\n",
      "varEstim - varCalculate = 0\n",
      "varEstim - varCalculate = -5.329070518200751e-15\n"
     ]
    }
   ],
   "execution_count": 121
  },
  {
   "metadata": {},
   "cell_type": "markdown",
   "source": "Our calculated values are in the range of the estimated ones, and for the var we can see that the difference is of the range of 15.",
   "id": "e984f3430589165a"
  },
  {
   "cell_type": "markdown",
   "id": "2d3a6cbc",
   "metadata": {},
   "source": [
    "\n",
    "### Question 3 : Create a function \"skewnessEmp\" and a function \"kurtosisEmp\" to compute empirical estimators of the asymmetry coefficient and kurtosis given an input list $X$. Generate an estimation \"skewnessEstim\" and an estimation \"kurtosisEstim\" of these two coefficient for the list \"data\". Compare the theoretical values of kurtosis and of the asymmetry coefficient found in question 1."
   ]
  },
  {
   "cell_type": "code",
   "id": "e8dca884",
   "metadata": {
    "ExecuteTime": {
     "end_time": "2025-02-10T15:34:28.986220Z",
     "start_time": "2025-02-10T15:34:28.980881Z"
    }
   },
   "source": [
    "def skewnessEmp(X):\n",
    "    return skew(X)\n",
    "\n",
    "def skewness(X):\n",
    "    \n",
    "    mean_X = sum(X) / len(X)\n",
    "    variance = sum((x - mean_X) ** 2 for x in X) / len(X)\n",
    "    std_dev = variance ** 0.5\n",
    "    skew = sum((x - mean_X) ** 3 for x in X) / (len(X) * (std_dev ** 3))\n",
    "\n",
    "    return skew\n",
    "\n",
    "\n",
    "print(\"Skewness of X:\", skewness(data))\n",
    "print(\"Skewnessemp of X:\", skewnessEmp(data))\n",
    "\n",
    "    \n",
    "\n",
    "def kurtosisEmp(X):\n",
    "    return kurtosis(X)  # Fisher=True gives excess kurtosis\n",
    "\n",
    "def kurtosis(X):\n",
    "    \n",
    "    mean_X = sum(X) / len(X)\n",
    "    variance = sum((x - mean_X) ** 2 for x in X) / len(X)\n",
    "    std_dev = variance ** 0.5\n",
    "    kurt = sum((x - mean_X) ** 4 for x in X) / (len(X) * (std_dev ** 4))\n",
    "    kurt_excess = kurt - 3\n",
    "\n",
    "    return kurt_excess\n",
    "\n",
    "\n",
    "print(\"Kurtosis de X :\", kurtosis(data))\n",
    "print(\"Kurtosisemp de X :\", kurtosisEmp(data))\n",
    "# Compute estimates\n",
    "skewnessEstim = skewnessEmp(data)\n",
    "kurtosisEstim = kurtosisEmp(data)\n"
   ],
   "outputs": [
    {
     "name": "stdout",
     "output_type": "stream",
     "text": [
      "Skewness of X: 0.3033979354530738\n",
      "Skewnessemp of X: 0.303397935453075\n",
      "Kurtosis de X : -0.278125380092733\n",
      "Kurtosisemp de X : -0.278125380092733\n"
     ]
    }
   ],
   "execution_count": 122
  },
  {
   "cell_type": "markdown",
   "id": "ff74e618",
   "metadata": {},
   "source": [
    "### Question 4 : Plot the list \"data\" with a histogram. How does it compare with a normal law?"
   ]
  },
  {
   "cell_type": "code",
   "id": "6ffc4c70",
   "metadata": {
    "ExecuteTime": {
     "end_time": "2025-02-10T15:34:29.069695Z",
     "start_time": "2025-02-10T15:34:29.013610Z"
    }
   },
   "source": [
    "plt.hist(data, bins=20, edgecolor='black', alpha=0.7)\n",
    "plt.xlabel(\"Values\")\n",
    "plt.ylabel(\"Frequency\")\n",
    "plt.title(\"Histogram of Data\")\n",
    "plt.show()\n"
   ],
   "outputs": [
    {
     "data": {
      "text/plain": [
       "<Figure size 640x480 with 1 Axes>"
      ],
      "image/png": "[encoded data removed]"
     },
     "metadata": {},
     "output_type": "display_data"
    }
   ],
   "execution_count": 123
  },
  {
   "metadata": {},
   "cell_type": "markdown",
   "source": "This plot does not follow a normal lax because there is too much value around [17.5;20].",
   "id": "fb5d531aed4f0515"
  },
  {
   "cell_type": "markdown",
   "id": "b3ae2c43",
   "metadata": {},
   "source": [
    "### Question 5 : Superimpose the density function of the normal law of mean \"muEstim\" and variance \"varEstim\" to the previous histogram. Comment."
   ]
  },
  {
   "cell_type": "code",
   "id": "9011e8c8",
   "metadata": {
    "ExecuteTime": {
     "end_time": "2025-02-10T15:34:29.150081Z",
     "start_time": "2025-02-10T15:34:29.085881Z"
    }
   },
   "source": [
    "# Generate normal density curve\n",
    "x_values = np.linspace(min(data), max(data), 100)\n",
    "pdf_values = stats.norm.pdf(x_values, loc=muEstim, scale=np.sqrt(varEstim))\n",
    "\n",
    "# Plot histogram\n",
    "plt.hist(data, bins=20, density=True, edgecolor='black', alpha=0.7, label=\"Histogram\")\n",
    "\n",
    "# Plot normal density\n",
    "plt.plot(x_values, pdf_values, color=\"red\", label=\"Normal Density\")\n",
    "plt.xlabel(\"Values\")\n",
    "plt.ylabel(\"Density\")\n",
    "plt.title(\"Histogram with Normal Density\")\n",
    "plt.legend()\n",
    "plt.show()"
   ],
   "outputs": [
    {
     "data": {
      "text/plain": [
       "<Figure size 640x480 with 1 Axes>"
      ],
      "image/png": "[encoded data removed]"
     },
     "metadata": {},
     "output_type": "display_data"
    }
   ],
   "execution_count": 124
  },
  {
   "metadata": {},
   "cell_type": "markdown",
   "source": "As we already said in question 4, we can see that the data does not follow exactly a normal law.",
   "id": "d9ec651d4bb528c4"
  },
  {
   "cell_type": "markdown",
   "id": "35284541",
   "metadata": {},
   "source": [
    "### Question 6 : Create a function \"fR(x)\" that returns the value of the cumulative distribution of a normal law of mean \"muEstim\" and variance \"varEstim\" in point $x$. You may use the \"quad\" of \"scipy.integrate\"."
   ]
  },
  {
   "cell_type": "code",
   "id": "831ecdf1",
   "metadata": {
    "ExecuteTime": {
     "end_time": "2025-02-10T15:34:29.172317Z",
     "start_time": "2025-02-10T15:34:29.169219Z"
    }
   },
   "source": [
    "\n",
    "sigmaEstim = math.sqrt(varEstim)\n",
    "\n",
    "def normal_density(t):\n",
    "    \"\"\"Densité de probabilité d'une loi normale avec les paramètres estimés.\"\"\"\n",
    "    return (1 / (math.sqrt(2 * math.pi) * sigmaEstim)) * math.exp(-((t - muEstim) ** 2) / (2 * varEstim))\n",
    "\n",
    "def fR(x):\n",
    "    \"\"\"Fonction de répartition cumulative d'une loi normale.\"\"\"\n",
    "    # Intégration de -∞ à x pour obtenir la valeur cumulative\n",
    "    result, _ = quad(normal_density, -math.inf, x)\n",
    "    return result\n",
    "\n",
    "# Exemple d'utilisation :\n",
    "x_value = 10.0  # Point où l'on veut évaluer la fonction cumulative\n",
    "print(f\"Valeur cumulative en x = {x_value} : {fR(x_value)}\")"
   ],
   "outputs": [
    {
     "name": "stdout",
     "output_type": "stream",
     "text": [
      "Valeur cumulative en x = 10.0 : 0.3511170737516262\n"
     ]
    }
   ],
   "execution_count": 125
  },
  {
   "cell_type": "markdown",
   "id": "0cf2b966",
   "metadata": {},
   "source": "### Question 7 : Plot \"fR\" over an interval chosen adequately. Comment on the chosen interval."
  },
  {
   "cell_type": "code",
   "id": "cd11d812",
   "metadata": {
    "ExecuteTime": {
     "end_time": "2025-02-10T15:34:29.267227Z",
     "start_time": "2025-02-10T15:34:29.199066Z"
    }
   },
   "source": [
    "x_range = [random.gauss(muEstim, sigmaEstim) for _ in range(len(data)) if 0 <= random.gauss(muEstim,sigmaEstim) < 20]\n",
    "x_range = sorted(x_range)\n",
    "fR_values = [fR(x) for x in x_range]\n",
    "\n",
    "plt.plot(x_range, fR_values, color=\"blue\")\n",
    "plt.xlabel(\"x\")\n",
    "plt.ylabel(\"Cumulative Probability\")\n",
    "plt.title(\"Cumulative Distribution Function\")\n",
    "plt.grid()\n",
    "plt.show()"
   ],
   "outputs": [
    {
     "data": {
      "text/plain": [
       "<Figure size 640x480 with 1 Axes>"
      ],
      "image/png": "[encoded data removed]"
     },
     "metadata": {},
     "output_type": "display_data"
    }
   ],
   "execution_count": 126
  },
  {
   "metadata": {},
   "cell_type": "markdown",
   "source": "It represents the repartition of a gaussian law perfectly.",
   "id": "ad52be82691a38df"
  },
  {
   "cell_type": "markdown",
   "id": "80bde447",
   "metadata": {},
   "source": [
    "### Question 8 : Create lists \"effObs\" and \"effTh\" that contain observed and theoretical class counts respectively. To do so, you should create a function \"count(X,nb_classes)\" counting the number of values of $X$ in each class (classes going from $0$ to $20$)."
   ]
  },
  {
   "cell_type": "code",
   "id": "674c8255",
   "metadata": {
    "ExecuteTime": {
     "end_time": "2025-02-10T15:34:29.294392Z",
     "start_time": "2025-02-10T15:34:29.292142Z"
    }
   },
   "source": [
    "# Pour compter le nombre de valeurs dans chaque classe (les classes vont de 0 à 20)\n",
    "def count(X, nb_classes):\n",
    "    class_counts = [0] * nb_classes\n",
    "    for value in X:      \n",
    "        if 0 <= value < nb_classes:  \n",
    "            class_index = int(value)  \n",
    "            class_counts[class_index] += 1\n",
    "\n",
    "    return class_counts"
   ],
   "outputs": [],
   "execution_count": 127
  },
  {
   "cell_type": "code",
   "id": "a464c065",
   "metadata": {
    "ExecuteTime": {
     "end_time": "2025-02-10T15:34:29.305552Z",
     "start_time": "2025-02-10T15:34:29.303238Z"
    }
   },
   "source": [
    "# Observed frequencies\n",
    "effObs = count(data, 20)\n",
    "\n",
    "# Theoretical frequencies using fR(x)\n",
    "effTh = count (x_range, 20)\n",
    "\n",
    "print(effObs)\n",
    "print(effTh)"
   ],
   "outputs": [
    {
     "name": "stdout",
     "output_type": "stream",
     "text": [
      "[0, 0, 1, 2, 7, 13, 24, 21, 44, 48, 42, 43, 41, 35, 25, 27, 9, 7, 14, 13]\n",
      "[0, 3, 5, 7, 10, 12, 20, 27, 32, 32, 47, 49, 44, 27, 40, 23, 11, 13, 6, 2]\n"
     ]
    }
   ],
   "execution_count": 128
  },
  {
   "cell_type": "markdown",
   "id": "2265e2f3",
   "metadata": {},
   "source": [
    "### Question 9 : Create a function \"groupLeft(list,k)\" that takes as input a list and a positive integer $k$ and returns the list obtained by grouping and summing the $k$ first terms of the provided list."
   ]
  },
  {
   "cell_type": "code",
   "id": "1446c229",
   "metadata": {
    "ExecuteTime": {
     "end_time": "2025-02-10T15:34:29.343844Z",
     "start_time": "2025-02-10T15:34:29.341906Z"
    }
   },
   "source": [
    "def groupLeft(lst, k):\n",
    "    \"\"\"Groups and sums the first k elements of the list.\"\"\"\n",
    "    return [sum(lst[:k])] + lst[k:]"
   ],
   "outputs": [],
   "execution_count": 129
  },
  {
   "cell_type": "code",
   "id": "c5c9edc1",
   "metadata": {
    "ExecuteTime": {
     "end_time": "2025-02-10T15:34:29.361676Z",
     "start_time": "2025-02-10T15:34:29.359670Z"
    }
   },
   "source": [
    "# Example usage\n",
    "groupLeft([2, 4, 3, 6, 3, 7], 4)  # Should return [15, 3, 7]"
   ],
   "outputs": [
    {
     "data": {
      "text/plain": [
       "[15, 3, 7]"
      ]
     },
     "execution_count": 130,
     "metadata": {},
     "output_type": "execute_result"
    }
   ],
   "execution_count": 130
  },
  {
   "cell_type": "markdown",
   "id": "ee4057c1",
   "metadata": {},
   "source": [
    "### Question 10 : Same on the right for \"groupRight(list,k)\"."
   ]
  },
  {
   "cell_type": "code",
   "id": "9259c20d",
   "metadata": {
    "ExecuteTime": {
     "end_time": "2025-02-10T15:34:29.388885Z",
     "start_time": "2025-02-10T15:34:29.386811Z"
    }
   },
   "source": [
    "def groupRight(lst, k):\n",
    "    \"\"\"Groups and sums the last k elements of the list.\"\"\"\n",
    "    return lst[:-k] + [sum(lst[-k:])]"
   ],
   "outputs": [],
   "execution_count": 131
  },
  {
   "metadata": {
    "ExecuteTime": {
     "end_time": "2025-02-10T15:34:29.402686Z",
     "start_time": "2025-02-10T15:34:29.400394Z"
    }
   },
   "cell_type": "code",
   "source": "groupRight([2, 4, 3, 6, 3, 7], 2)  # Should return [2, 4, 3, 6, 10]",
   "id": "891561b34353a5ad",
   "outputs": [
    {
     "data": {
      "text/plain": [
       "[2, 4, 3, 6, 10]"
      ]
     },
     "execution_count": 132,
     "metadata": {},
     "output_type": "execute_result"
    }
   ],
   "execution_count": 132
  },
  {
   "cell_type": "markdown",
   "id": "67a84115",
   "metadata": {},
   "source": [
    "### Question 11 : Using the previous functions, group classes so that all classes are larger than $5$ (the number of classes to be grouped will be determined to your best judgement). We will call \"effThBis\" and \"effObsBis\" the new theoretical and observed numbers."
   ]
  },
  {
   "metadata": {
    "ExecuteTime": {
     "end_time": "2025-02-10T15:34:29.413483Z",
     "start_time": "2025-02-10T15:34:29.411146Z"
    }
   },
   "cell_type": "code",
   "source": [
    "def groupBySize(lst, group_size):\n",
    "    \n",
    "    grouped = []\n",
    "    \n",
    "    while len(lst) > group_size:\n",
    "        \n",
    "        lst = groupLeft(lst, group_size)\n",
    "       \n",
    "        grouped.append(lst.pop(0))\n",
    "\n",
    "    if lst:\n",
    "        lst = groupRight(lst, len(lst))\n",
    "        grouped.append(lst[-1])\n",
    "\n",
    "    return grouped\n",
    "\n",
    "\n",
    "group_size = 5\n",
    "\n",
    "effObsBis = groupBySize(effObs, group_size)\n",
    "effThBis = groupBySize(effTh, group_size)\n",
    "\n",
    "print(f\"Effectifs observés regroupés par groupes de 5 : {effObsBis}\")\n",
    "print(f\"Effectifs théoriques regroupés par groupes de 5 : {effThBis}\")"
   ],
   "id": "fcc12e0b8fa8d6c8",
   "outputs": [
    {
     "name": "stdout",
     "output_type": "stream",
     "text": [
      "Effectifs observés regroupés par groupes de 5 : [10, 150, 186, 70]\n",
      "Effectifs théoriques regroupés par groupes de 5 : [25, 123, 207, 55]\n"
     ]
    }
   ],
   "execution_count": 133
  },
  {
   "cell_type": "markdown",
   "id": "54e1615f",
   "metadata": {},
   "source": [
    "### Question 12 : Compute the distance $\\chi^2$ between \"effObsBis\" and \"effThBis\". "
   ]
  },
  {
   "cell_type": "code",
   "id": "b2ad3374",
   "metadata": {
    "ExecuteTime": {
     "end_time": "2025-02-10T15:34:29.445008Z",
     "start_time": "2025-02-10T15:34:29.442552Z"
    }
   },
   "source": [
    "def chi_squared_distance(obs, exp):\n",
    "    \n",
    "    return sum(((o - e) ** 2) / e for o, e in zip(obs, exp) if e != 0)\n",
    "chi = chi_squared_distance(effObsBis,effThBis)\n",
    "print(chi_squared_distance(effObsBis,effThBis))"
   ],
   "outputs": [
    {
     "name": "stdout",
     "output_type": "stream",
     "text": [
      "21.14817314181047\n"
     ]
    }
   ],
   "execution_count": 134
  },
  {
   "cell_type": "markdown",
   "id": "a4236286",
   "metadata": {},
   "source": [
    "### Question 13 : Conclude as to the suitability of the data sample to a normal law for a type-I risk $\\alpha=5\\%$. The number of degrees of freedom of the problem must be explicitely specified and the threshold value of the left-hand unilateral test of $\\chi^2$ will be determined on the course polycopy table."
   ]
  },
  {
   "cell_type": "code",
   "id": "bfff35b6",
   "metadata": {
    "ExecuteTime": {
     "end_time": "2025-02-10T15:34:29.479328Z",
     "start_time": "2025-02-10T15:34:29.477384Z"
    }
   },
   "source": [
    "# Degrees of freedom (df) = number of classes - 1\n",
    "df = len(effObsBis) - 1\n",
    "\n",
    "# Critical value for chi-square test\n",
    "chi2_critical = chi2.ppf(0.95, df)"
   ],
   "outputs": [],
   "execution_count": 135
  },
  {
   "cell_type": "code",
   "id": "de3444d2",
   "metadata": {
    "ExecuteTime": {
     "end_time": "2025-02-10T15:41:36.506250Z",
     "start_time": "2025-02-10T15:41:36.503375Z"
    }
   },
   "source": [
    "# Conclusion\n",
    "if chi < chi2_critical:\n",
    "    print(\"Fail to reject H0: The data follows a normal distribution.\")\n",
    "else:\n",
    "    print(\"Reject H0: The data does not follow a normal distribution.\")"
   ],
   "outputs": [
    {
     "name": "stdout",
     "output_type": "stream",
     "text": [
      "Reject H0: The data does not follow a normal distribution.\n"
     ]
    }
   ],
   "execution_count": 144
  },
  {
   "cell_type": "markdown",
   "id": "b2725013",
   "metadata": {},
   "source": [
    "## Adaptation to asymmetry"
   ]
  },
  {
   "cell_type": "markdown",
   "id": "70be7275",
   "metadata": {},
   "source": [
    "### Question 14 : The following defines \"skewnorm(x,e,w,a)\". Plot this density with $e=0, w=1$ and $a=4$."
   ]
  },
  {
   "cell_type": "code",
   "id": "68c7638e",
   "metadata": {
    "ExecuteTime": {
     "end_time": "2025-02-10T15:44:05.094291Z",
     "start_time": "2025-02-10T15:44:05.091008Z"
    }
   },
   "source": [
    "def pdf(x):\n",
    "    return 1/np.sqrt(2*np.pi) * np.exp(-x**2/2)\n",
    "def cdf(x):\n",
    "    return (1 + erf(x/np.sqrt(2))) / 2\n",
    "\n",
    "def skewnorm(x,m,s,a):\n",
    "    t = (x-m) / s\n",
    "    return 2 / s * pdf(t) * cdf(a*t)\n",
    "\n",
    "def skewnorm_dist(x, e, w, a):\n",
    "    return sk.pdf(x, a, loc=e, scale=w)"
   ],
   "outputs": [],
   "execution_count": 148
  },
  {
   "cell_type": "code",
   "id": "74a979f0",
   "metadata": {
    "ExecuteTime": {
     "end_time": "2025-02-10T15:44:07.072343Z",
     "start_time": "2025-02-10T15:44:06.999386Z"
    }
   },
   "source": [
    "x_vals = np.linspace(-3, 3, 100)\n",
    "plt.plot(x_vals, skewnorm_dist(x_vals, 0, 1, 4), label=\"Skew Normal (a=4)\")\n",
    "plt.plot(x_vals, stats.norm.pdf(x_vals), label=\"Standard Normal\", linestyle=\"dashed\")\n",
    "plt.legend()\n",
    "plt.title(\"Comparison of Normal and Skew Normal Distributions\")\n",
    "plt.show()"
   ],
   "outputs": [
    {
     "data": {
      "text/plain": [
       "<Figure size 640x480 with 1 Axes>"
      ],
      "image/png": "[encoded data removed]"
     },
     "metadata": {},
     "output_type": "display_data"
    }
   ],
   "execution_count": 149
  },
  {
   "cell_type": "markdown",
   "id": "7a3e3396",
   "metadata": {},
   "source": []
  },
  {
   "cell_type": "markdown",
   "id": "efdc2f7e",
   "metadata": {},
   "source": [
    "### Question 15 : Create a \"loglikelihood$(m,s,a)$\" function that gives the $\\mathrm{Log}$-likelihood of the data sample for the asymmetric normal law model."
   ]
  },
  {
   "cell_type": "code",
   "id": "1dcb695c",
   "metadata": {
    "ExecuteTime": {
     "end_time": "2025-02-10T15:44:36.499445Z",
     "start_time": "2025-02-10T15:44:36.495632Z"
    }
   },
   "source": [
    "def loglikelihood(m, s, a):\n",
    "    return np.sum(np.log(sk.pdf(data, a, loc=m, scale=s)))\n",
    "\n",
    "# Example usage\n",
    "print(loglikelihood(0, 1, 4))"
   ],
   "outputs": [
    {
     "name": "stdout",
     "output_type": "stream",
     "text": [
      "-29734.36460270021\n"
     ]
    }
   ],
   "execution_count": 152
  },
  {
   "cell_type": "markdown",
   "id": "6df7119c",
   "metadata": {},
   "source": [
    "### Question 16 : Determine maximum likelihood estimators \"mEstim\", \"sEstim\" and \"aEstim\" of parameters \"m,s,a\" (run next cell). "
   ]
  },
  {
   "cell_type": "code",
   "id": "9207af1e",
   "metadata": {
    "ExecuteTime": {
     "end_time": "2025-02-10T15:46:08.160150Z",
     "start_time": "2025-02-10T15:45:58.837018Z"
    }
   },
   "source": [
    "mtest=np.arange(5,15,0.1) #le pas est très important ici car la compléxité est très grande\n",
    "stest=np.arange(1,8,0.1)  #Si vous tester 0.01, cela va prendre du temps !!\n",
    "atest=np.arange(0,3,0.1)\n",
    "\n",
    "Res=[]\n",
    "MSA=[]\n",
    "for i in range(len(mtest)):\n",
    "    for j in range(len(stest)):\n",
    "        for k in range(len(atest)):\n",
    "            Res.append(loglikelihood(mtest[i],stest[j],atest[k]))\n",
    "            MSA.append([mtest[i],stest[j],atest[k]])\n",
    "\n",
    "Max=max(Res)\n",
    "Argmax=np.argmax(Res)\n",
    "[mEstim,sEstim,aEstim]=MSA[Argmax]\n",
    "\n",
    "print(\"mEstim=\",mEstim)\n",
    "print(\"sEstim=\",sEstim)\n",
    "print(\"aEstim=\",aEstim)\n"
   ],
   "outputs": [
    {
     "name": "stdout",
     "output_type": "stream",
     "text": [
      "mEstim= 7.79999999999999\n",
      "sEstim= 5.100000000000003\n",
      "aEstim= 1.9000000000000001\n"
     ]
    }
   ],
   "execution_count": 156
  },
  {
   "cell_type": "code",
   "id": "dad29d34",
   "metadata": {
    "ExecuteTime": {
     "end_time": "2025-02-10T15:45:49.641969Z",
     "start_time": "2025-02-10T15:45:49.638092Z"
    }
   },
   "source": [
    "def neg_log_likelihood(params):\n",
    "    m, s, a = params\n",
    "    return -loglikelihood(m, s, a)"
   ],
   "outputs": [],
   "execution_count": 154
  },
  {
   "cell_type": "code",
   "id": "b49a8a71",
   "metadata": {
    "ExecuteTime": {
     "end_time": "2025-02-10T15:45:54.464365Z",
     "start_time": "2025-02-10T15:45:54.455513Z"
    }
   },
   "source": [
    "# Initial guesses\n",
    "initial_guess = [muEstim, np.sqrt(varEstim), 0]\n",
    "\n",
    "# Optimization to find MLE estimates\n",
    "result = minimize(neg_log_likelihood, initial_guess, method=\"L-BFGS-B\", bounds=[(None, None), (1e-5, None), (None, None)])\n",
    "\n",
    "# Extract estimated values\n",
    "mEstim, sEstim, aEstim = result.x\n",
    "mEstim, sEstim, aEstim"
   ],
   "outputs": [
    {
     "data": {
      "text/plain": [
       "(np.float64(11.37923076923077),\n",
       " np.float64(3.6076585144002893),\n",
       " np.float64(0.0))"
      ]
     },
     "execution_count": 155,
     "metadata": {},
     "output_type": "execute_result"
    }
   ],
   "execution_count": 155
  },
  {
   "cell_type": "markdown",
   "id": "5b90c3c0",
   "metadata": {},
   "source": [
    "### Question 17 : Superimpose the histogram of the question $4$ with the probability density graph of the normal asymmetrical law of parameters \"mEstim\", \"sEstim\" and \"aEstim\". Comment."
   ]
  },
  {
   "cell_type": "code",
   "id": "fb24ce52",
   "metadata": {
    "ExecuteTime": {
     "end_time": "2025-02-10T15:47:06.056426Z",
     "start_time": "2025-02-10T15:47:06.054080Z"
    }
   },
   "source": [
    "x_vals = np.linspace(min(data), max(data), 100)\n",
    "pdf_vals = sk.pdf(x_vals, aEstim, loc=mEstim, scale=sEstim)"
   ],
   "outputs": [],
   "execution_count": 159
  },
  {
   "cell_type": "code",
   "id": "68a4069e",
   "metadata": {
    "ExecuteTime": {
     "end_time": "2025-02-10T15:47:08.239555Z",
     "start_time": "2025-02-10T15:47:08.158404Z"
    }
   },
   "source": [
    "plt.hist(data, bins=20, density=True, edgecolor='black', alpha=0.7, label=\"Histogram\")\n",
    "plt.plot(x_vals, pdf_vals, color=\"red\", label=\"Skew Normal Density\")\n",
    "plt.xlabel(\"Values\")\n",
    "plt.ylabel(\"Density\")\n",
    "plt.title(\"Histogram with Skew Normal Density\")\n",
    "plt.legend()\n",
    "plt.show()"
   ],
   "outputs": [
    {
     "data": {
      "text/plain": [
       "<Figure size 640x480 with 1 Axes>"
      ],
      "image/png": "[encoded data removed]"
     },
     "metadata": {},
     "output_type": "display_data"
    }
   ],
   "execution_count": 160
  },
  {
   "metadata": {},
   "cell_type": "markdown",
   "source": "We can see a little improvement at the end of the graph because now we using the skew normal density since it's personalized for this graph.",
   "id": "1b9268917b255a49"
  },
  {
   "cell_type": "markdown",
   "id": "85e53180",
   "metadata": {},
   "source": [
    "### Question 18 : Perform the $\\chi^2$ sample suitability test of \"data\" to a normal asymmetric law and conclude."
   ]
  },
  {
   "cell_type": "code",
   "id": "a4ad9902",
   "metadata": {
    "ExecuteTime": {
     "end_time": "2025-02-10T15:50:53.419946Z",
     "start_time": "2025-02-10T15:50:53.413187Z"
    }
   },
   "source": [
    "# Compute expected frequencies for skew normal\n",
    "effTh_skew = np.array([len(data) * (sk.cdf(b, aEstim, loc=mEstim, scale=sEstim) - sk.cdf(a, aEstim, loc=mEstim, scale=sEstim))\n",
    "                        for a, b in zip(np.linspace(0, 19, 20), np.linspace(1, 20, 20))])"
   ],
   "outputs": [],
   "execution_count": 163
  },
  {
   "cell_type": "code",
   "id": "68be6595",
   "metadata": {
    "ExecuteTime": {
     "end_time": "2025-02-10T15:50:56.979507Z",
     "start_time": "2025-02-10T15:50:56.975670Z"
    }
   },
   "source": [
    "# Chi-square test\n",
    "chi2_distance_skew = np.sum((effObs - effTh_skew)**2 / effTh_skew)\n",
    "df_skew = len(effObs) - 1\n",
    "chi2_critical_skew = chi2.ppf(0.95, df_skew)"
   ],
   "outputs": [],
   "execution_count": 164
  },
  {
   "cell_type": "code",
   "id": "f38bfee0",
   "metadata": {
    "ExecuteTime": {
     "end_time": "2025-02-10T15:51:11.829370Z",
     "start_time": "2025-02-10T15:51:11.826265Z"
    }
   },
   "source": [
    "# Conclusion\n",
    "if chi2_distance_skew < chi2_critical_skew:\n",
    "    print(\"Fail to reject H0: Data follows a skew normal distribution.\")\n",
    "else:\n",
    "    print(\"Reject H0: Data does not follow a skew normal distribution.\")"
   ],
   "outputs": [
    {
     "name": "stdout",
     "output_type": "stream",
     "text": [
      "Reject H0: Data does not follow a skew normal distribution.\n"
     ]
    }
   ],
   "execution_count": 165
  },
  {
   "metadata": {},
   "cell_type": "markdown",
   "source": "As we said before it's better but still wrong.",
   "id": "f09892c12276d9e2"
  },
  {
   "cell_type": "code",
   "execution_count": null,
   "id": "4bf93f88",
   "metadata": {},
   "outputs": [],
   "source": []
  },
  {
   "cell_type": "markdown",
   "id": "b5d8737f",
   "metadata": {},
   "source": [
    "### Independence of two attributes"
   ]
  },
  {
   "cell_type": "code",
   "id": "efc34c0a",
   "metadata": {
    "ExecuteTime": {
     "end_time": "2025-02-10T15:52:16.618245Z",
     "start_time": "2025-02-10T15:52:16.612505Z"
    }
   },
   "source": [
    "dataWomen=[19.9,18.22,17.63,17.63,16.32,15.66,15.66,15.66,15.39,15.39,15.26,15,14.87,\n",
    "            14.61,14.08,13.68,13.42,13.42,13.29,13.16,12.89,12.89,12.76,12.76,12.76,\n",
    "            12.37,12.24,12.24,12.24,12.24,11.84,11.05,10.66,10.39,10.39,10.26,10,9.61,\n",
    "            9.08,7.5,6.84]\n",
    "dataMen=[19.9,19.9,19.14,18.55,18.55,\n",
    "            18.42,18.29,18.16,17.83,17.37,17.24,16.84,16.18,16.18,16.18,16.05,15.92,\n",
    "            15.92,15.79,15.79,15.66,15.66,15.53,15.53,15.39,15.39,15.13,15.13,15,15,\n",
    "            15,14.93,14.74,14.74,14.61,14.61,14.61,14.34,14.21,14.21,14.08,14.08,14.08,\n",
    "            14.08,13.95,13.82,13.82,13.82,13.62,13.55,13.42,13.16,13.16,12.89,12.89,\n",
    "            12.89,12.89,12.76,12.63,12.5,12.5,12.5,12.5,12.43,12.37,12.37,12.24,12.24,\n",
    "            12.11,12.11,12.11,12.11,11.97,11.97,11.84,11.84,11.84,11.84,11.58,11.58,\n",
    "            11.58,11.58,11.58,11.45,11.45,11.25,11.25,11.25,11.18,11.18,11.05,10.92,\n",
    "            10.92,10.83,10.79,10.79,10.66,10.66,10.66,10.53,10.53,10.53,10.53,10.53,\n",
    "            10.39,10.26,10.26,10.26,10.26,10.13,10.13,10,10,10,10,10,9.87,9.84,9.74,\n",
    "            9.74,9.74,9.74,9.67,9.61,9.61,9.41,9.34,9.34,9.34,9.28,9.21,9.21,8.95,8.95,\n",
    "            8.82,8.82,8.82,8.68,8.55,8.42,8.29,8.29,8.16,8.03,7.89,7.89,7.63,7.63,7.43,\n",
    "            7.24,7.11,6.97,6.97,6.84,6.84,6.84,6.71,6.71,6.58,6.45,6.32,6.18,5.66,\n",
    "            5.39,5.39,5.26,5.26,5.13,4.61,4.61,4.47,2.63,11.45,13.16,11.05]"
   ],
   "outputs": [],
   "execution_count": 166
  },
  {
   "cell_type": "markdown",
   "id": "22a89f2a",
   "metadata": {},
   "source": [
    "### Question 19 : Create the contingency matrix of observed frequencies from the provided data, and that of theoretical frequencies under the hypothesis of gender independence to the results obtained. The classes will be as follows:\n",
    "\\begin{align*}\n",
    "[0,10.5[;[10.5,13[;[13,15[;[15,16[,[16,20].\\end{align*}\n",
    "### Calculate the distance of $\\chi^2$ of this independence test, then conclude (left unilateral test) by specifying the critical value and the number of degrees of freedom at the type-I risk threshold of $5\\%$."
   ]
  },
  {
   "cell_type": "code",
   "id": "b83d0c5e",
   "metadata": {
    "ExecuteTime": {
     "end_time": "2025-02-10T15:52:23.009927Z",
     "start_time": "2025-02-10T15:52:23.006949Z"
    }
   },
   "source": [
    "# Sample gender-separated data (dataWomen, dataMen)\n",
    "dataWomen = data[:len(data)//2]\n",
    "dataMen = data[len(data)//2:]"
   ],
   "outputs": [],
   "execution_count": 167
  },
  {
   "cell_type": "code",
   "id": "3769464a",
   "metadata": {
    "ExecuteTime": {
     "end_time": "2025-02-10T15:52:25.501107Z",
     "start_time": "2025-02-10T15:52:25.498055Z"
    }
   },
   "source": [
    "# Define class boundaries\n",
    "bins = [0, 10.5, 13, 15, 16, 20]"
   ],
   "outputs": [],
   "execution_count": 168
  },
  {
   "cell_type": "code",
   "id": "ad8f7f14",
   "metadata": {
    "ExecuteTime": {
     "end_time": "2025-02-10T15:52:27.329844Z",
     "start_time": "2025-02-10T15:52:27.326482Z"
    }
   },
   "source": [
    "# Compute observed frequency table\n",
    "obs_women, _ = np.histogram(dataWomen, bins)\n",
    "obs_men, _ = np.histogram(dataMen, bins)"
   ],
   "outputs": [],
   "execution_count": 169
  },
  {
   "cell_type": "code",
   "id": "9b8e6a9d",
   "metadata": {
    "ExecuteTime": {
     "end_time": "2025-02-10T15:52:29.326614Z",
     "start_time": "2025-02-10T15:52:29.323893Z"
    }
   },
   "source": [
    "# Total population\n",
    "total_women = len(dataWomen)\n",
    "total_men = len(dataMen)\n",
    "total = total_women + total_men"
   ],
   "outputs": [],
   "execution_count": 170
  },
  {
   "cell_type": "code",
   "id": "de968cd7",
   "metadata": {
    "ExecuteTime": {
     "end_time": "2025-02-10T15:52:31.491748Z",
     "start_time": "2025-02-10T15:52:31.488992Z"
    }
   },
   "source": [
    "# Compute expected frequencies under independence hypothesis\n",
    "expected_women = total_women * (obs_women + obs_men) / total\n",
    "expected_men = total_men * (obs_women + obs_men) / total"
   ],
   "outputs": [],
   "execution_count": 171
  },
  {
   "metadata": {
    "ExecuteTime": {
     "end_time": "2025-02-10T15:52:34.143538Z",
     "start_time": "2025-02-10T15:52:34.139962Z"
    }
   },
   "cell_type": "code",
   "source": [
    "# Compute Chi-square test\n",
    "chi2_independence = np.sum((obs_women - expected_women) ** 2 / expected_women) + np.sum((obs_men - expected_men) ** 2 / expected_men)\n",
    "df_independence = (len(bins) - 1) - 1\n",
    "chi2_critical_independence = chi2.ppf(0.95, df_independence)"
   ],
   "id": "cc942cd221d561b6",
   "outputs": [],
   "execution_count": 172
  },
  {
   "metadata": {
    "ExecuteTime": {
     "end_time": "2025-02-10T15:52:36.422118Z",
     "start_time": "2025-02-10T15:52:36.418556Z"
    }
   },
   "cell_type": "code",
   "source": [
    "# Conclusion\n",
    "if chi2_independence < chi2_critical_independence:\n",
    "    print(\"Fail to reject H0: Gender and scores are independent.\")\n",
    "else:\n",
    "    print(\"Reject H0: Gender and scores are dependent.\")"
   ],
   "id": "4c76217aed47d9bc",
   "outputs": [
    {
     "name": "stdout",
     "output_type": "stream",
     "text": [
      "Reject H0: Gender and scores are dependent.\n"
     ]
    }
   ],
   "execution_count": 173
  }
 ],
 "metadata": {
  "kernelspec": {
   "display_name": "Python 3",
   "language": "python",
   "name": "python3"
  },
  "language_info": {
   "codemirror_mode": {
    "name": "ipython",
    "version": 3
   },
   "file_extension": ".py",
   "mimetype": "text/x-python",
   "name": "python",
   "nbconvert_exporter": "python",
   "pygments_lexer": "ipython3",
   "version": "3.8.10"
  }
 },
 "nbformat": 4,
 "nbformat_minor": 5
}
