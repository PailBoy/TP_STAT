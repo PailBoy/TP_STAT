{
 "cells": [
  {
   "cell_type": "markdown",
   "id": "07b3af24",
   "metadata": {},
   "source": [
    "# TP2 : Hypothesis tests"
   ]
  },
  {
   "cell_type": "markdown",
   "id": "b8165dff",
   "metadata": {},
   "source": [
    "## Lab session"
   ]
  },
  {
   "cell_type": "code",
   "id": "385a7038",
   "metadata": {
    "ExecuteTime": {
     "end_time": "2025-02-09T12:07:08.533190Z",
     "start_time": "2025-02-09T12:07:07.444378Z"
    }
   },
   "source": [
    "import numpy as np\n",
    "import matplotlib.pyplot as plt\n",
    "from scipy.integrate import quad\n",
    "from scipy.special import erf"
   ],
   "outputs": [],
   "execution_count": 1
  },
  {
   "cell_type": "markdown",
   "id": "94a83133",
   "metadata": {},
   "source": [
    "### Adequation to a normal law"
   ]
  },
  {
   "cell_type": "code",
   "id": "b333969a",
   "metadata": {
    "ExecuteTime": {
     "end_time": "2025-02-09T12:09:21.692478Z",
     "start_time": "2025-02-09T12:09:21.668403Z"
    }
   },
   "source": [
    "data=np.array([5.5,3,13.7,13,18,11.9,9.4,10.5,15.9,9.8,8.4,8.7,18,12.7,9.4,\n",
    "      14.4,7.3,9.3,7.7,8.4,11.2,5.5,8,11.6,6.2,5.2,18.7,9.1,13.7,\n",
    "      9.1,8.4,9.4,6.9,8.7,11.2,8.7,5.9,8.7,9.8,19.6,9.6,14.1,9.1,13.7,\n",
    "      6.9,8.7,7.3,9.6,13,13.5,15.2,15.7,14.4,8,9.4,6.6,10.9,8.4,9.8,18,\n",
    "      10,18,19.3,4.1,9.8,17.3,13.7,11.6,6.6,6.9,11.9,19.9,9.8,8.4,15.2,\n",
    "      11.4,7.7,11.9,12.3,12.7,19.9,8,11.9,13,14.3,14.4,16.6,14.1,9.4,13.7,\n",
    "      12.7,9.8,8.4,7.7,11,6.9,4.4,10.3,18.4,8.5,11.2,13,19.9,10.7,8,13.7,\n",
    "      19.8,10.5,13.7,3.4,5.9,4.3,8.7,10.9,11.2,9.8,9.8,10.3,6.6,12.3,7.7,\n",
    "      10.5,11.6,8.7,8,7.7,4.4,11.6,8,9.6,9.1,12.1,10.2,13.7,12.7,13,12.3,\n",
    "      8.4,7.3,9.6,8,9.8,7.3,14.8,7.7,9.4,13.2,9.8,13,8.7,16.9,12.3,8.7,11.6,\n",
    "      8.4,5.2,19.9,12.1,8,9.3,13.7,6.6,13.4,5.5,8.7,6.6,12.3,12.7,10.9,7.3,\n",
    "      8.4,19.9,8.7,9.4,16.9,18.4,11.8,7.7,8,6.2,15.2,11.9,11.6,7.7,11.2,9.1,\n",
    "      9.8,13.4,11.2,19.9,6.8,8.2,18.4,14.4,10.9,9.8,17.3,14.3,8,13,19.9,19.9,\n",
    "      19.9,19.14,18.55,18.55,18.42,18.29,18.22,18.16,17.83,17.63,17.63,17.37,\n",
    "      17.24,16.84,16.32,16.18,16.18,16.18,16.05,15.92,15.92,15.79,15.79,15.66,\n",
    "      15.66,15.66,15.66,15.66,15.53,15.53,15.39,15.39,15.39,15.39,15.26,15.13,\n",
    "      15.13,15,15,15,15,14.93,14.87,14.74,14.74,14.61,14.61,14.61,14.61,14.34,\n",
    "      14.21,14.21,14.08,14.08,14.08,14.08,14.08,13.95,13.82,13.82,13.82,13.68,\n",
    "      13.62,13.55,13.42,13.42,13.42,13.29,13.16,13.16,13.16,12.89,12.89,12.89,\n",
    "      12.89,12.89,12.89,12.76,12.76,12.76,12.76,12.63,12.5,12.5,12.5,12.5,12.43,\n",
    "      12.37,12.37,12.37,12.24,12.24,12.24,12.24,12.24,12.24,12.11,12.11,12.11,\n",
    "      12.11,11.97,11.97,11.84,11.84,11.84,11.84,11.84,11.58,11.58,11.58,11.58,\n",
    "      11.58,11.45,11.45,11.25,11.25,11.25,11.18,11.18,11.05,11.05,10.92,10.92,\n",
    "      10.83,10.79,10.79,10.66,10.66,10.66,10.66,10.53,10.53,10.53,10.53,10.53,\n",
    "      10.39,10.39,10.39,10.26,10.26,10.26,10.26,10.26,10.13,10.13,10,10,10,10,\n",
    "      10,10,9.87,9.84,9.74,9.74,9.74,9.74,9.67,9.61,9.61,9.61,9.41,9.34,9.34,\n",
    "      9.34,9.28,9.21,9.21,9.08,8.95,8.95,8.82,8.82,8.82,8.68,8.55,8.42,8.29,\n",
    "      8.29,8.16,8.03,7.89,7.89,7.63,7.63,7.5,7.43,7.24,7.11,6.97,6.97,6.84,\n",
    "      6.84,6.84,6.84,6.71,6.71,6.58,6.45,6.32,6.18,5.66,5.39,5.39,5.26,5.26,5.13,\n",
    "      4.61,4.61,4.47,2.63,11.45,13.16,11.05])"
   ],
   "outputs": [],
   "execution_count": 2
  },
  {
   "cell_type": "markdown",
   "id": "1d68dc81",
   "metadata": {},
   "source": [
    "### Question 1 : Give an estimate of the mean \"muEstim\", of the variance \"varEstim\" of the law of $X_i$."
   ]
  },
  {
   "cell_type": "code",
   "execution_count": null,
   "id": "792a821e",
   "metadata": {},
   "outputs": [],
   "source": []
  },
  {
   "cell_type": "markdown",
   "id": "cd913ca8",
   "metadata": {},
   "source": [
    "### Question 2 : Are the numerical values \"muEstim\" and \"varEstim\" coherent with your answer to question 2B?"
   ]
  },
  {
   "cell_type": "markdown",
   "id": "d4b976a7",
   "metadata": {},
   "source": []
  },
  {
   "cell_type": "markdown",
   "id": "2d3a6cbc",
   "metadata": {},
   "source": [
    "### Question 3 : Create a function \"skewnessEmp\" and a function \"kurtosisEmp\" to compute empirical estimators of the asymmetry coefficient and kurtosis given an input list $X$. Generate an estimation \"skewnessEstim\" and an estimation \"kurtosisEstim\" of these two coefficient for the list \"data\". Compare the theoretical values of kurtosis and of the asymmetry coefficient found in question 1."
   ]
  },
  {
   "cell_type": "code",
   "execution_count": null,
   "id": "e8dca884",
   "metadata": {},
   "outputs": [],
   "source": []
  },
  {
   "cell_type": "markdown",
   "id": "ff74e618",
   "metadata": {},
   "source": [
    "### Question 4 : Plot the list \"data\" with a histogram. How does it compare with a normal law?"
   ]
  },
  {
   "cell_type": "code",
   "execution_count": null,
   "id": "6ffc4c70",
   "metadata": {},
   "outputs": [],
   "source": []
  },
  {
   "cell_type": "markdown",
   "id": "b3ae2c43",
   "metadata": {},
   "source": [
    "### Question 5 : Superimpose the density function of the normal law of mean \"muEstim\" and variance \"varEstim\" to the previous histogram. Comment."
   ]
  },
  {
   "cell_type": "code",
   "execution_count": null,
   "id": "9011e8c8",
   "metadata": {},
   "outputs": [],
   "source": []
  },
  {
   "cell_type": "markdown",
   "id": "35284541",
   "metadata": {},
   "source": [
    "### Question 6 : Create a function \"fR(x)\" that returns the value of the cumulative distribution of a normal law of mean \"muEstim\" and variance \"varEstim\" in point $x$. You may use the \"quad\" of \"scipy.integrate\"."
   ]
  },
  {
   "cell_type": "code",
   "execution_count": null,
   "id": "831ecdf1",
   "metadata": {},
   "outputs": [],
   "source": [
    "def fR(x):\n",
    "    "
   ]
  },
  {
   "cell_type": "markdown",
   "id": "0cf2b966",
   "metadata": {},
   "source": [
    "### Question 7 : Plot \"fR\" over an interval chosen adequately. Comment on the chosen interval."
   ]
  },
  {
   "cell_type": "code",
   "execution_count": null,
   "id": "cd11d812",
   "metadata": {},
   "outputs": [],
   "source": []
  },
  {
   "cell_type": "markdown",
   "id": "80bde447",
   "metadata": {},
   "source": [
    "### Question 8 : Create lists \"effObs\" and \"effTh\" that contain observed and theoretical class counts respectively. To do so, you should create a function \"count(X,nb_classes)\" counting the number of values of $X$ in each class (classes going from $0$ to $20$)."
   ]
  },
  {
   "cell_type": "code",
   "execution_count": null,
   "id": "674c8255",
   "metadata": {},
   "outputs": [],
   "source": [
    "# Pour compter le nombre de valeurs dans chaque classe (les classes vont de 0 à 20)\n",
    "def count(X,nb_classes):\n",
    "    \n",
    "                "
   ]
  },
  {
   "cell_type": "code",
   "execution_count": null,
   "id": "a464c065",
   "metadata": {},
   "outputs": [],
   "source": []
  },
  {
   "cell_type": "markdown",
   "id": "2265e2f3",
   "metadata": {},
   "source": [
    "### Question 9 : Create a function \"groupLeft(list,k)\" that takes as input a list and a positive integer $k$ and returns the list obtained by grouping and summing the $k$ first terms of the provided list."
   ]
  },
  {
   "cell_type": "code",
   "execution_count": null,
   "id": "1446c229",
   "metadata": {},
   "outputs": [],
   "source": [
    "def groupLeft(l,k):\n",
    "    \n",
    "        "
   ]
  },
  {
   "cell_type": "code",
   "execution_count": null,
   "id": "c5c9edc1",
   "metadata": {},
   "outputs": [],
   "source": []
  },
  {
   "cell_type": "code",
   "execution_count": null,
   "id": "756c99af",
   "metadata": {},
   "outputs": [],
   "source": []
  },
  {
   "cell_type": "markdown",
   "id": "ee4057c1",
   "metadata": {},
   "source": [
    "### Question 10 : Same on the right for \"groupRight(list,k)\"."
   ]
  },
  {
   "cell_type": "code",
   "execution_count": null,
   "id": "9259c20d",
   "metadata": {},
   "outputs": [],
   "source": [
    "def groupRight(l,k):\n",
    "    "
   ]
  },
  {
   "cell_type": "markdown",
   "id": "67a84115",
   "metadata": {},
   "source": [
    "### Question 11 : Using the previous functions, group classes so that all classes are larger than $5$ (the number of classes to be grouped will be determined to your best judgement). We will call \"effThBis\" and \"effObsBis\" the new theoretical and observed numbers."
   ]
  },
  {
   "cell_type": "code",
   "execution_count": null,
   "id": "0f5ada8d",
   "metadata": {},
   "outputs": [],
   "source": []
  },
  {
   "cell_type": "markdown",
   "id": "54e1615f",
   "metadata": {},
   "source": [
    "### Question 12 : Compute the distance $\\chi^2$ between \"effObsBis\" and \"effThBis\". "
   ]
  },
  {
   "cell_type": "code",
   "execution_count": null,
   "id": "b2ad3374",
   "metadata": {},
   "outputs": [],
   "source": []
  },
  {
   "cell_type": "markdown",
   "id": "a4236286",
   "metadata": {},
   "source": [
    "### Question 13 : Conclude as to the suitability of the data sample to a normal law for a type-I risk $\\alpha=5\\%$. The number of degrees of freedom of the problem must be explicitely specified and the threshold value of the left-hand unilateral test of $\\chi^2$ will be determined on the course polycopy table."
   ]
  },
  {
   "cell_type": "code",
   "execution_count": null,
   "id": "bfff35b6",
   "metadata": {},
   "outputs": [],
   "source": []
  },
  {
   "cell_type": "code",
   "execution_count": null,
   "id": "de3444d2",
   "metadata": {},
   "outputs": [],
   "source": []
  },
  {
   "cell_type": "markdown",
   "id": "b2725013",
   "metadata": {},
   "source": [
    "## Adaptation to asymmetry"
   ]
  },
  {
   "cell_type": "markdown",
   "id": "70be7275",
   "metadata": {},
   "source": [
    "### Question 14 : The following defines \"skewnorm(x,e,w,a)\". Plot this density with $e=0, w=1$ and $a=4$."
   ]
  },
  {
   "cell_type": "code",
   "execution_count": null,
   "id": "68c7638e",
   "metadata": {},
   "outputs": [],
   "source": [
    "def pdf(x):\n",
    "    return 1/np.sqrt(2*np.pi) * np.exp(-x**2/2)\n",
    "def cdf(x):\n",
    "    return (1 + erf(x/np.sqrt(2))) / 2\n",
    "\n",
    "def skewnorm(x,m,s,a):\n",
    "    t = (x-m) / s\n",
    "    return 2 / s * pdf(t) * cdf(a*t)"
   ]
  },
  {
   "cell_type": "code",
   "execution_count": null,
   "id": "74a979f0",
   "metadata": {},
   "outputs": [],
   "source": []
  },
  {
   "cell_type": "markdown",
   "id": "7a3e3396",
   "metadata": {},
   "source": []
  },
  {
   "cell_type": "markdown",
   "id": "efdc2f7e",
   "metadata": {},
   "source": [
    "### Question 15 : Create a \"loglikelihood$(m,s,a)$\" function that gives the $\\mathrm{Log}$-likelihood of the data sample for the asymmetric normal law model."
   ]
  },
  {
   "cell_type": "code",
   "execution_count": null,
   "id": "1dcb695c",
   "metadata": {},
   "outputs": [],
   "source": [
    "def loglikelihood(m,s,a):\n"
   ]
  },
  {
   "cell_type": "markdown",
   "id": "6df7119c",
   "metadata": {},
   "source": [
    "### Question 16 : Determine maximum likelihood estimators \"mEstim\", \"sEstim\" and \"aEstim\" of parameters \"m,s,a\" (run next cell). "
   ]
  },
  {
   "cell_type": "code",
   "execution_count": null,
   "id": "9207af1e",
   "metadata": {},
   "outputs": [],
   "source": [
    "mtest=np.arange(5,15,0.1) #le pas est très important ici car la compléxité est très grande\n",
    "stest=np.arange(1,8,0.1)  #Si vous tester 0.01, cela va prendre du temps !!\n",
    "atest=np.arange(0,3,0.1)\n",
    "\n",
    "Res=[]\n",
    "MSA=[]\n",
    "for i in range(len(mtest)):\n",
    "    for j in range(len(stest)):\n",
    "        for k in range(len(atest)):\n",
    "            Res.append(loglikelihood(mtest[i],stest[j],atest[k]))\n",
    "            MSA.append([mtest[i],stest[j],atest[k]])\n",
    "\n",
    "Max=max(Res)\n",
    "Argmax=np.argmax(Res)\n",
    "[mEstim,sEstim,aEstim]=MSA[Argmax]\n",
    "\n",
    "print(\"mEstim=\",mEstim)\n",
    "print(\"sEstim=\",sEstim)\n",
    "print(\"aEstim=\",aEstim)\n"
   ]
  },
  {
   "cell_type": "code",
   "execution_count": null,
   "id": "dad29d34",
   "metadata": {},
   "outputs": [],
   "source": []
  },
  {
   "cell_type": "code",
   "execution_count": null,
   "id": "b49a8a71",
   "metadata": {},
   "outputs": [],
   "source": []
  },
  {
   "cell_type": "markdown",
   "id": "5b90c3c0",
   "metadata": {},
   "source": [
    "### Question 17 : Superimpose the histogram of the question $4$ with the probability density graph of the normal asymmetrical law of parameters \"mEstim\", \"sEstim\" and \"aEstim\". Comment."
   ]
  },
  {
   "cell_type": "code",
   "execution_count": null,
   "id": "fb24ce52",
   "metadata": {},
   "outputs": [],
   "source": []
  },
  {
   "cell_type": "code",
   "execution_count": null,
   "id": "68a4069e",
   "metadata": {},
   "outputs": [],
   "source": []
  },
  {
   "cell_type": "markdown",
   "id": "85e53180",
   "metadata": {},
   "source": [
    "### Question 18 : Perform the $\\chi^2$ sample suitability test of \"data\" to a normal asymmetric law and conclude."
   ]
  },
  {
   "cell_type": "code",
   "execution_count": null,
   "id": "a4ad9902",
   "metadata": {},
   "outputs": [],
   "source": []
  },
  {
   "cell_type": "code",
   "execution_count": null,
   "id": "68be6595",
   "metadata": {},
   "outputs": [],
   "source": []
  },
  {
   "cell_type": "code",
   "execution_count": null,
   "id": "f38bfee0",
   "metadata": {},
   "outputs": [],
   "source": []
  },
  {
   "cell_type": "code",
   "execution_count": null,
   "id": "4bf93f88",
   "metadata": {},
   "outputs": [],
   "source": []
  },
  {
   "cell_type": "markdown",
   "id": "b5d8737f",
   "metadata": {},
   "source": [
    "### Independence of two attributes"
   ]
  },
  {
   "cell_type": "code",
   "execution_count": null,
   "id": "efc34c0a",
   "metadata": {},
   "outputs": [],
   "source": [
    "dataWomen=[19.9,18.22,17.63,17.63,16.32,15.66,15.66,15.66,15.39,15.39,15.26,15,14.87,\n",
    "            14.61,14.08,13.68,13.42,13.42,13.29,13.16,12.89,12.89,12.76,12.76,12.76,\n",
    "            12.37,12.24,12.24,12.24,12.24,11.84,11.05,10.66,10.39,10.39,10.26,10,9.61,\n",
    "            9.08,7.5,6.84]\n",
    "dataMen=[19.9,19.9,19.14,18.55,18.55,\n",
    "            18.42,18.29,18.16,17.83,17.37,17.24,16.84,16.18,16.18,16.18,16.05,15.92,\n",
    "            15.92,15.79,15.79,15.66,15.66,15.53,15.53,15.39,15.39,15.13,15.13,15,15,\n",
    "            15,14.93,14.74,14.74,14.61,14.61,14.61,14.34,14.21,14.21,14.08,14.08,14.08,\n",
    "            14.08,13.95,13.82,13.82,13.82,13.62,13.55,13.42,13.16,13.16,12.89,12.89,\n",
    "            12.89,12.89,12.76,12.63,12.5,12.5,12.5,12.5,12.43,12.37,12.37,12.24,12.24,\n",
    "            12.11,12.11,12.11,12.11,11.97,11.97,11.84,11.84,11.84,11.84,11.58,11.58,\n",
    "            11.58,11.58,11.58,11.45,11.45,11.25,11.25,11.25,11.18,11.18,11.05,10.92,\n",
    "            10.92,10.83,10.79,10.79,10.66,10.66,10.66,10.53,10.53,10.53,10.53,10.53,\n",
    "            10.39,10.26,10.26,10.26,10.26,10.13,10.13,10,10,10,10,10,9.87,9.84,9.74,\n",
    "            9.74,9.74,9.74,9.67,9.61,9.61,9.41,9.34,9.34,9.34,9.28,9.21,9.21,8.95,8.95,\n",
    "            8.82,8.82,8.82,8.68,8.55,8.42,8.29,8.29,8.16,8.03,7.89,7.89,7.63,7.63,7.43,\n",
    "            7.24,7.11,6.97,6.97,6.84,6.84,6.84,6.71,6.71,6.58,6.45,6.32,6.18,5.66,\n",
    "            5.39,5.39,5.26,5.26,5.13,4.61,4.61,4.47,2.63,11.45,13.16,11.05]"
   ]
  },
  {
   "cell_type": "markdown",
   "id": "22a89f2a",
   "metadata": {},
   "source": [
    "### Question 19 : Create the contingency matrix of observed frequencies from the provided data, and that of theoretical frequencies under the hypothesis of gender independence to the results obtained. The classes will be as follows:\n",
    "\\begin{align*}\n",
    "[0,10.5[;[10.5,13[;[13,15[;[15,16[,[16,20].\\end{align*}\n",
    "### Calculate the distance of $\\chi^2$ of this independence test, then conclude (left unilateral test) by specifying the critical value and the number of degrees of freedom at the type-I risk threshold of $5\\%$."
   ]
  },
  {
   "cell_type": "code",
   "execution_count": null,
   "id": "b83d0c5e",
   "metadata": {},
   "outputs": [],
   "source": []
  },
  {
   "cell_type": "code",
   "execution_count": null,
   "id": "3769464a",
   "metadata": {},
   "outputs": [],
   "source": []
  },
  {
   "cell_type": "code",
   "execution_count": null,
   "id": "ad8f7f14",
   "metadata": {},
   "outputs": [],
   "source": []
  },
  {
   "cell_type": "code",
   "execution_count": null,
   "id": "9b8e6a9d",
   "metadata": {},
   "outputs": [],
   "source": []
  },
  {
   "cell_type": "code",
   "execution_count": null,
   "id": "de968cd7",
   "metadata": {},
   "outputs": [],
   "source": []
  }
 ],
 "metadata": {
  "kernelspec": {
   "display_name": "Python 3",
   "language": "python",
   "name": "python3"
  },
  "language_info": {
   "codemirror_mode": {
    "name": "ipython",
    "version": 3
   },
   "file_extension": ".py",
   "mimetype": "text/x-python",
   "name": "python",
   "nbconvert_exporter": "python",
   "pygments_lexer": "ipython3",
   "version": "3.8.10"
  }
 },
 "nbformat": 4,
 "nbformat_minor": 5
}
