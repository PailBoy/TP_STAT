{
 "cells": [
  {
   "cell_type": "markdown",
   "id": "28caa1b9",
   "metadata": {},
   "source": [
    "# TP3 : Density estimation"
   ]
  },
  {
   "cell_type": "markdown",
   "id": "2e25c9e2",
   "metadata": {},
   "source": [
    "## Lab session"
   ]
  },
  {
   "cell_type": "code",
   "id": "d6c29ee0",
   "metadata": {
    "ExecuteTime": {
     "end_time": "2025-03-10T08:08:39.709791Z",
     "start_time": "2025-03-10T08:08:39.695484Z"
    }
   },
   "source": [
    "import numpy as np\n",
    "import matplotlib.pyplot as plt\n",
    "from scipy.stats import norm\n",
    "from sklearn.neighbors import KernelDensity"
   ],
   "outputs": [
    {
     "ename": "ModuleNotFoundError",
     "evalue": "No module named 'sklearn'",
     "output_type": "error",
     "traceback": [
      "\u001B[0;31m---------------------------------------------------------------------------\u001B[0m",
      "\u001B[0;31mModuleNotFoundError\u001B[0m                       Traceback (most recent call last)",
      "Cell \u001B[0;32mIn[2], line 4\u001B[0m\n\u001B[1;32m      2\u001B[0m \u001B[38;5;28;01mimport\u001B[39;00m \u001B[38;5;21;01mmatplotlib\u001B[39;00m\u001B[38;5;21;01m.\u001B[39;00m\u001B[38;5;21;01mpyplot\u001B[39;00m \u001B[38;5;28;01mas\u001B[39;00m \u001B[38;5;21;01mplt\u001B[39;00m\n\u001B[1;32m      3\u001B[0m \u001B[38;5;28;01mfrom\u001B[39;00m \u001B[38;5;21;01mscipy\u001B[39;00m\u001B[38;5;21;01m.\u001B[39;00m\u001B[38;5;21;01mstats\u001B[39;00m \u001B[38;5;28;01mimport\u001B[39;00m norm\n\u001B[0;32m----> 4\u001B[0m \u001B[38;5;28;01mfrom\u001B[39;00m \u001B[38;5;21;01msklearn\u001B[39;00m\u001B[38;5;21;01m.\u001B[39;00m\u001B[38;5;21;01mneighbors\u001B[39;00m \u001B[38;5;28;01mimport\u001B[39;00m KernelDensity\n",
      "\u001B[0;31mModuleNotFoundError\u001B[0m: No module named 'sklearn'"
     ]
    }
   ],
   "execution_count": 2
  },
  {
   "cell_type": "code",
   "id": "85ab3a96",
   "metadata": {
    "ExecuteTime": {
     "end_time": "2025-03-10T08:08:51.388926Z",
     "start_time": "2025-03-10T08:08:51.385967Z"
    }
   },
   "source": [
    "#standard gaussian to estimate\n",
    "def reference(x):\n",
    "    return np.exp(-x**2/2)/np.sqrt(2*np.pi)"
   ],
   "outputs": [],
   "execution_count": 3
  },
  {
   "cell_type": "markdown",
   "id": "7b84c44d",
   "metadata": {},
   "source": [
    "### Question 1 : Create four functions $K1,K2,K3,K4$ corresponding respectively to uniform, triangle, Epanechnikov and Gaussian kernels."
   ]
  },
  {
   "cell_type": "code",
   "id": "cd55cd89",
   "metadata": {
    "ExecuteTime": {
     "end_time": "2025-03-10T08:08:56.621006Z",
     "start_time": "2025-03-10T08:08:56.616675Z"
    }
   },
   "source": [
    "def K1(x):\n",
    "    \n",
    "def K2(x):\n",
    "    \n",
    "def K3(x):\n",
    "    \n",
    "def K4(x):\n",
    "    "
   ],
   "outputs": [
    {
     "ename": "IndentationError",
     "evalue": "expected an indented block after function definition on line 1 (23847507.py, line 3)",
     "output_type": "error",
     "traceback": [
      "\u001B[0;36m  Cell \u001B[0;32mIn[4], line 3\u001B[0;36m\u001B[0m\n\u001B[0;31m    def K2(x):\u001B[0m\n\u001B[0m    ^\u001B[0m\n\u001B[0;31mIndentationError\u001B[0m\u001B[0;31m:\u001B[0m expected an indented block after function definition on line 1\n"
     ]
    }
   ],
   "execution_count": 4
  },
  {
   "cell_type": "markdown",
   "id": "3676d17c",
   "metadata": {},
   "source": [
    "### Question 2 : Create a function \"PlotK(funct,xmin,xmax,pas,col)\" with input a function\"funct\" of one argument, three numbers \"xmin, xmax, step\" and a letter \"col\". This function will return the graph of \"funct\" according to the input parameters. Subsequently, create a function \"AllplotK(xmin,xmax,pas,col1,col2,col3,col4)\" plotting the four kernels on a same graph with a legend and colors specified in input. Test for a few input values."
   ]
  },
  {
   "cell_type": "code",
   "execution_count": null,
   "id": "0fbfc5c2",
   "metadata": {},
   "outputs": [],
   "source": [
    "def PlotK(funct,xmin,xmax,pas,col):\n",
    "       \n",
    "            \n",
    "def AllplotK(xmin,xmax,pas,col1,col2,col3,col4):\n",
    "        "
   ]
  },
  {
   "cell_type": "markdown",
   "id": "6118de51",
   "metadata": {},
   "source": [
    "### Question 3 : Generate a realization of size $n$ of $X$ according to a standard Gaussian law. ($n$ is currently set at $100$ in the script)."
   ]
  },
  {
   "cell_type": "code",
   "execution_count": null,
   "id": "1667bbad",
   "metadata": {},
   "outputs": [],
   "source": [
    "n=100\n",
    "X=\"to complete\""
   ]
  },
  {
   "cell_type": "markdown",
   "id": "acf9a1d8",
   "metadata": {},
   "source": [
    "### Question 4 : Define \"fchapeau(funct,h,x)\"with argument \"funct\", window \"h\" and real \"x\" and returns the image of \"x\" by $\\widehat{f}_h$. "
   ]
  },
  {
   "cell_type": "code",
   "execution_count": null,
   "id": "449b8e0f",
   "metadata": {},
   "outputs": [],
   "source": [
    "def fchapeau(funct,h,x): \n",
    "    "
   ]
  },
  {
   "cell_type": "markdown",
   "id": "9fbbc387",
   "metadata": {},
   "source": [
    "### Question 5 : Represent on the same chart the reference function as well as the four $\\widehat{f}_h$ functions obtained with the $K1,K2,K3,K4$ kernels. For this question, set $h=2$."
   ]
  },
  {
   "cell_type": "code",
   "execution_count": null,
   "id": "ddd38da4",
   "metadata": {},
   "outputs": [],
   "source": [
    "def Plotfchap(funct,h,xmin,xmax,pas,col): \n",
    "    \n",
    "def Allplotfchapeau(h1,h2,h3,h4,xmin,xmax,pas,col1,col2,col3,col4,colref):\n",
    "        "
   ]
  },
  {
   "cell_type": "markdown",
   "id": "d82c3c8c",
   "metadata": {},
   "source": [
    "### Question 6 : Same for $h=1$. Comment."
   ]
  },
  {
   "cell_type": "code",
   "execution_count": null,
   "id": "e84dd7cf",
   "metadata": {},
   "outputs": [],
   "source": []
  },
  {
   "cell_type": "markdown",
   "id": "dfdf557d",
   "metadata": {},
   "source": [
    "### Question 7 : Redo questions 5 and 6 with\n",
    "### \\begin{align*} (n,h)\\in \\{(10,2),(10,1),(1000,2),(1000,1)\\}.\\end{align*} Comment."
   ]
  },
  {
   "cell_type": "code",
   "execution_count": null,
   "id": "6381087b",
   "metadata": {},
   "outputs": [],
   "source": []
  },
  {
   "cell_type": "markdown",
   "id": "7e3716f5",
   "metadata": {},
   "source": [
    "### Question 8 : Define \"SCE(funct,h,f)\" with input \"funct\", a function \"f\", a window \"h\" and returns the sum of squared differences between \"funct\" and \"f\" (\"f\" is the reference and \"funct\" is the estimation)."
   ]
  },
  {
   "cell_type": "code",
   "execution_count": null,
   "id": "7abb05a9",
   "metadata": {},
   "outputs": [],
   "source": [
    "def SCE(funct,h,f):\n",
    "        "
   ]
  },
  {
   "cell_type": "markdown",
   "id": "10ac31f9",
   "metadata": {},
   "source": [
    "### Question 9 : Create a function \"thebesth\" that takes a function (the kernel in question) and another function $f$ (the reference) into parameters and returns the index divided by $100$ of the minimum list $\\{SCE(k/100)\\}_{1\\le k\\le 200}$."
   ]
  },
  {
   "cell_type": "code",
   "execution_count": null,
   "id": "2ac383cb",
   "metadata": {},
   "outputs": [],
   "source": [
    "def thebesth(funct,f):\n",
    "        "
   ]
  },
  {
   "cell_type": "markdown",
   "id": "2b7075cc",
   "metadata": {},
   "source": [
    "### Question 10 : Create a function that graphically represents the four density estimates for these four kernels with the windows obtained via the \"thebesth\" function, and plot the reference density. We keep $n=1000$ for this question."
   ]
  },
  {
   "cell_type": "code",
   "execution_count": null,
   "id": "a769873e",
   "metadata": {},
   "outputs": [],
   "source": []
  },
  {
   "cell_type": "markdown",
   "id": "340b9485",
   "metadata": {},
   "source": [
    "### Question 11 : Execute this function with $mu1=0$, $mu2=5$ and $sigma1=sigma2=1$, $N=100$ and $h=0.75$. Choose the \"gaussian\" kernel."
   ]
  },
  {
   "cell_type": "code",
   "execution_count": null,
   "id": "216e96f0",
   "metadata": {},
   "outputs": [],
   "source": [
    "\n",
    "def estimatedensity(N,h,mu1,sigma1,mu2,sigma2,kernel):\n",
    "        # generate samples\n",
    "        X = np.concatenate((np.random.normal(mu1, sigma1, int(0.3 * N)),\n",
    "                            np.random.normal(mu2, sigma2, int(0.7 * N))))[:, np.newaxis]\n",
    "\n",
    "        # set the x interval\n",
    "        X_plot = np.linspace(-5, 10, 1000)[:, np.newaxis]\n",
    "\n",
    "        # mixture\n",
    "        true_density = (0.3 * norm(mu1,sigma1).pdf(X_plot[:,0]) + 0.7 * norm(mu2,sigma2).pdf(X_plot[:,0]))\n",
    "\n",
    "        # density estimation for X\n",
    "        kde = KernelDensity(kernel=kernel, bandwidth=h).fit(X)   \n",
    "\n",
    "\n",
    "        # density computation for X_plot\n",
    "        density = np.exp(kde.score_samples(X_plot))\n",
    "\n",
    "        # plotting\n",
    "        fig = plt.figure()\n",
    "        ax = fig.add_subplot(111)\n",
    "        ax.fill(X_plot[:,0], true_density, fc='b', alpha=0.2, label='True density')\n",
    "        ax.plot(X_plot[:,0], density, '-', label=\"Estimation\")\n",
    "        ax.plot(X[:, 0], -0.005 - 0.01 * np.random.random(X.shape[0]), '+k')\n",
    "        ax.legend(loc='upper left')\n",
    "        plt.show()            "
   ]
  },
  {
   "cell_type": "code",
   "execution_count": null,
   "id": "1e6a198c",
   "metadata": {},
   "outputs": [],
   "source": []
  },
  {
   "cell_type": "markdown",
   "id": "43db7fe8",
   "metadata": {},
   "source": [
    "### Question 12 : Vary $h$."
   ]
  },
  {
   "cell_type": "code",
   "execution_count": null,
   "id": "92bd03ee",
   "metadata": {},
   "outputs": [],
   "source": []
  },
  {
   "cell_type": "markdown",
   "id": "d6c11df3",
   "metadata": {},
   "source": [
    "### Question 13 : Vary $N$."
   ]
  },
  {
   "cell_type": "code",
   "execution_count": null,
   "id": "9c013756",
   "metadata": {},
   "outputs": [],
   "source": []
  },
  {
   "cell_type": "markdown",
   "id": "64510ed8",
   "metadata": {},
   "source": [
    "### Question 14 : Replace 'gaussian' by 'epanechnikov'. Comment"
   ]
  },
  {
   "cell_type": "code",
   "execution_count": null,
   "id": "e06771d6",
   "metadata": {},
   "outputs": [],
   "source": []
  }
 ],
 "metadata": {
  "kernelspec": {
   "display_name": "Python 3",
   "language": "python",
   "name": "python3"
  },
  "language_info": {
   "codemirror_mode": {
    "name": "ipython",
    "version": 3
   },
   "file_extension": ".py",
   "mimetype": "text/x-python",
   "name": "python",
   "nbconvert_exporter": "python",
   "pygments_lexer": "ipython3",
   "version": "3.8.10"
  }
 },
 "nbformat": 4,
 "nbformat_minor": 5
}
