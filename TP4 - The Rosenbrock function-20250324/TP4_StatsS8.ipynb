{
 "cells": [
  {
   "cell_type": "markdown",
   "id": "5d9796c4",
   "metadata": {
    "id": "df92630a"
   },
   "source": [
    "# TP4 - The Rosenbrock function"
   ]
  },
  {
   "cell_type": "code",
   "execution_count": null,
   "id": "afe89e14",
   "metadata": {
    "id": "dd6f44e8"
   },
   "outputs": [],
   "source": [
    "from typing import List\n",
    "\n",
    "import numpy as np\n",
    "import matplotlib.pyplot as plt\n",
    "from matplotlib import cm\n",
    "from matplotlib.ticker import LinearLocator, FormatStrFormatter\n",
    "\n",
    "# if matplotlib version is lower than 3.2.0, the following line is necessary.\n",
    "from mpl_toolkits.mplot3d import Axes3D"
   ]
  },
  {
   "cell_type": "code",
   "execution_count": null,
   "id": "a02fe68e",
   "metadata": {},
   "outputs": [],
   "source": [
    "def rosenbrock(X,a):\n",
    "    res=((1-X[0])**2 + a*a* (X[0]-X[1]**2)**2)\n",
    "    return res"
   ]
  },
  {
   "cell_type": "markdown",
   "id": "7d29797d",
   "metadata": {
    "id": "681dbec7"
   },
   "source": [
    "## Partie 1 -  Analyse graphique"
   ]
  },
  {
   "cell_type": "markdown",
   "id": "e07bcdc9",
   "metadata": {},
   "source": [
    "### Question 1"
   ]
  },
  {
   "cell_type": "code",
   "execution_count": null,
   "id": "a74ee6fd",
   "metadata": {
    "id": "61baeceb"
   },
   "outputs": [],
   "source": [
    "def graph_Rosenbrock(a,X,Y):\n"
   ]
  },
  {
   "cell_type": "markdown",
   "id": "004881dd",
   "metadata": {},
   "source": [
    "### Question 2"
   ]
  },
  {
   "cell_type": "code",
   "execution_count": null,
   "id": "ff463846",
   "metadata": {},
   "outputs": [],
   "source": []
  },
  {
   "cell_type": "markdown",
   "id": "32a4e42a",
   "metadata": {},
   "source": [
    "### Question 3"
   ]
  },
  {
   "cell_type": "code",
   "execution_count": null,
   "id": "c1385c02",
   "metadata": {
    "id": "994e95f2"
   },
   "outputs": [],
   "source": [
    "def graph_Rosenbrock_contour(a,X,Y,nb_lignes):\n",
    "    "
   ]
  },
  {
   "cell_type": "markdown",
   "id": "e3efb13b",
   "metadata": {},
   "source": [
    "### Question 4"
   ]
  },
  {
   "cell_type": "code",
   "execution_count": null,
   "id": "eeb1af69",
   "metadata": {},
   "outputs": [],
   "source": []
  },
  {
   "cell_type": "code",
   "execution_count": null,
   "id": "9c1d327c",
   "metadata": {},
   "outputs": [],
   "source": []
  },
  {
   "cell_type": "markdown",
   "id": "1fffa974",
   "metadata": {
    "id": "753d246a"
   },
   "source": [
    "## Partie 2 : Analyse symbolique\n"
   ]
  },
  {
   "cell_type": "code",
   "execution_count": null,
   "id": "e49d9b8a",
   "metadata": {},
   "outputs": [],
   "source": [
    "import sympy as sym"
   ]
  },
  {
   "cell_type": "markdown",
   "id": "4514f0da",
   "metadata": {},
   "source": [
    "### Question 1"
   ]
  },
  {
   "cell_type": "code",
   "execution_count": null,
   "id": "5bfea890",
   "metadata": {},
   "outputs": [],
   "source": []
  },
  {
   "cell_type": "markdown",
   "id": "22506395",
   "metadata": {},
   "source": [
    "### Question 2"
   ]
  },
  {
   "cell_type": "code",
   "execution_count": null,
   "id": "052c3a6f",
   "metadata": {},
   "outputs": [],
   "source": []
  },
  {
   "cell_type": "markdown",
   "id": "4ba62a04",
   "metadata": {},
   "source": [
    "### Question 3"
   ]
  },
  {
   "cell_type": "code",
   "execution_count": null,
   "id": "d55cd09a",
   "metadata": {},
   "outputs": [],
   "source": []
  },
  {
   "cell_type": "markdown",
   "id": "bcf3ec73",
   "metadata": {},
   "source": [
    "### Question 4"
   ]
  },
  {
   "cell_type": "code",
   "execution_count": null,
   "id": "79c2c4e4",
   "metadata": {},
   "outputs": [],
   "source": []
  },
  {
   "cell_type": "markdown",
   "id": "8bb8ad71",
   "metadata": {},
   "source": [
    "### Question 5"
   ]
  },
  {
   "cell_type": "code",
   "execution_count": null,
   "id": "e7e8f371",
   "metadata": {},
   "outputs": [],
   "source": []
  },
  {
   "cell_type": "markdown",
   "id": "59ec7ff8",
   "metadata": {},
   "source": [
    "### Question 6"
   ]
  },
  {
   "cell_type": "code",
   "execution_count": null,
   "id": "837d075d",
   "metadata": {},
   "outputs": [],
   "source": []
  },
  {
   "cell_type": "markdown",
   "id": "bc3df80f",
   "metadata": {},
   "source": [
    "### Question 7"
   ]
  },
  {
   "cell_type": "code",
   "execution_count": null,
   "id": "13ab004d",
   "metadata": {},
   "outputs": [],
   "source": []
  },
  {
   "cell_type": "code",
   "execution_count": null,
   "id": "215a74bd",
   "metadata": {},
   "outputs": [],
   "source": []
  },
  {
   "cell_type": "markdown",
   "id": "590bf59e",
   "metadata": {
    "id": "a2e42f92"
   },
   "source": [
    "## Partie 3 : Analyse numérique"
   ]
  },
  {
   "cell_type": "markdown",
   "id": "9d259140",
   "metadata": {},
   "source": [
    "### Question 1"
   ]
  },
  {
   "cell_type": "code",
   "execution_count": null,
   "id": "d6123794",
   "metadata": {
    "id": "2cc35f14"
   },
   "outputs": [],
   "source": [
    "def rosenbrock_grad(X):\n",
    "    "
   ]
  },
  {
   "cell_type": "code",
   "execution_count": null,
   "id": "9b66f293",
   "metadata": {},
   "outputs": [],
   "source": []
  },
  {
   "cell_type": "markdown",
   "id": "d055097a",
   "metadata": {},
   "source": [
    "### Question 2"
   ]
  },
  {
   "cell_type": "code",
   "execution_count": null,
   "id": "62c83faf",
   "metadata": {
    "colab": {
     "base_uri": "https://localhost:8080/",
     "height": 616
    },
    "id": "bb8adf39",
    "outputId": "7601bd26-b1a0-4c96-db71-11704a079fc2",
    "scrolled": false
   },
   "outputs": [],
   "source": [
    "X = np.arange(0, 1.5, 0.2)\n",
    "Y = np.arange(-1.5,1.5, 0.2)\n",
    "X, Y = np.meshgrid(X, Y)\n",
    "Z = rosenbrock([X, Y],1)\n",
    "\n",
    "x_init = [0.1, 0.9]\n",
    "\n",
    "fx = rosenbrock(x_init,1);\n",
    "gx = rosenbrock_grad(x_init);\n",
    "s = -gx;\n",
    "print(s)\n",
    "\n",
    "ns = np.sqrt(s[0]**2+s[1]**2)\n",
    "arrowxlen, arrowylen = s[0]/ns,s[1]/ns\n",
    "\n",
    "plt.figure(figsize=(12, 7))\n",
    "plt.contour(X,Y,Z,200)\n",
    "plt.plot([x_init[0]],[x_init[1]],marker='o',markersize=15, color ='r')\n",
    "plt.arrow(x_init[0],x_init[1], arrowxlen, arrowylen, head_width=0.2, head_length=0.1, fc='r', ec='r')\n",
    "plt.show()"
   ]
  },
  {
   "cell_type": "markdown",
   "id": "9f2942ce",
   "metadata": {},
   "source": [
    "### Question 3"
   ]
  },
  {
   "cell_type": "markdown",
   "id": "eb426248",
   "metadata": {},
   "source": []
  },
  {
   "cell_type": "markdown",
   "id": "4da60e8b",
   "metadata": {},
   "source": []
  },
  {
   "cell_type": "markdown",
   "id": "9815ca83",
   "metadata": {},
   "source": [
    "### Question 4"
   ]
  },
  {
   "cell_type": "code",
   "execution_count": null,
   "id": "ec699cd8",
   "metadata": {
    "id": "0de0f836"
   },
   "outputs": [],
   "source": [
    "def gradient_descent(J_grad, x_init, alpha, max_iterations, epsilon=1e-10):\n",
    "    "
   ]
  },
  {
   "cell_type": "code",
   "execution_count": null,
   "id": "cbf2e667",
   "metadata": {},
   "outputs": [],
   "source": []
  },
  {
   "cell_type": "markdown",
   "id": "8fcb1de5",
   "metadata": {},
   "source": [
    "### Question 5\n"
   ]
  },
  {
   "cell_type": "code",
   "execution_count": null,
   "id": "1cbfa0f9",
   "metadata": {},
   "outputs": [],
   "source": []
  },
  {
   "cell_type": "code",
   "execution_count": null,
   "id": "8ef532c7",
   "metadata": {},
   "outputs": [],
   "source": []
  },
  {
   "cell_type": "code",
   "execution_count": null,
   "id": "d2b92c85",
   "metadata": {},
   "outputs": [],
   "source": []
  },
  {
   "cell_type": "markdown",
   "id": "a2d42b79",
   "metadata": {},
   "source": [
    "### Question 6"
   ]
  },
  {
   "cell_type": "code",
   "execution_count": null,
   "id": "f808a2e2",
   "metadata": {
    "id": "f5465928"
   },
   "outputs": [],
   "source": [
    "def plot_trace_GD(iter_x, iter_y):\n",
    "\n",
    "    # Plotting the Rosenbrock function and the Gradient Descent iteration steps\n",
    "    X = np.linspace(0,   1.5, 20);\n",
    "    Y = np.linspace(-1.5,1.5, 40);\n",
    "    X, Y = np.meshgrid(X, Y);\n",
    "    Z = rosenbrock([X, Y],1);\n",
    "    #Angles needed for quiver plot\n",
    "    anglesx = iter_x[1:] - iter_x[:-1]\n",
    "    anglesy = iter_y[1:] - iter_y[:-1]\n",
    "    fig = plt.figure(figsize = (16,8))\n",
    "    #Surface plot\n",
    "    ax = fig.add_subplot(1, 2, 1, projection='3d')\n",
    "    ax.plot_surface(X,Y,Z,rstride = 5, cstride = 5, cmap = 'jet', alpha = .4, edgecolor = 'none' )\n",
    "    ax.plot(iter_x,iter_y, rosenbrock([iter_x, iter_y],1),color = 'r', marker = '*', alpha = .4)\n",
    "    ax.view_init(45, 280)\n",
    "    ax.set_xlabel('x')\n",
    "    ax.set_ylabel('y')\n",
    "    #Contour plot\n",
    "    ax = fig.add_subplot(1, 2, 2)\n",
    "    ax.contour(X,Y,Z, 50, cmap = 'jet')\n",
    "    #Plotting the iterations and intermediate iterate values\n",
    "    ax.scatter(iter_x,iter_y,color = 'r', marker = '*')\n",
    "    ax.quiver(iter_x[:-1], iter_y[:-1], anglesx, anglesy, scale_units = 'xy', angles = 'xy', scale = 1, color = 'r', alpha = .3)\n",
    "    ax.set_title('Gradient Descent with {} iterations'.format(iter_count))\n",
    "    plt.show()"
   ]
  },
  {
   "cell_type": "code",
   "execution_count": null,
   "id": "8b89d06c",
   "metadata": {
    "colab": {
     "base_uri": "https://localhost:8080/"
    },
    "id": "142a5e2b",
    "outputId": "cfdbe9b7-3d94-4606-e04a-b94685d9ba98"
   },
   "outputs": [],
   "source": [
    "# Gradient descent test\n",
    "x_init = np.array([0.1,0.9])\n",
    "alpha = 0.1\n",
    "max_iterations = 1000\n",
    "x, iter_x, iter_y, iter_count = gradient_descent(rosenbrock_grad, x_init, alpha, max_iterations)\n",
    "print(\"Final value:\",x)\n",
    "print(\"Number of iteration:\",iter_count,\"/\",max_iterations-1)"
   ]
  },
  {
   "cell_type": "code",
   "execution_count": null,
   "id": "32bae4a1",
   "metadata": {
    "colab": {
     "base_uri": "https://localhost:8080/",
     "height": 699
    },
    "id": "guhWW6mBuME9",
    "outputId": "2575a712-5a8d-4deb-ae88-994e09125949"
   },
   "outputs": [],
   "source": [
    "plot_trace_GD(iter_x, iter_y)"
   ]
  },
  {
   "cell_type": "code",
   "execution_count": null,
   "id": "b3b31cb8",
   "metadata": {},
   "outputs": [],
   "source": []
  },
  {
   "cell_type": "markdown",
   "id": "7df758fc",
   "metadata": {},
   "source": [
    "### Question 7"
   ]
  },
  {
   "cell_type": "markdown",
   "id": "07863b2f",
   "metadata": {},
   "source": []
  },
  {
   "cell_type": "markdown",
   "id": "1820b6b8",
   "metadata": {},
   "source": []
  },
  {
   "cell_type": "markdown",
   "id": "8d695ad5",
   "metadata": {},
   "source": [
    "### Question 8"
   ]
  },
  {
   "cell_type": "code",
   "execution_count": null,
   "id": "74dd425f",
   "metadata": {
    "id": "18705c93"
   },
   "outputs": [],
   "source": [
    "def gss(f, a, b, tol=1e-10):\n",
    "    phi = (np.sqrt(5) + 1) / 2\n",
    "    d = b - (b - a) / phi\n",
    "    c = a + (b - a) / phi\n",
    "\n",
    "    while abs(d - c) > tol:\n",
    "        if f(d) < f(c):\n",
    "            b = c\n",
    "        else:\n",
    "            a = d\n",
    "\n",
    "        d = b - (b - a) / phi\n",
    "        c = a + (b - a) / phi\n",
    "\n",
    "    return (a + b) / 2\n",
    "\n",
    "def gradient_descent_optimal(J, J_grad, x_init, max_iterations, epsilon=1e-10):\n",
    "    "
   ]
  },
  {
   "cell_type": "code",
   "execution_count": null,
   "id": "8742d45a",
   "metadata": {},
   "outputs": [],
   "source": []
  },
  {
   "cell_type": "code",
   "execution_count": null,
   "id": "916b4741",
   "metadata": {},
   "outputs": [],
   "source": []
  },
  {
   "cell_type": "markdown",
   "id": "b82f83a2",
   "metadata": {},
   "source": [
    "### Question 9"
   ]
  },
  {
   "cell_type": "code",
   "execution_count": null,
   "id": "316c7820",
   "metadata": {},
   "outputs": [],
   "source": []
  },
  {
   "cell_type": "code",
   "execution_count": null,
   "id": "bf73a432",
   "metadata": {},
   "outputs": [],
   "source": []
  },
  {
   "cell_type": "code",
   "execution_count": null,
   "id": "524a2cb7",
   "metadata": {},
   "outputs": [],
   "source": []
  },
  {
   "cell_type": "markdown",
   "id": "c31e1231",
   "metadata": {},
   "source": [
    "### Question 10"
   ]
  },
  {
   "cell_type": "code",
   "execution_count": null,
   "id": "3c14ffa8",
   "metadata": {},
   "outputs": [],
   "source": []
  },
  {
   "cell_type": "code",
   "execution_count": null,
   "id": "8e7490ee",
   "metadata": {},
   "outputs": [],
   "source": []
  }
 ],
 "metadata": {
  "colab": {
   "provenance": []
  },
  "kernelspec": {
   "display_name": "Python 3",
   "language": "python",
   "name": "python3"
  },
  "language_info": {
   "codemirror_mode": {
    "name": "ipython",
    "version": 3
   },
   "file_extension": ".py",
   "mimetype": "text/x-python",
   "name": "python",
   "nbconvert_exporter": "python",
   "pygments_lexer": "ipython3",
   "version": "3.8.10"
  }
 },
 "nbformat": 4,
 "nbformat_minor": 5
}
